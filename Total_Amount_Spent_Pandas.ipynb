{
  "nbformat": 4,
  "nbformat_minor": 0,
  "metadata": {
    "colab": {
      "provenance": [],
      "authorship_tag": "ABX9TyMK6d9nA7lavbGAm+MUwq2R",
      "include_colab_link": true
    },
    "kernelspec": {
      "name": "python3",
      "display_name": "Python 3"
    },
    "language_info": {
      "name": "python"
    }
  },
  "cells": [
    {
      "cell_type": "markdown",
      "metadata": {
        "id": "view-in-github",
        "colab_type": "text"
      },
      "source": [
        "<a href=\"https://colab.research.google.com/github/vinaydonthojuaiml/python-programs/blob/main/Total_Amount_Spent_Pandas.ipynb\" target=\"_parent\"><img src=\"https://colab.research.google.com/assets/colab-badge.svg\" alt=\"Open In Colab\"/></a>"
      ]
    },
    {
      "cell_type": "code",
      "execution_count": 2,
      "metadata": {
        "colab": {
          "base_uri": "https://localhost:8080/"
        },
        "id": "TO9S1AIhHX_v",
        "outputId": "c5bcb6f9-a457-4072-9ae1-97cd04d21b5a"
      },
      "outputs": [
        {
          "output_type": "stream",
          "name": "stdout",
          "text": [
            "Total Amount Spent By Customer: CustomerID\n",
            "1    30\n",
            "2    60\n",
            "3    45\n",
            "4    25\n",
            "5    30\n",
            "Name: Price, dtype: int64\n"
          ]
        }
      ],
      "source": [
        "data = {\n",
        "    'CustomerID': [1, 2, 1, 3, 2, 1, 4, 3, 5, 2, 3],\n",
        "    'TransactionDate': ['2021-01-01', '2021-01-02', '2021-01-03', '2021-01-04', '2021-01-05',\n",
        "                        '2021-01-06', '2021-01-07', '2021-01-08', '2021-01-09', '2021-01-10', '2021-01-11'],\n",
        "    'ProductID': [101, 102, 101, 103, 102, 101, 104, 103, 105, 102, 103],\n",
        "    'Quantity': [2, 1, 3, 2, 2, 1, 1, 1, 2, 1, 3],\n",
        "    'Price': [10, 20, 10, 15, 20, 10, 25, 15, 30, 20, 15]\n",
        "}\n",
        "\n",
        "import pandas as pd\n",
        "\n",
        "\n",
        "# Calculate the total amount spent by each customer.\n",
        "#Identify the top 5 customers who have spent the most.\n",
        "#For each of these top 5 customers, determine their most frequently purchased product.\n",
        "#Create a summary DataFrame that includes CustomerID, TotalSpent, and MostFrequentProduct for these top 5 customers.\n",
        "\n",
        "\n",
        "orders = pd.DataFrame(data)\n",
        "\n",
        "# Calculate the total amount spent by each customer.\n",
        "\n",
        "total_amount_spent_by_customer = orders.groupby('CustomerID')['Price'].sum()\n",
        "print(\"Total Amount Spent By Customer:\",total_amount_spent_by_customer)\n"
      ]
    },
    {
      "cell_type": "code",
      "source": [
        "#Identify the top 5 customers who have spent the most.\n",
        "\n",
        "top_5_customers = total_amount_spent_by_customer.sort_values(ascending=False).head(5)\n",
        "\n",
        "print(\"Top 5 Customers:\",top_5_customers)"
      ],
      "metadata": {
        "colab": {
          "base_uri": "https://localhost:8080/"
        },
        "id": "gX_ivDPaIZhu",
        "outputId": "52ed3116-3cba-4119-8324-4a509854c9a8"
      },
      "execution_count": 7,
      "outputs": [
        {
          "output_type": "stream",
          "name": "stdout",
          "text": [
            "Top 5 Customers: CustomerID\n",
            "2    60\n",
            "3    45\n",
            "1    30\n",
            "5    30\n",
            "4    25\n",
            "Name: Price, dtype: int64\n"
          ]
        }
      ]
    },
    {
      "cell_type": "code",
      "source": [
        "#Determine the most frequently purchased product for each of these top 5 customers\n",
        "\n",
        "most_frequest_purchased_product = orders.groupby('CustomerID')['ProductID'].apply(lambda x:x.mode().iloc[0])\n",
        "\n",
        "print(\"most_frequest_purchased_product:\",most_frequest_purchased_product)"
      ],
      "metadata": {
        "colab": {
          "base_uri": "https://localhost:8080/"
        },
        "id": "5AFIp3zSIuJq",
        "outputId": "5988b4f0-b98b-4206-ab0b-5b14e3babd11"
      },
      "execution_count": 10,
      "outputs": [
        {
          "output_type": "stream",
          "name": "stdout",
          "text": [
            "most_frequest_purchased_product: CustomerID\n",
            "1    101\n",
            "2    102\n",
            "3    103\n",
            "4    104\n",
            "5    105\n",
            "Name: ProductID, dtype: int64\n"
          ]
        }
      ]
    },
    {
      "cell_type": "code",
      "source": [
        "#Create a summary DataFrame that includes CustomerID, TotalSpent, and MostFrequentProduct for these top 5 customers.\n",
        "\n",
        "summary_df = pd.DataFrame({\n",
        "    'CustomerID' : top_5_customers.index,\n",
        "    'TotalSpent' : top_5_customers.values,\n",
        "    'MostFrequentProduct': most_frequest_purchased_product.reindex(top_5_customers.index)\n",
        "\n",
        "})\n",
        "\n",
        "print(\"summary_df:\",summary_df)"
      ],
      "metadata": {
        "colab": {
          "base_uri": "https://localhost:8080/"
        },
        "id": "qFoSorTXJt-D",
        "outputId": "dc598f88-4eee-4d1c-e1f9-8cb107cf34c1"
      },
      "execution_count": 11,
      "outputs": [
        {
          "output_type": "stream",
          "name": "stdout",
          "text": [
            "summary_df:             CustomerID  TotalSpent  MostFrequentProduct\n",
            "CustomerID                                             \n",
            "2                    2          60                  102\n",
            "3                    3          45                  103\n",
            "1                    1          30                  101\n",
            "5                    5          30                  105\n",
            "4                    4          25                  104\n"
          ]
        }
      ]
    },
    {
      "cell_type": "code",
      "source": [],
      "metadata": {
        "id": "mMvw2_NBK3DO"
      },
      "execution_count": null,
      "outputs": []
    }
  ]
}