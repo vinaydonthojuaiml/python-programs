{
  "nbformat": 4,
  "nbformat_minor": 0,
  "metadata": {
    "colab": {
      "provenance": [],
      "authorship_tag": "ABX9TyOTdIWh9aCrcyYCY4EuzlXF",
      "include_colab_link": true
    },
    "kernelspec": {
      "name": "python3",
      "display_name": "Python 3"
    },
    "language_info": {
      "name": "python"
    }
  },
  "cells": [
    {
      "cell_type": "markdown",
      "metadata": {
        "id": "view-in-github",
        "colab_type": "text"
      },
      "source": [
        "<a href=\"https://colab.research.google.com/github/vinaydonthojuaiml/python-programs/blob/main/regex_hyperlink_removal.ipynb\" target=\"_parent\"><img src=\"https://colab.research.google.com/assets/colab-badge.svg\" alt=\"Open In Colab\"/></a>"
      ]
    },
    {
      "cell_type": "code",
      "execution_count": 4,
      "metadata": {
        "colab": {
          "base_uri": "https://localhost:8080/"
        },
        "id": "Vthu7BgODtbd",
        "outputId": "8cbd516c-e9c4-4ff1-a2fc-68ea4232e3b3"
      },
      "outputs": [
        {
          "output_type": "stream",
          "name": "stdout",
          "text": [
            "I enjoyd the event which took place yesterday &amp; I luvd it ! The link to the show is  Tt's awesom you'll luv it HadFun Enjoyed BFN GN\n"
          ]
        }
      ],
      "source": [
        "import regex as re\n",
        "\n",
        "tweet = \"I enjoyd the event which took place yesterday &amp; I luvd it ! The link to the show is http://t.co/4ftYom0i Tt's awesom you'll luv it #HadFun #Enjoyed BFN GN\"\n",
        "\n",
        "pattern = r\"http[s]?://\\S+\"\n",
        "tweet2 = re.sub(pattern, '',tweet)\n",
        "tweet3 = re.sub('#','',tweet2)\n",
        "print(tweet3)"
      ]
    },
    {
      "cell_type": "code",
      "source": [],
      "metadata": {
        "id": "2OrznBKmD7Jt"
      },
      "execution_count": null,
      "outputs": []
    }
  ]
}