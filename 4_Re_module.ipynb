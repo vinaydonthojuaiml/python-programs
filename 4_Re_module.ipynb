{
  "cells": [
    {
      "cell_type": "markdown",
      "metadata": {
        "id": "view-in-github",
        "colab_type": "text"
      },
      "source": [
        "<a href=\"https://colab.research.google.com/github/vinaydonthojuaiml/python-programs/blob/main/4_Re_module.ipynb\" target=\"_parent\"><img src=\"https://colab.research.google.com/assets/colab-badge.svg\" alt=\"Open In Colab\"/></a>"
      ]
    },
    {
      "cell_type": "markdown",
      "id": "3a62d36b",
      "metadata": {
        "id": "3a62d36b"
      },
      "source": [
        "![Capture.PNG](attachment:Capture.PNG)"
      ]
    },
    {
      "cell_type": "markdown",
      "id": "7a4aa3ae",
      "metadata": {
        "id": "7a4aa3ae"
      },
      "source": [
        "![re.PNG](attachment:re.PNG)"
      ]
    },
    {
      "cell_type": "markdown",
      "id": "36bcf46f",
      "metadata": {
        "id": "36bcf46f"
      },
      "source": [
        "# 1. re.findall()"
      ]
    },
    {
      "cell_type": "markdown",
      "id": "4462a04e",
      "metadata": {
        "id": "4462a04e"
      },
      "source": [
        "re.findall()\n",
        "Return all non-overlapping matches of pattern in string, as a list of strings.\n",
        "The string is scanned left-to-right, and matches are returned in the order found."
      ]
    },
    {
      "cell_type": "code",
      "execution_count": null,
      "id": "fba13fdd",
      "metadata": {
        "id": "fba13fdd",
        "outputId": "7188e1c1-d678-41e0-dd3f-016668ba62b6"
      },
      "outputs": [
        {
          "name": "stdout",
          "output_type": "stream",
          "text": [
            "['123456789', '987654321', '8746436']\n"
          ]
        }
      ],
      "source": [
        "import re\n",
        "string = \"\"\"Hello my Number is 123456789 and\n",
        "            my friend's number is 987654321 8746436\"\"\"\n",
        "regex = '\\d+'\n",
        "match = re.findall(regex, string)\n",
        "print(match)"
      ]
    },
    {
      "cell_type": "markdown",
      "id": "c594c5f6",
      "metadata": {
        "id": "c594c5f6"
      },
      "source": [
        "re.compile()\n",
        "Regular expressions are compiled into pattern objects, which have methods for various operations such as\n",
        "searching for pattern matches or performing string substitutions."
      ]
    },
    {
      "cell_type": "markdown",
      "id": "bf6ff6b9",
      "metadata": {
        "id": "bf6ff6b9"
      },
      "source": [
        "# 2. re.compile()"
      ]
    },
    {
      "cell_type": "markdown",
      "id": "0556ee1b",
      "metadata": {
        "id": "0556ee1b"
      },
      "source": [
        "Regular expressions are compiled into pattern objects, which have methods for various operations such as searching\n",
        "for pattern matches or performing string substitutions."
      ]
    },
    {
      "cell_type": "code",
      "execution_count": null,
      "id": "8742d55d",
      "metadata": {
        "id": "8742d55d",
        "outputId": "e6cbbde3-9ec2-4207-9631-893112da6ae2"
      },
      "outputs": [
        {
          "name": "stdout",
          "output_type": "stream",
          "text": [
            "['H', 'e', 's', 'a', 'i', 'd', 'i', 'n', 's', 'o', 'm', 'e', '_', 'l', 'a', 'n', 'g']\n",
            "['I', 'went', 'to', 'him', 'at', '11', 'A', 'M', 'he', 'said', 'in', 'some_language']\n",
            "[' ', ' ', '*', '*', '*', ' ', ' ', '.']\n"
          ]
        }
      ],
      "source": [
        "import re\n",
        "\n",
        "# \\w is equivalent to [a-zA-Z0-9_].\n",
        "p = re.compile('\\w')\n",
        "print(p.findall(\"He said * in some_lang.\"))\n",
        "\n",
        "# \\w+ matches to group of alphanumeric character.\n",
        "p = re.compile('\\w+')\n",
        "print(p.findall(\"I went to him at 11 A.M., he \\\n",
        "said *** in some_language.\"))\n",
        "\n",
        "# \\W matches to non alphanumeric characters.\n",
        "p = re.compile('\\W')\n",
        "print(p.findall(\"he said *** in some_language.\"))\n"
      ]
    },
    {
      "cell_type": "markdown",
      "id": "aa7dae66",
      "metadata": {
        "id": "aa7dae66"
      },
      "source": [
        "# 3. re.sub()"
      ]
    },
    {
      "cell_type": "markdown",
      "id": "774477ca",
      "metadata": {
        "id": "774477ca"
      },
      "source": [
        "The ‘sub’ in the function stands for SubString, a certain regular expression pattern is searched in the given\n",
        "string(3rd parameter), and upon finding the substring pattern is replaced by repl(2nd parameter),\n",
        "count checks and maintains the number of times this occurs."
      ]
    },
    {
      "cell_type": "code",
      "execution_count": null,
      "id": "5d62e695",
      "metadata": {
        "id": "5d62e695",
        "outputId": "b438d637-4086-44a8-d96a-f38303fff9c3"
      },
      "outputs": [
        {
          "name": "stdout",
          "output_type": "stream",
          "text": [
            "S##ject has ##er booked already\n",
            "S##ject has Uber booked already\n",
            "S##ject has Uber booked already\n",
            "Baked Beans & Spam And\n"
          ]
        }
      ],
      "source": [
        "# re.sub(pattern, repl, string, count=0, flags=0)\n",
        "\n",
        "import re\n",
        "\n",
        "# Regular Expression pattern 'ub' matches the\n",
        "# string at \"Subject\" and \"Uber\". As the CASE\n",
        "# has been ignored, using Flag, 'ub' should\n",
        "# match twice with the string Upon matching,\n",
        "# 'ub' is replaced by '~*' in \"Subject\", and\n",
        "# in \"Uber\", 'Ub' is replaced.\n",
        "print(re.sub('ub', '##', 'Subject has Uber booked already',\n",
        "\t\t\tflags=re.IGNORECASE))\n",
        "\n",
        "# Consider the Case Sensitivity, 'Ub' in\n",
        "# \"Uber\", will not be replaced.\n",
        "print(re.sub('ub', '##', 'Subject has Uber booked already'))\n",
        "\n",
        "# As count has been given value 1, the maximum\n",
        "# times replacement occurs is 1\n",
        "print(re.sub('ub', '##', 'Subject has Uber booked already',\n",
        "\t\t\tcount=1, flags=re.IGNORECASE))\n",
        "\n",
        "# 'r' before the pattern denotes RE, \\s is for\n",
        "# start and end of a String.whatever we will write inbetwwen the string\\s and \\s it will be replaced.\n",
        "print(re.sub(r'\\sand\\s', ' & ', 'Baked Beans And Spam And',\n",
        "\t\t\tflags=re.IGNORECASE))\n"
      ]
    },
    {
      "cell_type": "code",
      "execution_count": null,
      "id": "b8768695",
      "metadata": {
        "id": "b8768695",
        "outputId": "00532fa3-39d7-4359-c763-f4a9e29fd80b"
      },
      "outputs": [
        {
          "name": "stdout",
          "output_type": "stream",
          "text": [
            "Baked Beans are better And Spam AND good\n"
          ]
        }
      ],
      "source": [
        "print(re.sub(r'\\sgood\\s', ' better ', 'Baked Beans are good And Spam AND good',\n",
        "\t\t\tflags=re.IGNORECASE))"
      ]
    },
    {
      "cell_type": "markdown",
      "id": "cb7219cf",
      "metadata": {
        "id": "cb7219cf"
      },
      "source": [
        "# 4. re.subn()"
      ]
    },
    {
      "cell_type": "markdown",
      "id": "db4685c2",
      "metadata": {
        "id": "db4685c2"
      },
      "source": [
        "subn() is similar to sub() in all ways, except in its way of providing output. It returns\n",
        "a tuple with a count of the total of replacement and the new string rather than just the string"
      ]
    },
    {
      "cell_type": "code",
      "execution_count": null,
      "id": "201b90ec",
      "metadata": {
        "id": "201b90ec",
        "outputId": "40b1946a-de10-4f4c-deee-cebbc55582b4"
      },
      "outputs": [
        {
          "name": "stdout",
          "output_type": "stream",
          "text": [
            "('S##ject has Uber booked already', 1)\n",
            "('S##ject has ##er booked already', 2)\n",
            "2\n",
            "S##ject has ##er booked already\n",
            "2\n"
          ]
        }
      ],
      "source": [
        "import re\n",
        "\n",
        "print(re.subn('ub', '##', 'Subject has Uber booked already'))\n",
        "\n",
        "t = re.subn('ub', '##', 'Subject has Uber booked already',\n",
        "\t\t\tflags=re.IGNORECASE)\n",
        "print(t)\n",
        "print(len(t))\n",
        "\n",
        "# This will give same output as sub() would have\n",
        "print(t[0])\n",
        "print(t[1])"
      ]
    },
    {
      "cell_type": "code",
      "execution_count": null,
      "id": "3812556c",
      "metadata": {
        "id": "3812556c",
        "outputId": "7954aed1-b8ad-43cf-bedb-17f2d3b7d9dc"
      },
      "outputs": [
        {
          "name": "stdout",
          "output_type": "stream",
          "text": [
            "('S@@ject has Uber booked already', 1)\n",
            "2\n"
          ]
        },
        {
          "data": {
            "text/plain": [
              "'S@@ject has @@er booked already'"
            ]
          },
          "execution_count": 7,
          "metadata": {},
          "output_type": "execute_result"
        }
      ],
      "source": [
        "print(re.subn('ub', '@@', 'Subject has Uber booked already'))\n",
        "t= re.subn('ub', '@@', 'Subject has Uber booked already',flags=re.IGNORECASE)\n",
        "print(len(t))\n",
        "t[1]\n",
        "t[0]"
      ]
    },
    {
      "cell_type": "markdown",
      "id": "aa1931c5",
      "metadata": {
        "id": "aa1931c5"
      },
      "source": [
        "# 5. re.search()"
      ]
    },
    {
      "cell_type": "markdown",
      "id": "e5a92f3a",
      "metadata": {
        "id": "e5a92f3a"
      },
      "source": [
        "This method either returns None (if the pattern doesn’t match),\n",
        "or a re.MatchObject contains information about the matching part of the string.\n",
        "This method stops after the first match, so this is best suited for testing a regular expression more than extracting data.\n",
        "\n"
      ]
    },
    {
      "cell_type": "code",
      "execution_count": null,
      "id": "92333d11",
      "metadata": {
        "id": "92333d11",
        "outputId": "d16f3479-6676-4d2e-ceed-c09d194401f9"
      },
      "outputs": [
        {
          "name": "stdout",
          "output_type": "stream",
          "text": [
            "Match at index 14, 21\n",
            "Full match: June 30\n",
            "Month: June\n",
            "Day: 30\n"
          ]
        }
      ],
      "source": [
        "# A Python program to demonstrate working of re.match().\n",
        "import re\n",
        "\n",
        "# Lets use a regular expression to match a date string\n",
        "# in the form of Month name followed by day number\n",
        "regex = r\"([a-zA-Z]+) (\\d+)\"\n",
        "\n",
        "match = re.search(regex, \"I was born on June 30\")\n",
        "\n",
        "if match != None:\n",
        "\n",
        "\t# We reach here when the expression \"([a-zA-Z]+) (\\d+)\"\n",
        "\t# matches the date string.\n",
        "\n",
        "\t# This will print [14, 21), since it matches at index 14\n",
        "\t# and ends at 21.\n",
        "\tprint (\"Match at index %s, %s\" % (match.start(), match.end()))\n",
        "\n",
        "\t# We use group() method to get all the matches and\n",
        "\t# captured groups. The groups contain the matched values.\n",
        "\t# In particular:\n",
        "\t# match.group(0) always returns the fully matched string\n",
        "\t# match.group(1) match.group(2), ... return the capture\n",
        "\t# groups in order from left to right in the input string\n",
        "\t# match.group() is equivalent to match.group(0)\n",
        "\n",
        "\t# So this will print \"June 24\"\n",
        "\tprint (\"Full match: %s\" % (match.group(0)))\n",
        "\n",
        "\t# So this will print \"June\"\n",
        "\tprint (\"Month: %s\" % (match.group(1)))\n",
        "\n",
        "\t# So this will print \"24\"\n",
        "\tprint (\"Day: %s\" % (match.group(2)))\n",
        "\n",
        "else:\n",
        "\tprint (\"The regex pattern does not match.\")\n"
      ]
    },
    {
      "cell_type": "code",
      "execution_count": null,
      "id": "24b3fd21",
      "metadata": {
        "id": "24b3fd21"
      },
      "outputs": [],
      "source": [
        "r\"([a-zA-Z]+) (\\d+)\"\n",
        "s=\"I was born on June 34\""
      ]
    },
    {
      "cell_type": "markdown",
      "id": "eaa80c1c",
      "metadata": {
        "id": "eaa80c1c"
      },
      "source": [
        "# Examples"
      ]
    },
    {
      "cell_type": "code",
      "execution_count": null,
      "id": "e3c092e0",
      "metadata": {
        "id": "e3c092e0"
      },
      "outputs": [],
      "source": [
        "comment = \"This is an great article @Bharath. You have explained the complex topic in a very simplistic manner.@Yashwant, you might find this article to be useful.\""
      ]
    },
    {
      "cell_type": "code",
      "execution_count": null,
      "id": "d3ff1e8b",
      "metadata": {
        "id": "d3ff1e8b",
        "outputId": "47b685ca-9279-4b6b-dea5-c13d1c5e6c3e"
      },
      "outputs": [
        {
          "data": {
            "text/plain": [
              "['Bharath', 'Yashwant']"
            ]
          },
          "execution_count": 13,
          "metadata": {},
          "output_type": "execute_result"
        }
      ],
      "source": [
        "re.findall(r'@(\\w+)', comment)"
      ]
    },
    {
      "cell_type": "code",
      "execution_count": null,
      "id": "64a27527",
      "metadata": {
        "id": "64a27527",
        "outputId": "23ec7ae9-250a-4712-d028-9c28951f453f"
      },
      "outputs": [
        {
          "data": {
            "text/plain": [
              "['Bharath', 'Yashwant']"
            ]
          },
          "execution_count": 12,
          "metadata": {},
          "output_type": "execute_result"
        }
      ],
      "source": [
        "re.findall('@([a-zA-Z]+)', comment)"
      ]
    },
    {
      "cell_type": "code",
      "execution_count": null,
      "id": "0bfbfc6a",
      "metadata": {
        "id": "0bfbfc6a"
      },
      "outputs": [],
      "source": [
        "#Let’s create a regex pattern that can be used to search all the usernames tagged in the comment."
      ]
    },
    {
      "cell_type": "code",
      "execution_count": null,
      "id": "a76a340e",
      "metadata": {
        "id": "a76a340e"
      },
      "outputs": [],
      "source": [
        "#re.findall('@[a-zA-Z]+', comment)"
      ]
    },
    {
      "cell_type": "code",
      "execution_count": null,
      "id": "1e568a38",
      "metadata": {
        "id": "1e568a38"
      },
      "outputs": [],
      "source": []
    },
    {
      "cell_type": "code",
      "execution_count": null,
      "id": "e50b1721",
      "metadata": {
        "id": "e50b1721"
      },
      "outputs": [],
      "source": []
    },
    {
      "cell_type": "markdown",
      "id": "b113fdbd",
      "metadata": {
        "id": "b113fdbd"
      },
      "source": [
        "**Question :How can you extract all email addresses from a given string using regular expressions in Python\n",
        "text = \"Please contact me at john.doe@example.com or jane_smith@example.co.uk\"**"
      ]
    },
    {
      "cell_type": "code",
      "execution_count": null,
      "id": "3a6d5dbc",
      "metadata": {
        "id": "3a6d5dbc"
      },
      "outputs": [],
      "source": []
    },
    {
      "cell_type": "code",
      "execution_count": null,
      "id": "cd833cd1",
      "metadata": {
        "id": "cd833cd1",
        "outputId": "69e1d98d-0675-4e35-c205-a922cf6d0077"
      },
      "outputs": [
        {
          "name": "stdout",
          "output_type": "stream",
          "text": [
            "['john.doe@example.com', 'jane_smith@example.co.uk', 'himanshusingh8701@gmail.com']\n"
          ]
        }
      ],
      "source": [
        "import re\n",
        "\n",
        "def extract_email_addresses(text):\n",
        "    pattern = r'\\b[A-Za-z0-9._%+-]+@[A-Za-z0-9.-]+\\.[A-Z|a-z]{2,}\\b'\n",
        "    emails = re.findall(pattern, text)\n",
        "    return emails\n",
        "\n",
        "# Example usage\n",
        "text = \"Please contact me at john.doe@example.com or jane_smith@example.co.uk\"\n",
        "email_addresses = extract_email_addresses(text)\n",
        "print(email_addresses)"
      ]
    },
    {
      "cell_type": "code",
      "execution_count": null,
      "id": "bc372e0a",
      "metadata": {
        "id": "bc372e0a"
      },
      "outputs": [],
      "source": [
        "#[A-Z|a-z]{2,} matches two or more occurrences of uppercase or lowercase letters. This represents the top-level domain (TLD)\n",
        "#of the email address, such as '.com', '.co.uk', '.edu', etc. The {2,} ensures that the TLD has at least two letters.\n",
        "#\\b is another word boundary anchor, ensuring that the email address is a standalone word."
      ]
    }
  ],
  "metadata": {
    "kernelspec": {
      "display_name": "Python 3 (ipykernel)",
      "language": "python",
      "name": "python3"
    },
    "language_info": {
      "codemirror_mode": {
        "name": "ipython",
        "version": 3
      },
      "file_extension": ".py",
      "mimetype": "text/x-python",
      "name": "python",
      "nbconvert_exporter": "python",
      "pygments_lexer": "ipython3",
      "version": "3.9.7"
    },
    "colab": {
      "provenance": [],
      "include_colab_link": true
    }
  },
  "nbformat": 4,
  "nbformat_minor": 5
}