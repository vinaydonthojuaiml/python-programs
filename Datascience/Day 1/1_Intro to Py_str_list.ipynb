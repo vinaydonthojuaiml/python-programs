{
 "cells": [
  {
   "cell_type": "markdown",
   "metadata": {},
   "source": [
    "# 1. Why learn Python?\n"
   ]
  },
  {
   "cell_type": "code",
   "execution_count": null,
   "metadata": {},
   "outputs": [],
   "source": [
    "Python is very simple to pick up;\n",
    "Packages useful for ML are available in Python;\n",
    "Jupyter Notebooks for interactive programming;\n",
    "Extensively used in the industry;\n",
    "Python is much more general purpose programming language;\n",
    "\n",
    "Module(.py)>package(pandas,numpy)>library(Matplotlin, request,sklearn)>framework(Flask,Django)"
   ]
  },
  {
   "cell_type": "code",
   "execution_count": null,
   "metadata": {},
   "outputs": [],
   "source": []
  },
  {
   "cell_type": "markdown",
   "metadata": {},
   "source": [
    "# 2. Keywords and identifiers"
   ]
  },
  {
   "cell_type": "code",
   "execution_count": null,
   "metadata": {},
   "outputs": [],
   "source": [
    "Keywords:\n",
    "Keywords are the reserved words in python;\n",
    "We can’t use a keyword as variable name, function name or any other identifier;\n",
    "Keywords are case sensitive;\n",
    "[Import keyword]\n",
    "Example: False, None, True, class, if, else, return, def, try, while, for, etc\n",
    "Total number of keywords: 33\n",
    "\n",
    "  \n",
    "Identifiers:\n",
    "Name given to entities like class, functions and variables\n",
    "Can be a combination of letters, digits and underscores, cannot start with a digit\n",
    "Keywords cannot be used as identifiers, special characters cannot be used\n",
    "Python has straight forward Error indications;"
   ]
  },
  {
   "attachments": {
    "download.png": {
     "image/png": "[encoded data removed]"
    }
   },
   "cell_type": "markdown",
   "metadata": {},
   "source": [
    "![download.png](attachment:download.png)"
   ]
  },
  {
   "cell_type": "markdown",
   "metadata": {},
   "source": [
    "# 3.Comments, indentations and statements"
   ]
  },
  {
   "cell_type": "code",
   "execution_count": null,
   "metadata": {},
   "outputs": [],
   "source": [
    "#giudjsd\n",
    "Start a line with a # or use triple quotes, ‘’’ ‘’’\n",
    "Indentations are used (4 spaces preferred) to make blocks of code, a for loop\n",
    "Rather than writing code in a single line try to write in multiple lines (can use \\) to make\n",
    "code readable\n",
    "The written instructions are called statements"
   ]
  },
  {
   "cell_type": "markdown",
   "metadata": {},
   "source": [
    "# 4.Variables and data types in python"
   ]
  },
  {
   "cell_type": "code",
   "execution_count": 1,
   "metadata": {},
   "outputs": [
    {
     "name": "stdout",
     "output_type": "stream",
     "text": [
      "5\n"
     ]
    }
   ],
   "source": [
    "a=5\n",
    "print(a)"
   ]
  },
  {
   "cell_type": "code",
   "execution_count": 6,
   "metadata": {},
   "outputs": [
    {
     "data": {
      "text/plain": [
       "1293070891184"
      ]
     },
     "execution_count": 6,
     "metadata": {},
     "output_type": "execute_result"
    }
   ],
   "source": [
    "#Variable is a location in memory used to store some data; Variable declaration is not\n",
    "#needed\n",
    "#f=45\n",
    "#\n",
    "x,z,y,ab,re = 98,97,\"Himanshu\",87,98 \n",
    "a,b,c = 5,\"Hi\",40\n",
    "id() #prints location of a"
   ]
  },
  {
   "cell_type": "code",
   "execution_count": 7,
   "metadata": {},
   "outputs": [
    {
     "data": {
      "text/plain": [
       "1294927530864"
      ]
     },
     "execution_count": 7,
     "metadata": {},
     "output_type": "execute_result"
    }
   ],
   "source": [
    "a,b,c,d=10,\"himanshu\",8.45,\"name\"\n",
    "id(b)"
   ]
  },
  {
   "cell_type": "markdown",
   "metadata": {},
   "source": [
    "# Data types:"
   ]
  },
  {
   "cell_type": "code",
   "execution_count": null,
   "metadata": {},
   "outputs": [],
   "source": [
    "Everything in python is an object;\n",
    "\n",
    "Number: Integers, float and complex\n",
    "Boolean: True and False(0/1)\n",
    "    \n",
    "Strings: Sequence of Unicode characters, defined with quotes, indexable, slicable\n",
    "    \n",
    "List: An ordered sequence of items, like an array, can have multiple data type\n",
    "elements, defined with square brackets; Lists are mutable\n",
    "\n",
    "Tuple: Defined with parenthesis, can have multiple data type elements, tuple is\n",
    "immutable, can be indexable\n",
    "\n",
    "Set: Defined with Curly braces, Set is an unordered collection of unique items;\n",
    "behaves as a set in mathematics; does not support indexing\n",
    "\n",
    "Dictionary: an unordered collection of key-value pairs, defined with curly braces\n",
    "and a colon, value accessible with key\n",
    "\n",
    "Data types can be converted provided the value is valid in both data types;\n",
    "List(‘Hello’) = [‘H’,’e’,’l’,’l’,’o’]"
   ]
  },
  {
   "cell_type": "code",
   "execution_count": 8,
   "metadata": {},
   "outputs": [],
   "source": [
    "a=[2,3,4,\"Himanshu\",\"$\",8,[9,8]]"
   ]
  },
  {
   "cell_type": "code",
   "execution_count": 14,
   "metadata": {},
   "outputs": [],
   "source": [
    "b=2,3,4,\"Himanshu\",\"$\",8"
   ]
  },
  {
   "cell_type": "code",
   "execution_count": 11,
   "metadata": {},
   "outputs": [
    {
     "data": {
      "text/plain": [
       "list"
      ]
     },
     "execution_count": 11,
     "metadata": {},
     "output_type": "execute_result"
    }
   ],
   "source": [
    "type(a)"
   ]
  },
  {
   "cell_type": "code",
   "execution_count": 12,
   "metadata": {},
   "outputs": [
    {
     "data": {
      "text/plain": [
       "tuple"
      ]
     },
     "execution_count": 12,
     "metadata": {},
     "output_type": "execute_result"
    }
   ],
   "source": [
    "type(b)"
   ]
  },
  {
   "cell_type": "markdown",
   "metadata": {},
   "source": [
    "# 5.Standard input and output"
   ]
  },
  {
   "cell_type": "code",
   "execution_count": 15,
   "metadata": {},
   "outputs": [
    {
     "name": "stdout",
     "output_type": "stream",
     "text": [
      "Enter The name :6758\n",
      "6758\n"
     ]
    }
   ],
   "source": [
    "a=int(input(\"Enter The name :\"))\n",
    "print(a)"
   ]
  },
  {
   "cell_type": "code",
   "execution_count": 16,
   "metadata": {},
   "outputs": [
    {
     "data": {
      "text/plain": [
       "int"
      ]
     },
     "execution_count": 16,
     "metadata": {},
     "output_type": "execute_result"
    }
   ],
   "source": [
    "type(a)"
   ]
  },
  {
   "cell_type": "code",
   "execution_count": null,
   "metadata": {},
   "outputs": [],
   "source": []
  },
  {
   "cell_type": "code",
   "execution_count": 17,
   "metadata": {},
   "outputs": [
    {
     "name": "stdout",
     "output_type": "stream",
     "text": [
      "Enter your name :ji\n",
      "enter your age :123\n",
      "ji 123\n"
     ]
    }
   ],
   "source": [
    "a=input(\"Enter your name :\")\n",
    "b=input(\"enter your age :\")"
   ]
  },
  {
   "cell_type": "code",
   "execution_count": null,
   "metadata": {},
   "outputs": [],
   "source": []
  },
  {
   "cell_type": "code",
   "execution_count": 18,
   "metadata": {},
   "outputs": [
    {
     "name": "stdout",
     "output_type": "stream",
     "text": [
      "Enter your Name :43\n"
     ]
    }
   ],
   "source": [
    "a=int(input(\"Enter your Name :\"))"
   ]
  },
  {
   "cell_type": "code",
   "execution_count": 19,
   "metadata": {},
   "outputs": [
    {
     "data": {
      "text/plain": [
       "int"
      ]
     },
     "execution_count": 19,
     "metadata": {},
     "output_type": "execute_result"
    }
   ],
   "source": [
    "type(a)"
   ]
  },
  {
   "cell_type": "markdown",
   "metadata": {},
   "source": [
    "# 6.Operators\n"
   ]
  },
  {
   "cell_type": "code",
   "execution_count": null,
   "metadata": {},
   "outputs": [],
   "source": [
    "Operators are special symbols in python that allow arithmetic or logic computation.\n",
    "2 + 3 : + is an operator and 2, 3 are operands\n",
    "Types: Arithmetic, Comparison, Logical, Assignment, Special\n",
    "Arithmetic: +, -, *, /, %, //, ** (addition, subtraction, multiplication, division, modulo\n",
    "division, floor division, exponent)\n",
    "15, 2: +: 17, - : 13, *: 30, /: 7.5, %: 1 (remainder), //: 7, **: 225;\n",
    "-15//2 = -8\n",
    "Comparison: <, >, !=, ==, >=, <=\n",
    "Logical: and, or, not\n",
    "a>>b:\n",
    "Assignment operator:\n",
    "=, +=, -=, *=, /=, %=, //=, **=, &=, |=\n",
    "a += 10: a = a + 10\n",
    "    \n",
    "Identity operators:\n",
    "is, is not\n",
    "Membership operators:\n",
    "In, not in\n"
   ]
  },
  {
   "cell_type": "code",
   "execution_count": 22,
   "metadata": {},
   "outputs": [
    {
     "data": {
      "text/plain": [
       "1"
      ]
     },
     "execution_count": 22,
     "metadata": {},
     "output_type": "execute_result"
    }
   ],
   "source": [
    "a= 6\n",
    "a//=6\n",
    "a"
   ]
  },
  {
   "cell_type": "code",
   "execution_count": 23,
   "metadata": {},
   "outputs": [
    {
     "data": {
      "text/plain": [
       "0.16666666666666666"
      ]
     },
     "execution_count": 23,
     "metadata": {},
     "output_type": "execute_result"
    }
   ],
   "source": [
    "a/6"
   ]
  },
  {
   "cell_type": "code",
   "execution_count": null,
   "metadata": {},
   "outputs": [],
   "source": [
    "a= int(input())\n",
    "b= int(input())\n",
    "if a>b:\n",
    "    print(\"Yes\")"
   ]
  },
  {
   "cell_type": "code",
   "execution_count": 22,
   "metadata": {},
   "outputs": [
    {
     "name": "stdout",
     "output_type": "stream",
     "text": [
      "0\n"
     ]
    }
   ],
   "source": [
    "a,b=10,20\n",
    "print(a//b)"
   ]
  },
  {
   "cell_type": "code",
   "execution_count": 31,
   "metadata": {},
   "outputs": [
    {
     "name": "stdout",
     "output_type": "stream",
     "text": [
      "65\n"
     ]
    }
   ],
   "source": [
    "a=a+10\n",
    "a += 10 # a= a+10\n",
    "print(a)"
   ]
  },
  {
   "cell_type": "code",
   "execution_count": 27,
   "metadata": {},
   "outputs": [],
   "source": [
    "A= \"HIMANSHU\"\n",
    "B= 'Singh'"
   ]
  },
  {
   "cell_type": "code",
   "execution_count": 28,
   "metadata": {},
   "outputs": [
    {
     "data": {
      "text/plain": [
       "'HIMANSHUSingh'"
      ]
     },
     "execution_count": 28,
     "metadata": {},
     "output_type": "execute_result"
    }
   ],
   "source": [
    "A=A+B\n",
    "A"
   ]
  },
  {
   "cell_type": "markdown",
   "metadata": {},
   "source": [
    "# 7. String"
   ]
  },
  {
   "cell_type": "code",
   "execution_count": null,
   "metadata": {},
   "outputs": [],
   "source": [
    "a='Nameisgood'\n",
    "b= \"423657\"\n",
    "v= \"Himanshu@987655\""
   ]
  },
  {
   "cell_type": "code",
   "execution_count": null,
   "metadata": {},
   "outputs": [],
   "source": [
    "Sequence of characters: (Unicode (default) or ASCII)\n",
    "S = “kl” or = str(1)\n",
    "Access characters of a string as a list;\n",
    "Strings are immutable;\n",
    "---------------------------------   \n",
    "#additin of two string \n",
    "A= \"HIMANSHU\"\n",
    "B='Singh'\n",
    "#Multiply of two string\n",
    "a=\"himanshu\"\n",
    "print(a*3)\n",
    "\n",
    "\n",
    "#input funtion\n",
    "1. Split Funtion\n",
    " name, age = input(\"Enter name and age\").split(\",\")\n",
    "2. String formating\n",
    "print(f\"hello {name} and age{age}\")\n",
    "\n",
    "#String indexing/slicing\n",
    "a= Himanshu\n",
    "#a[start arg:stop arg:step]\n",
    "print(a[2:6:2])\n",
    "\n",
    "\n",
    "#lower(), upper(), join(), split(), find(), replace(), title(), count(\"\"), lstrip,rstrip, strip"
   ]
  },
  {
   "cell_type": "code",
   "execution_count": 35,
   "metadata": {},
   "outputs": [
    {
     "name": "stdout",
     "output_type": "stream",
     "text": [
      "Enter the information :Himanshu 14 76\n"
     ]
    }
   ],
   "source": [
    "name,clas,age = input(\"Enter the information :\").split(\" \")\n",
    "print()"
   ]
  },
  {
   "cell_type": "code",
   "execution_count": 37,
   "metadata": {},
   "outputs": [
    {
     "name": "stdout",
     "output_type": "stream",
     "text": [
      "My name is Himanshu and my age is 76 clas is 14\n"
     ]
    }
   ],
   "source": [
    "print(f\"My name is {name} and my age is {age} clas is {clas}\")"
   ]
  },
  {
   "cell_type": "code",
   "execution_count": 38,
   "metadata": {},
   "outputs": [
    {
     "name": "stdout",
     "output_type": "stream",
     "text": [
      "Hello i am  Himanshu\n"
     ]
    }
   ],
   "source": [
    "print(f\"Hello i am  {name}\")"
   ]
  },
  {
   "cell_type": "code",
   "execution_count": 42,
   "metadata": {},
   "outputs": [
    {
     "data": {
      "text/plain": [
       "'Aae'"
      ]
     },
     "execution_count": 42,
     "metadata": {},
     "output_type": "execute_result"
    }
   ],
   "source": [
    "z= \"Anabela\"\n",
    "#z[start arg:stoparg:steps]\n",
    "z[0:6:2]"
   ]
  },
  {
   "cell_type": "code",
   "execution_count": 43,
   "metadata": {},
   "outputs": [
    {
     "data": {
      "text/plain": [
       "'unaao1'"
      ]
     },
     "execution_count": 43,
     "metadata": {},
     "output_type": "execute_result"
    }
   ],
   "source": [
    "value = \"Valueandvaluation@132\"\n",
    "value[3::3]"
   ]
  },
  {
   "cell_type": "code",
   "execution_count": 45,
   "metadata": {},
   "outputs": [
    {
     "data": {
      "text/plain": [
       "'i8ydhf'"
      ]
     },
     "execution_count": 45,
     "metadata": {},
     "output_type": "execute_result"
    }
   ],
   "source": [
    "var = \"Varoftheday98@iu\"\n",
    "var[-2:2:-2]"
   ]
  },
  {
   "cell_type": "code",
   "execution_count": 26,
   "metadata": {},
   "outputs": [
    {
     "name": "stdout",
     "output_type": "stream",
     "text": [
      "himanshuhimanshuhimanshu\n"
     ]
    }
   ],
   "source": [
    "a=\"himanshu\"\n",
    "print(a*3)"
   ]
  },
  {
   "cell_type": "code",
   "execution_count": 31,
   "metadata": {},
   "outputs": [
    {
     "name": "stdout",
     "output_type": "stream",
     "text": [
      "Enter name and ageajay#42#DS#IITK\n"
     ]
    }
   ],
   "source": [
    "name, age,profession,clg = input(\"Enter name and age\").split(\"#\")"
   ]
  },
  {
   "cell_type": "code",
   "execution_count": 35,
   "metadata": {},
   "outputs": [
    {
     "name": "stdout",
     "output_type": "stream",
     "text": [
      "Enter your name and age :Anuj,28\n",
      "hello Anuj and age28\n"
     ]
    }
   ],
   "source": [
    "name,age = input(\"Enter your name and age :\").split(\",\")\n",
    "print(f\"hello {name} and age {age}\")"
   ]
  },
  {
   "cell_type": "code",
   "execution_count": 6,
   "metadata": {},
   "outputs": [
    {
     "name": "stdout",
     "output_type": "stream",
     "text": [
      "himanshusingh\n"
     ]
    }
   ],
   "source": [
    "a=\"himanshu\"\n",
    "b=\"singh\"\n",
    "print(a+b)"
   ]
  },
  {
   "cell_type": "code",
   "execution_count": null,
   "metadata": {},
   "outputs": [],
   "source": [
    "print(f\"hello {name} and age{age}\")"
   ]
  },
  {
   "cell_type": "code",
   "execution_count": 52,
   "metadata": {},
   "outputs": [
    {
     "name": "stdout",
     "output_type": "stream",
     "text": [
      "my name is HImanshu and job is DS\n"
     ]
    }
   ],
   "source": [
    "name= \"HImanshu\"\n",
    "job = \"DS\"\n",
    "print(f\"my name is {name} and job is {job}\")"
   ]
  },
  {
   "cell_type": "code",
   "execution_count": null,
   "metadata": {},
   "outputs": [],
   "source": [
    "a,b=input(\"Enter My name and job\").split(\",\")"
   ]
  },
  {
   "cell_type": "markdown",
   "metadata": {},
   "source": [
    "# 8.Control flow"
   ]
  },
  {
   "cell_type": "code",
   "execution_count": null,
   "metadata": {},
   "outputs": [],
   "source": [
    "a=int(input(\"Enter number \"))#a=1\n",
    "if a>2:\n",
    "    print(\"Yes\")\n",
    "elif a==1:\n",
    "    print(\"a=1\")\n",
    "else:\n",
    "    print(\"no\")"
   ]
  },
  {
   "cell_type": "code",
   "execution_count": null,
   "metadata": {},
   "outputs": [],
   "source": [
    "a=int(input(\"Enter number \"))#a=1\n",
    "if a>2:\n",
    "    print(\"Yes\")\n",
    "else:\n",
    "    print(\"no\")"
   ]
  },
  {
   "cell_type": "code",
   "execution_count": null,
   "metadata": {},
   "outputs": [],
   "source": [
    "a=int(input(\"Enter number \"))"
   ]
  },
  {
   "cell_type": "code",
   "execution_count": null,
   "metadata": {},
   "outputs": [],
   "source": [
    "a=int(input()) #a=6\n",
    "b=int(input())  #b=3\n",
    "\n",
    "if a==6 and b==2:\n",
    "    print(\"both are equal\")\n",
    "elif a<2 or b>2:\n",
    "    print(\"not equal\")\n",
    "else:\n",
    "    print(\"Error\")\n",
    "    \n",
    "    \n",
    "# T and T - Excute\n",
    "# T and F - Not E\n",
    "#T or T Exc\n",
    "#F or T EXC"
   ]
  },
  {
   "cell_type": "code",
   "execution_count": null,
   "metadata": {},
   "outputs": [],
   "source": [
    "Task1:\n",
    "# caculator\n",
    "#take two input\n",
    "#take 3rd input- (Add/sub/mult/div)\n",
    "#output would be acc to 3rd i/p"
   ]
  },
  {
   "cell_type": "code",
   "execution_count": null,
   "metadata": {},
   "outputs": [],
   "source": [
    "Loop/interation:\n",
    "While()\n",
    "For()"
   ]
  },
  {
   "cell_type": "code",
   "execution_count": null,
   "metadata": {},
   "outputs": [],
   "source": [
    "#1. While\n",
    "i=0\n",
    "while i<5:\n",
    "    print(\"Yes\")\n",
    "    print(i)\n",
    "    i=i+1"
   ]
  },
  {
   "attachments": {
    "download.jpg": {
     "image/jpeg": "[encoded data removed]"
    }
   },
   "cell_type": "markdown",
   "metadata": {},
   "source": [
    "![download.jpg](attachment:download.jpg)"
   ]
  },
  {
   "cell_type": "code",
   "execution_count": 36,
   "metadata": {},
   "outputs": [
    {
     "name": "stdout",
     "output_type": "stream",
     "text": [
      "Yes\n",
      "5\n",
      "Yes\n",
      "4\n",
      "Yes\n",
      "3\n",
      "Yes\n",
      "2\n",
      "Yes\n",
      "1\n"
     ]
    }
   ],
   "source": [
    "a=5\n",
    "while a!=0:\n",
    "    print(\"Yes\")\n",
    "    print(a)\n",
    "    a=a-1"
   ]
  },
  {
   "cell_type": "markdown",
   "metadata": {},
   "source": [
    "# 9. LIST"
   ]
  },
  {
   "cell_type": "code",
   "execution_count": 37,
   "metadata": {},
   "outputs": [
    {
     "data": {
      "text/plain": [
       "2"
      ]
     },
     "execution_count": 37,
     "metadata": {},
     "output_type": "execute_result"
    }
   ],
   "source": [
    "a =[1,34,2.4,\"himanshu\",[1,4]]\n",
    "#a.pop(1)\n",
    "len(a[4])"
   ]
  },
  {
   "cell_type": "code",
   "execution_count": null,
   "metadata": {},
   "outputs": [],
   "source": [
    "Lists\n",
    "Data Structures: collection of data elements\n",
    "    \n",
    "List: Sequence data structures, these are indexable, mutable, defined by square brackets\n",
    "and elements are comma separated.\n",
    "\n",
    "Operations on list:\n",
    "    \n",
    "len(list), append(element), insert(index, element), remove(element)\n",
    "(removes first occurrence only), list.append(element), list.extend(list),\n",
    "pop(index)\n",
    "[‘one’, ’two’].append([‘one’, ’two’]) = [‘one’, ’two’, [‘one’, ’two’]]\n",
    "[‘one’, ’two’].extend([‘one’, ’two’]) = [‘one’, ’two’, ‘one’, ’two’]\n",
    " del lst[1]\n",
    "list reverse: list.reverse()\n",
    "sorted(list), list.sort()\n",
    "lst = [1, 2, 3, 4, 5]; abc = lst; abc.append(6); print(lst)  [1, 2, 3, 4, 5, 6]\n",
    "\n",
    "lst and abc are pointers;\n",
    "string.split(‘ ‘)\n",
    "lst[index]\n",
    "lst[slice_index_start: slice_index_end]\n",
    "lst1 + lst2\n",
    "lst.count()\n",
    "for ele in lst: print(ele)\n",
    "List comprehensions: [i**2 for i in range(10) if i%2 ==0]\n",
    "[[row[i] for row in matrix] for i in range(4)]\n"
   ]
  },
  {
   "cell_type": "code",
   "execution_count": 38,
   "metadata": {},
   "outputs": [
    {
     "data": {
      "text/plain": [
       "[1, 34, 2.4, 'himanshu', [1, 4], 8]"
      ]
     },
     "execution_count": 38,
     "metadata": {},
     "output_type": "execute_result"
    }
   ],
   "source": [
    "a=[1,34,2.4,\"himanshu\",[1,4]]\n",
    "a.append(8)\n",
    "a"
   ]
  },
  {
   "cell_type": "code",
   "execution_count": null,
   "metadata": {},
   "outputs": [],
   "source": []
  },
  {
   "cell_type": "code",
   "execution_count": null,
   "metadata": {},
   "outputs": [],
   "source": [
    "#indexing\n",
    "a=[1, \"himanshu\", 87, 2.5, 7,0]\n",
    "a[2:5:2]"
   ]
  },
  {
   "cell_type": "code",
   "execution_count": null,
   "metadata": {},
   "outputs": [],
   "source": [
    "a=[1, \"himanshu\", 87, 2.5, 7,0]\n",
    "a[1][3]\n",
    "#we can acccess string which is inside the string."
   ]
  },
  {
   "cell_type": "code",
   "execution_count": null,
   "metadata": {},
   "outputs": [],
   "source": [
    "#Operations on list:\n",
    "\n",
    "#its mutable.\n",
    "\n",
    "#1.length of list \n",
    "len(a)\n",
    "#2. append()\n",
    "a.append(897)\n",
    "#3. insert2((position),(value))\n",
    "a.insert(2,693)\n",
    "#a.remove(897)\n",
    "#a.pop(Index number) --- it will retuen the deleted value/element.\n",
    "#a.extend(b) --- it will joint two different lists together.\n",
    "#a.append(b)----- if b is a list then it will append b into a.\n",
    "#del a[index number] - it will delete the\n",
    "#In keyword\n",
    "#count\n",
    "#sort\n",
    "#sorted\n",
    "#join and split"
   ]
  },
  {
   "cell_type": "code",
   "execution_count": 49,
   "metadata": {},
   "outputs": [
    {
     "data": {
      "text/plain": [
       "1"
      ]
     },
     "execution_count": 49,
     "metadata": {},
     "output_type": "execute_result"
    }
   ],
   "source": [
    "a=[1,2,3,3,4,4,5,5,6]\n",
    "a.count(1)"
   ]
  },
  {
   "cell_type": "code",
   "execution_count": 47,
   "metadata": {},
   "outputs": [
    {
     "data": {
      "text/plain": [
       "[1, 'himanshu', [7, 0]]"
      ]
     },
     "execution_count": 47,
     "metadata": {},
     "output_type": "execute_result"
    }
   ],
   "source": [
    "a = [1, 'himanshu']\n",
    "b= [7,0]\n",
    "a.append(b)\n",
    "a"
   ]
  },
  {
   "cell_type": "code",
   "execution_count": 41,
   "metadata": {},
   "outputs": [
    {
     "data": {
      "text/plain": [
       "[1, 34, 2.4, 'Singh', 'himanshu', [1, 4]]"
      ]
     },
     "execution_count": 41,
     "metadata": {},
     "output_type": "execute_result"
    }
   ],
   "source": [
    "a.remove(8)\n",
    "a"
   ]
  },
  {
   "cell_type": "code",
   "execution_count": 44,
   "metadata": {},
   "outputs": [],
   "source": [
    "del a[1]"
   ]
  },
  {
   "cell_type": "code",
   "execution_count": 43,
   "metadata": {},
   "outputs": [
    {
     "data": {
      "text/plain": [
       "2.4"
      ]
     },
     "execution_count": 43,
     "metadata": {},
     "output_type": "execute_result"
    }
   ],
   "source": [
    "b=a.pop(1)\n",
    "b"
   ]
  },
  {
   "cell_type": "code",
   "execution_count": null,
   "metadata": {},
   "outputs": [],
   "source": []
  },
  {
   "cell_type": "code",
   "execution_count": 40,
   "metadata": {},
   "outputs": [
    {
     "data": {
      "text/plain": [
       "[1, 34, 2.4, 'Singh', 'himanshu', [1, 4], 8]"
      ]
     },
     "execution_count": 40,
     "metadata": {},
     "output_type": "execute_result"
    }
   ],
   "source": [
    "a.insert(3,\"Singh\")\n",
    "a"
   ]
  },
  {
   "cell_type": "code",
   "execution_count": null,
   "metadata": {},
   "outputs": [],
   "source": [
    "b=a.pop(3)"
   ]
  }
 ],
 "metadata": {
  "kernelspec": {
   "display_name": "Python 3 (ipykernel)",
   "language": "python",
   "name": "python3"
  },
  "language_info": {
   "codemirror_mode": {
    "name": "ipython",
    "version": 3
   },
   "file_extension": ".py",
   "mimetype": "text/x-python",
   "name": "python",
   "nbconvert_exporter": "python",
   "pygments_lexer": "ipython3",
   "version": "3.9.7"
  }
 },
 "nbformat": 4,
 "nbformat_minor": 4
}
