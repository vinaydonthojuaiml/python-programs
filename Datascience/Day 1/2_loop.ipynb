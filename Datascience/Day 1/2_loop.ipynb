{
 "cells": [
  {
   "cell_type": "code",
   "execution_count": null,
   "metadata": {},
   "outputs": [],
   "source": [
    "Operators are special symbols in python that allow arithmetic or logic computation.\n",
    "2 + 3 : + is an operator and 2, 3 are operands\n",
    "Types: Arithmetic, Comparison, Logical, Assignment, Special\n",
    "Arithmetic: +, -, *, /, %, //, ** (addition, subtraction, multiplication, division, modulo\n",
    "division, floor division, exponent)\n",
    "15, 2: +: 17, - : 13, *: 30, /: 7.5, %: 1 (remainder), //: 7, **: 225;\n",
    "-15//2 = -8\n",
    "Comparison: <, >, !=, ==, >=, <=\n",
    "Logical: and, or, not\n",
    "a>>b:\n",
    "Assignment operator:\n",
    "=, +=, -=, *=, /=, %=, //=, **=, &=, |=\n",
    "a += 10: a = a + 10\n",
    "    \n",
    "Identity operators:\n",
    "is, is not\n",
    "Membership operators:\n",
    "In, not in\n"
   ]
  },
  {
   "cell_type": "code",
   "execution_count": 6,
   "metadata": {},
   "outputs": [
    {
     "name": "stdout",
     "output_type": "stream",
     "text": [
      "10\n"
     ]
    }
   ],
   "source": [
    "a=10\n",
    "a=a+10 #a=10+10\n",
    "a -= 10#a=a-10\n",
    "print(a)"
   ]
  },
  {
   "cell_type": "code",
   "execution_count": 11,
   "metadata": {},
   "outputs": [
    {
     "name": "stdout",
     "output_type": "stream",
     "text": [
      "1\n"
     ]
    }
   ],
   "source": [
    "a=21\n",
    "b=5\n",
    "print(a%b)"
   ]
  },
  {
   "cell_type": "markdown",
   "metadata": {},
   "source": [
    "# 7. String"
   ]
  },
  {
   "cell_type": "code",
   "execution_count": null,
   "metadata": {},
   "outputs": [],
   "source": [
    "Sequence of characters: (Unicode (default) or ASCII)\n",
    "S = “kl” or = str(1)\n",
    "Access characters of a string as a list;\n",
    "Strings are immutable;\n",
    "\n",
    "#additin of two string\n",
    "#Multiply of two string\n",
    "a=\"himanshu\"\n",
    "print(a*3)\n",
    "\n",
    "\n",
    "#input funtion\n",
    "1. Split Funtion\n",
    " name, age = input(\"Enter name and age\").split(\",\")\n",
    "2. String formating\n",
    "print(f\"hello {name} and age{age}\")\n",
    "\n",
    "#String indexing\n",
    "a= Himanshu\n",
    "print(a[2:6:2])\n",
    "\n",
    "\n",
    "#lower(), upper(), join(), split(), find(), replace(), title(), count(\"\"), lstrip,rstrip, strip"
   ]
  },
  {
   "cell_type": "code",
   "execution_count": 19,
   "metadata": {},
   "outputs": [
    {
     "data": {
      "text/plain": [
       "'Himtyuinshu'"
      ]
     },
     "execution_count": 19,
     "metadata": {},
     "output_type": "execute_result"
    }
   ],
   "source": [
    "s=\"himTYUInshu\"\n",
    "s.title()"
   ]
  },
  {
   "cell_type": "code",
   "execution_count": 14,
   "metadata": {},
   "outputs": [
    {
     "name": "stdout",
     "output_type": "stream",
     "text": [
      "Enter name and ageAshish,28\n",
      "hello Ashish and age28\n"
     ]
    }
   ],
   "source": [
    "name, age = input(\"Enter name and age\").split(\",\")\n",
    "print(f\"hello {name} and age{age}\")"
   ]
  },
  {
   "cell_type": "code",
   "execution_count": 17,
   "metadata": {},
   "outputs": [
    {
     "data": {
      "text/plain": [
       "'Ash'"
      ]
     },
     "execution_count": 17,
     "metadata": {},
     "output_type": "execute_result"
    }
   ],
   "source": [
    "#slicing \n",
    "a=\"Ashish\" #a[str arg:stop arg+1]\n",
    "a[0:3]"
   ]
  },
  {
   "cell_type": "markdown",
   "metadata": {},
   "source": [
    "# 8.Control flow"
   ]
  },
  {
   "cell_type": "code",
   "execution_count": null,
   "metadata": {},
   "outputs": [],
   "source": [
    "IF Else"
   ]
  },
  {
   "cell_type": "code",
   "execution_count": 20,
   "metadata": {},
   "outputs": [
    {
     "name": "stdout",
     "output_type": "stream",
     "text": [
      "Enter number 6\n",
      "Yes\n"
     ]
    }
   ],
   "source": [
    "a=int(input(\"Enter number \"))#a=1\n",
    "if a>2:\n",
    "    print(\"Yes\")\n",
    "elif a==1:\n",
    "    print(\"a=1\")\n",
    "else:\n",
    "    print(\"no\")\n",
    "       \n",
    "    "
   ]
  },
  {
   "cell_type": "code",
   "execution_count": null,
   "metadata": {},
   "outputs": [],
   "source": [
    "a=int(input(\"Enter number \"))#a=1\n",
    "if a>2:\n",
    "    print(\"Yes\")\n",
    "else:\n",
    "    print(\"no\")"
   ]
  },
  {
   "cell_type": "code",
   "execution_count": 27,
   "metadata": {},
   "outputs": [
    {
     "name": "stdout",
     "output_type": "stream",
     "text": [
      "Enter number 52\n"
     ]
    }
   ],
   "source": [
    "a=int(input(\"Enter number \"))"
   ]
  },
  {
   "cell_type": "code",
   "execution_count": 21,
   "metadata": {},
   "outputs": [
    {
     "name": "stdout",
     "output_type": "stream",
     "text": [
      "1\n",
      "0\n",
      "not equal\n"
     ]
    }
   ],
   "source": [
    "a=int(input())\n",
    "b=int(input())\n",
    "\n",
    "if a==6 and b==2:\n",
    "    print(\"both are equal\")\n",
    "elif a<2 or b>2:\n",
    "    print(\"not equal\")\n",
    "else:\n",
    "    print(\"Error\")\n",
    "    \n",
    "    \n",
    "# T and T - Excute\n",
    "# T and F - Not E\n",
    "#T or T Exc\n",
    "#F or T EXC"
   ]
  },
  {
   "cell_type": "code",
   "execution_count": null,
   "metadata": {},
   "outputs": [],
   "source": [
    "Loop/interation:\n",
    "While()\n",
    "For()\n",
    "infinte()"
   ]
  },
  {
   "cell_type": "code",
   "execution_count": null,
   "metadata": {},
   "outputs": [],
   "source": []
  },
  {
   "cell_type": "code",
   "execution_count": 24,
   "metadata": {},
   "outputs": [
    {
     "name": "stdout",
     "output_type": "stream",
     "text": [
      "Yes\n",
      "0\n",
      "Yes\n",
      "1\n",
      "Yes\n",
      "2\n",
      "Yes\n",
      "3\n",
      "Yes\n",
      "4\n",
      "Yes\n",
      "5\n"
     ]
    }
   ],
   "source": [
    "#1. While\n",
    "i=0\n",
    "while i<=5:#T\n",
    "    print(\"Yes\")\n",
    "    print(i)\n",
    "    i=i+1\n",
    "    "
   ]
  },
  {
   "attachments": {
    "python_while_loop.jpg": {
     "image/jpeg": "[encoded data removed]"
    }
   },
   "cell_type": "markdown",
   "metadata": {},
   "source": [
    "![python_while_loop.jpg](attachment:python_while_loop.jpg)"
   ]
  },
  {
   "cell_type": "code",
   "execution_count": 36,
   "metadata": {},
   "outputs": [
    {
     "name": "stdout",
     "output_type": "stream",
     "text": [
      "Yes\n",
      "5\n",
      "Yes\n",
      "4\n",
      "Yes\n",
      "3\n",
      "Yes\n",
      "2\n",
      "Yes\n",
      "1\n"
     ]
    }
   ],
   "source": [
    "a=5\n",
    "while a!=0:\n",
    "    print(\"Yes\")\n",
    "    print(a)\n",
    "    a=a-1"
   ]
  },
  {
   "cell_type": "code",
   "execution_count": null,
   "metadata": {},
   "outputs": [],
   "source": [
    "Task1:\n",
    "# caculator\n",
    "#take two input\n",
    "#take 3rd input- (Add/sub/mult/div)\n",
    "#output would be acc to 3rd i/p"
   ]
  },
  {
   "cell_type": "code",
   "execution_count": null,
   "metadata": {},
   "outputs": [],
   "source": []
  },
  {
   "cell_type": "code",
   "execution_count": null,
   "metadata": {},
   "outputs": [],
   "source": []
  },
  {
   "cell_type": "code",
   "execution_count": null,
   "metadata": {},
   "outputs": [],
   "source": []
  },
  {
   "cell_type": "code",
   "execution_count": null,
   "metadata": {},
   "outputs": [],
   "source": []
  },
  {
   "cell_type": "code",
   "execution_count": null,
   "metadata": {},
   "outputs": [],
   "source": []
  },
  {
   "cell_type": "code",
   "execution_count": null,
   "metadata": {},
   "outputs": [],
   "source": []
  },
  {
   "cell_type": "code",
   "execution_count": null,
   "metadata": {},
   "outputs": [],
   "source": []
  },
  {
   "cell_type": "code",
   "execution_count": null,
   "metadata": {},
   "outputs": [],
   "source": [
    "a=int(input())\n",
    "b=int(input())\n",
    "c= int(input())\n",
    "#c==1/add, c==2/sub, c==3/mul,d==4/div\n",
    "\n",
    "if c==1:\n",
    "    print(a+b)\n",
    "elif c==2:\n",
    "        print(a-b)\n",
    "        "
   ]
  },
  {
   "cell_type": "code",
   "execution_count": null,
   "metadata": {},
   "outputs": [],
   "source": [
    "TASK2\n",
    "#ask user to input a string\n",
    "# check wether str is Palidrome string or not.\n",
    "    \n"
   ]
  },
  {
   "cell_type": "code",
   "execution_count": 11,
   "metadata": {},
   "outputs": [
    {
     "name": "stdout",
     "output_type": "stream",
     "text": [
      "Yes\n"
     ]
    }
   ],
   "source": [
    "x = \"nayan\" \n",
    "w=x[::-1]\n",
    "if (x == w):\n",
    "    print(\"Yes\")\n",
    "else:\n",
    "    print(\"No\")"
   ]
  },
  {
   "cell_type": "code",
   "execution_count": 10,
   "metadata": {},
   "outputs": [
    {
     "data": {
      "text/plain": [
       "'nayan'"
      ]
     },
     "execution_count": 10,
     "metadata": {},
     "output_type": "execute_result"
    }
   ],
   "source": []
  },
  {
   "cell_type": "code",
   "execution_count": null,
   "metadata": {},
   "outputs": [],
   "source": []
  }
 ],
 "metadata": {
  "kernelspec": {
   "display_name": "Python 3 (ipykernel)",
   "language": "python",
   "name": "python3"
  },
  "language_info": {
   "codemirror_mode": {
    "name": "ipython",
    "version": 3
   },
   "file_extension": ".py",
   "mimetype": "text/x-python",
   "name": "python",
   "nbconvert_exporter": "python",
   "pygments_lexer": "ipython3",
   "version": "3.9.7"
  }
 },
 "nbformat": 4,
 "nbformat_minor": 4
}
