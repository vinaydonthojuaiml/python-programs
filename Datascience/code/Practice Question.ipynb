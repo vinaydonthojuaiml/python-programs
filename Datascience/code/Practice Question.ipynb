{
 "cells": [
  {
   "cell_type": "markdown",
   "metadata": {},
   "source": [
    "# Practice Question"
   ]
  },
  {
   "cell_type": "code",
   "execution_count": null,
   "metadata": {},
   "outputs": [],
   "source": [
    "def calc_avg(m1,m2,m3):\n",
    "    return (m1+m2+m3)/3\n",
    "\n",
    "mark1=int(input(\"enter markets in subject-1\"))\n",
    "mark2=int(input(\"enter markets in subject-2\"))\n",
    "mark3=int(input(\"enter markets in subject-3\"))\n",
    "calc_avg(mark1,mark2,mark3)"
   ]
  },
  {
   "cell_type": "code",
   "execution_count": null,
   "metadata": {},
   "outputs": [],
   "source": [
    "1.Check how many charectors are repeating -\"Elephent\", \"Icecream\"\n",
    "2.Check whether the input number is even or odd.\n",
    "3.check if number is prime number or not.\n",
    "\n",
    "4.check if input alphabet is vowel/consonant\n",
    "5.check if given input is in the list or not.\n",
    "a=[1,2,98,63,45,74]\n",
    "6.find largest number in the list.\n",
    "b=[96,36,85,75,35,105,25]\n",
    "7.print prime numbers between 100 to 200.\n",
    "8.Multiply all numbers in the list and return the output.\n",
    "a=[1,2,98,63,45,74]\n",
    "9.print duplicates from the list.\n",
    "[10, 20, 30, 20, 20, 30, 40, 50, -20, 60, 60, -20, -20]\n",
    "10.Python program to create a list of tuples from given list having number and its cube in each tuple.\n",
    "Example:\n",
    "\n",
    "Input: list = [1, 2, 3]\n",
    "Output: [(1, 1), (2, 8), (3, 27)]\n",
    "\n",
    "Input: list = [9, 5, 6]\n",
    "Output: [(9, 729), (5, 125), (6, 216)]\n",
    "\n",
    "11. sort the given list in ascending order.(use both sort/sorted function)\n",
    "a=[1,2,98,63,45,74]\n",
    "\n",
    "12. print table of 12.\n",
    "13. Print fibonacci series till 50.\n",
    "14. print binomial number till 80.\n",
    "15. a=[\"name\",]\n"
   ]
  },
  {
   "cell_type": "code",
   "execution_count": 2,
   "metadata": {},
   "outputs": [
    {
     "name": "stdout",
     "output_type": "stream",
     "text": [
      "[(9, 729), (5, 125), (6, 216)]\n"
     ]
    }
   ],
   "source": [
    "def cubedTuples(listOfNums):\n",
    "    result = []\n",
    "    for num in listOfNums:\n",
    "        result.append((num, num**3))\n",
    "    return result\n",
    "\n",
    "result = cubedTuples([9, 5, 6])\n",
    "print(result)"
   ]
  },
  {
   "cell_type": "code",
   "execution_count": null,
   "metadata": {},
   "outputs": [],
   "source": [
    "i1 = input(\"Enter list\")\n",
    "l1 = i1.split(\",\")\n",
    "print(l1)\n",
    "\n",
    "l2 = []\n",
    "for j in l1:\n",
    "    i = int(j)\n",
    "    t1 = i,i*i*i\n",
    "    l2.append(t1)\n",
    "print(l2)"
   ]
  },
  {
   "cell_type": "code",
   "execution_count": 4,
   "metadata": {},
   "outputs": [
    {
     "data": {
      "text/plain": [
       "2"
      ]
     },
     "execution_count": 4,
     "metadata": {},
     "output_type": "execute_result"
    }
   ],
   "source": [
    "#\"Elephent\", \"Icecream\"\n",
    "\n",
    "#count(\"\")\n",
    "a=\"Elephent\"\n",
    "a.count(\"e\")\n",
    "\"Icecream\".count(\"e\")"
   ]
  },
  {
   "cell_type": "code",
   "execution_count": 6,
   "metadata": {},
   "outputs": [
    {
     "data": {
      "text/plain": [
       "2"
      ]
     },
     "execution_count": 6,
     "metadata": {},
     "output_type": "execute_result"
    }
   ],
   "source": [
    "\"aiicyuant\".count(\"a\")\n",
    "\"aiicyuant\".count(\"i\")"
   ]
  },
  {
   "cell_type": "code",
   "execution_count": null,
   "metadata": {},
   "outputs": [],
   "source": [
    "2.Check whether the input number is even or odd.\n",
    "if a%12==0:\n",
    "    print(\"even\")\n",
    "else:\n",
    "    print(\"odd\")"
   ]
  },
  {
   "cell_type": "code",
   "execution_count": null,
   "metadata": {},
   "outputs": [],
   "source": [
    "check if given input is divided by 12."
   ]
  },
  {
   "cell_type": "code",
   "execution_count": null,
   "metadata": {},
   "outputs": [],
   "source": [
    "4.check if input alphabet is vowel/consonant"
   ]
  },
  {
   "cell_type": "code",
   "execution_count": 7,
   "metadata": {},
   "outputs": [
    {
     "name": "stdout",
     "output_type": "stream",
     "text": [
      "a\n"
     ]
    }
   ],
   "source": [
    "a=input(\"\")\n",
    "if a==\"a\" or a==\"e\" or a==\"i\":\n",
    "    print(\"yes a is vowel\")\n",
    "else:\n",
    "    print(\"it is consonant\")"
   ]
  },
  {
   "cell_type": "code",
   "execution_count": 10,
   "metadata": {},
   "outputs": [
    {
     "name": "stdout",
     "output_type": "stream",
     "text": [
      "Enter first number18\n",
      "Enter second number10\n",
      "they are not divisible by 5\n"
     ]
    }
   ],
   "source": [
    "#check if given two inputs are divide by 5 or not.\n",
    "a=int(input(\"Enter first number\"))\n",
    "b=int(input(\"Enter second number\"))\n",
    "\n",
    "if a%5==0 and b%5==0:\n",
    "    print(\"yes both are divide by 5\")\n",
    "else:\n",
    "    print(\"they are not divisible by 5\")\n"
   ]
  },
  {
   "cell_type": "markdown",
   "metadata": {},
   "source": [
    "10.Python program to create a list of tuples from given list having number and its cube in each tuple.\n",
    "Example:\n",
    "\n",
    "Input: list = [1, 2, 3]\n",
    "Output: [(1, 1), (2, 8), (3, 27)]"
   ]
  },
  {
   "cell_type": "code",
   "execution_count": null,
   "metadata": {},
   "outputs": [],
   "source": [
    "def create_tuple_list(lst):\n",
    "    tuple_list = [(num, num**3) for num in lst]\n",
    "    return tuple_list\n",
    "\n",
    "input_list = [1, 2, 3]\n",
    "output_list = create_tuple_list(input_list)\n",
    "print(output_list)"
   ]
  },
  {
   "cell_type": "code",
   "execution_count": null,
   "metadata": {},
   "outputs": [],
   "source": [
    "#check if given number is divided by 10 or 20 or 30.\n",
    "#check whether given string is week name or month name.\n",
    "#check if given input is in the list or not.\n",
    "a=[1,2,98,63,45,74]\n",
    "#check if all the element in the list is even or odd.\n",
    "a=[2,48,16,22]\n",
    "#sort the given list in ascending order.(use both sort/sorted function)\n",
    "a=[1,2,98,63,45,74]\n",
    "#you need to take three input (a,b,c)\n",
    "1. if a is completly divided by b then check if a is divided by c or not.\n",
    "ex.(12,2,3)\n",
    "(12,5,3)"
   ]
  }
 ],
 "metadata": {
  "kernelspec": {
   "display_name": "Python 3 (ipykernel)",
   "language": "python",
   "name": "python3"
  },
  "language_info": {
   "codemirror_mode": {
    "name": "ipython",
    "version": 3
   },
   "file_extension": ".py",
   "mimetype": "text/x-python",
   "name": "python",
   "nbconvert_exporter": "python",
   "pygments_lexer": "ipython3",
   "version": "3.9.7"
  }
 },
 "nbformat": 4,
 "nbformat_minor": 4
}
