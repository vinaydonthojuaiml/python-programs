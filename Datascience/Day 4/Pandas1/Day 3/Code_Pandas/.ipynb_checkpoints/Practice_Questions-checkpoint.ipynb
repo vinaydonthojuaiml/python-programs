{
 "cells": [
  {
   "cell_type": "markdown",
   "id": "3ec99347",
   "metadata": {},
   "source": [
    "# Examples:"
   ]
  },
  {
   "cell_type": "code",
   "execution_count": null,
   "id": "6b6bfe01",
   "metadata": {},
   "outputs": [],
   "source": [
    "Tasks:-\n",
    "    \n",
    "1. Read CSV file with mentioned columns only - [\"name\", \"mark\"].\n",
    "2. Read CSV with 5th element only.\n",
    "3. Check shape , Mean, mode for each column\n",
    "4. check missing values for each and every column\n",
    "5. fill the missing values using different methods\n",
    "6. replace the student names with others Krish Star - \"Mat\", John Mike - \"Jonny\", Arnold - \"Jade\".\n",
    "#7. Group the dataset with class, Gender. "
   ]
  },
  {
   "cell_type": "raw",
   "id": "00f2494d",
   "metadata": {},
   "source": [
    "1. Read CSV file with mentioned columns only."
   ]
  },
  {
   "cell_type": "code",
   "execution_count": 1,
   "id": "bb848924",
   "metadata": {},
   "outputs": [],
   "source": [
    "import pandas as pd\n",
    "df= pd.read_csv('student.csv',usecols=[\"name\", \"mark\"])"
   ]
  },
  {
   "cell_type": "code",
   "execution_count": 2,
   "id": "0935f889",
   "metadata": {},
   "outputs": [
    {
     "data": {
      "text/html": [
       "<div><div id=a22522d0-01a8-4262-b498-d8c9688e9c76 style=\"display:none; background-color:#9D6CFF; color:white; width:200px; height:30px; padding-left:5px; border-radius:4px; flex-direction:row; justify-content:space-around; align-items:center;\" onmouseover=\"this.style.backgroundColor='#BA9BF8'\" onmouseout=\"this.style.backgroundColor='#9D6CFF'\" onclick=\"window.commands?.execute('create-mitosheet-from-dataframe-output');\">See Full Dataframe in Mito</div> <script> if (window.commands?.hasCommand('create-mitosheet-from-dataframe-output')) document.getElementById('a22522d0-01a8-4262-b498-d8c9688e9c76').style.display = 'flex' </script> <table border=\"1\" class=\"dataframe\">\n",
       "  <thead>\n",
       "    <tr style=\"text-align: right;\">\n",
       "      <th></th>\n",
       "      <th>name</th>\n",
       "      <th>mark</th>\n",
       "    </tr>\n",
       "  </thead>\n",
       "  <tbody>\n",
       "    <tr>\n",
       "      <th>0</th>\n",
       "      <td>John Deo</td>\n",
       "      <td>75</td>\n",
       "    </tr>\n",
       "    <tr>\n",
       "      <th>1</th>\n",
       "      <td>Max Ruin</td>\n",
       "      <td>85</td>\n",
       "    </tr>\n",
       "    <tr>\n",
       "      <th>2</th>\n",
       "      <td>Arnold</td>\n",
       "      <td>55</td>\n",
       "    </tr>\n",
       "    <tr>\n",
       "      <th>3</th>\n",
       "      <td>Krish Star</td>\n",
       "      <td>60</td>\n",
       "    </tr>\n",
       "    <tr>\n",
       "      <th>4</th>\n",
       "      <td>John Mike</td>\n",
       "      <td>60</td>\n",
       "    </tr>\n",
       "    <tr>\n",
       "      <th>5</th>\n",
       "      <td>Alex John</td>\n",
       "      <td>55</td>\n",
       "    </tr>\n",
       "    <tr>\n",
       "      <th>6</th>\n",
       "      <td>My John Rob</td>\n",
       "      <td>78</td>\n",
       "    </tr>\n",
       "    <tr>\n",
       "      <th>7</th>\n",
       "      <td>Asruid</td>\n",
       "      <td>85</td>\n",
       "    </tr>\n",
       "    <tr>\n",
       "      <th>8</th>\n",
       "      <td>Tes Qry</td>\n",
       "      <td>78</td>\n",
       "    </tr>\n",
       "    <tr>\n",
       "      <th>9</th>\n",
       "      <td>Big John</td>\n",
       "      <td>55</td>\n",
       "    </tr>\n",
       "  </tbody>\n",
       "</table></div>"
      ],
      "text/plain": [
       "          name  mark\n",
       "0     John Deo    75\n",
       "1     Max Ruin    85\n",
       "2       Arnold    55\n",
       "3   Krish Star    60\n",
       "4    John Mike    60\n",
       "5    Alex John    55\n",
       "6  My John Rob    78\n",
       "7       Asruid    85\n",
       "8      Tes Qry    78\n",
       "9     Big John    55"
      ]
     },
     "execution_count": 2,
     "metadata": {},
     "output_type": "execute_result"
    }
   ],
   "source": [
    "df.head(10)"
   ]
  },
  {
   "cell_type": "raw",
   "id": "5a7f097d",
   "metadata": {},
   "source": [
    "2. Read CSV with 5th element only."
   ]
  },
  {
   "cell_type": "raw",
   "id": "c82ace38",
   "metadata": {},
   "source": [
    "3. Check shape , Mean, mode for each column"
   ]
  },
  {
   "cell_type": "raw",
   "id": "badc838f",
   "metadata": {},
   "source": [
    "4. check missing values for each and every column"
   ]
  },
  {
   "cell_type": "raw",
   "id": "0999ec7a",
   "metadata": {},
   "source": [
    "5. fill the missing values using different methods"
   ]
  },
  {
   "cell_type": "code",
   "execution_count": null,
   "id": "3d3994f3",
   "metadata": {},
   "outputs": [],
   "source": []
  },
  {
   "cell_type": "raw",
   "id": "97631d69",
   "metadata": {},
   "source": [
    "6. replace the student names with others."
   ]
  },
  {
   "cell_type": "raw",
   "id": "7e755c92",
   "metadata": {},
   "source": [
    "7. Group the dataset with class, Gender. "
   ]
  },
  {
   "cell_type": "markdown",
   "id": "f84635c7",
   "metadata": {},
   "source": [
    "# Questions:"
   ]
  },
  {
   "cell_type": "code",
   "execution_count": null,
   "id": "4cff502d",
   "metadata": {},
   "outputs": [],
   "source": [
    "1. # How to convert the first character of each element in a series to uppercase?\n",
    "ser = pd.Series(['how', 'to', 'kick', 'football?'])\n",
    "\n",
    "2. #. How to calculate the number of characters in each word in a series?c\n",
    "ser = pd.Series(['how', 'to', 'kick', 'football?'])\n",
    "\n",
    "3.#. How to compute difference of differences between consequtive numbers of a series?\n",
    "ser = pd.Series([1, 3, 6, 10, 15, 21, 27, 35])"
   ]
  },
  {
   "cell_type": "code",
   "execution_count": 3,
   "id": "44eb6088",
   "metadata": {},
   "outputs": [
    {
     "name": "stdout",
     "output_type": "stream",
     "text": [
      "0          How\n",
      "1           To\n",
      "2         Kick\n",
      "3    Football?\n",
      "dtype: object\n"
     ]
    }
   ],
   "source": [
    "ser = pd.Series(['how', 'to', 'kick', 'football?'])\n",
    "print(ser.str.title())"
   ]
  },
  {
   "cell_type": "code",
   "execution_count": null,
   "id": "1cf0fedc",
   "metadata": {},
   "outputs": [],
   "source": []
  },
  {
   "cell_type": "code",
   "execution_count": null,
   "id": "bc7d5e3b",
   "metadata": {},
   "outputs": [],
   "source": []
  },
  {
   "cell_type": "code",
   "execution_count": null,
   "id": "21236367",
   "metadata": {},
   "outputs": [],
   "source": []
  },
  {
   "cell_type": "code",
   "execution_count": null,
   "id": "09597eef",
   "metadata": {},
   "outputs": [],
   "source": []
  },
  {
   "cell_type": "code",
   "execution_count": null,
   "id": "e78e8f85",
   "metadata": {},
   "outputs": [],
   "source": []
  },
  {
   "cell_type": "code",
   "execution_count": null,
   "id": "1829f086",
   "metadata": {},
   "outputs": [],
   "source": []
  },
  {
   "cell_type": "code",
   "execution_count": null,
   "id": "85f5888d",
   "metadata": {},
   "outputs": [],
   "source": []
  },
  {
   "cell_type": "code",
   "execution_count": null,
   "id": "5f8c9fba",
   "metadata": {},
   "outputs": [],
   "source": []
  },
  {
   "cell_type": "code",
   "execution_count": null,
   "id": "efba2bc2",
   "metadata": {},
   "outputs": [],
   "source": []
  },
  {
   "cell_type": "code",
   "execution_count": null,
   "id": "a84d3abe",
   "metadata": {},
   "outputs": [],
   "source": []
  },
  {
   "cell_type": "code",
   "execution_count": null,
   "id": "d61b0fc6",
   "metadata": {},
   "outputs": [],
   "source": []
  },
  {
   "cell_type": "code",
   "execution_count": null,
   "id": "36f3c374",
   "metadata": {},
   "outputs": [],
   "source": []
  }
 ],
 "metadata": {
  "kernelspec": {
   "display_name": "Python 3 (ipykernel)",
   "language": "python",
   "name": "python3"
  },
  "language_info": {
   "codemirror_mode": {
    "name": "ipython",
    "version": 3
   },
   "file_extension": ".py",
   "mimetype": "text/x-python",
   "name": "python",
   "nbconvert_exporter": "python",
   "pygments_lexer": "ipython3",
   "version": "3.9.7"
  }
 },
 "nbformat": 4,
 "nbformat_minor": 5
}
