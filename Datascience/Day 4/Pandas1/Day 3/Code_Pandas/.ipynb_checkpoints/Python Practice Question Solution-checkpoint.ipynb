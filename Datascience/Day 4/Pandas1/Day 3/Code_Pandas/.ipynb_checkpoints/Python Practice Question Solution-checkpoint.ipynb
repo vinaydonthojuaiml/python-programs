{
 "cells": [
  {
   "cell_type": "markdown",
   "metadata": {},
   "source": [
    "# Practice Question"
   ]
  },
  {
   "cell_type": "code",
   "execution_count": null,
   "metadata": {},
   "outputs": [],
   "source": [
    "1.Check how many charectors are repeating -\"Elephent\", \"Icecream\"\n",
    "2.Check whether the input number is even or odd.\n",
    "3.check if number is prime number or not.\n",
    "\n",
    "4.check if input alphabet is vowel/consonant\n",
    "5.check if given input is in the list or not.\n",
    "a=[1,2,98,63,45,74]\n",
    "6.find largest number in the list.\n",
    "b=[96,36,85,75,35,105,25]\n",
    "7.print prime numbers between 100 to 200.\n",
    "8.Multiply all numbers in the list and return the output.\n",
    "a=[1,2,98,63,45,74]\n",
    "9.print duplicates from the list.\n",
    "[10, 20, 30, 20, 20, 30, 40, 50, -20, 60, 60, -20, -20]\n",
    "10.Python program to create a list of tuples from given list having number and its cube in each tuple.\n",
    "Example:\n",
    "\n",
    "Input: list = [1, 2, 3]\n",
    "Output: [(1, 1), (2, 8), (3, 27)]\n",
    "\n",
    "Input: list = [9, 5, 6]\n",
    "Output: [(9, 729), (5, 125), (6, 216)]\n",
    "\n",
    "11. sort the given list in ascending order.(use both sort/sorted function)\n",
    "a=[1,2,98,63,45,74]\n",
    "\n",
    "12. print table of 12.\n",
    "13. Print fibonacci series till 50.\n",
    "14. print binomial number till 80.\n"
   ]
  },
  {
   "cell_type": "markdown",
   "metadata": {},
   "source": [
    "# 1."
   ]
  },
  {
   "cell_type": "code",
   "execution_count": 1,
   "metadata": {},
   "outputs": [
    {
     "name": "stdout",
     "output_type": "stream",
     "text": [
      "String: Elephant, Repeating Characters: [], Count: 0\n",
      "String: Icecream, Repeating Characters: ['c', 'e'], Count: 2\n"
     ]
    }
   ],
   "source": [
    "def count_repeating_chars(*strings):\n",
    "    for string in strings:\n",
    "        char_count = {}\n",
    "        repeating_chars = []\n",
    "        for char in string:\n",
    "            if char in char_count:\n",
    "                char_count[char] += 1\n",
    "            else:\n",
    "                char_count[char] = 1\n",
    "        for char, count in char_count.items():\n",
    "            if count > 1:\n",
    "                repeating_chars.append(char)\n",
    "        print(f\"String: {string}, Repeating Characters: {repeating_chars}, Count: {len(repeating_chars)}\")\n",
    "\n",
    "count_repeating_chars(\"Elephant\", \"Icecream\")\n"
   ]
  },
  {
   "cell_type": "code",
   "execution_count": null,
   "metadata": {},
   "outputs": [],
   "source": [
    "#2.Check whether the input number is even or odd.\n",
    "if a%2==0:\n",
    "    print(\"even\")\n",
    "else:\n",
    "    print(\"odd\")"
   ]
  },
  {
   "cell_type": "code",
   "execution_count": 2,
   "metadata": {},
   "outputs": [
    {
     "name": "stdout",
     "output_type": "stream",
     "text": [
      "17 is a prime number\n"
     ]
    }
   ],
   "source": [
    "#3.\n",
    "def check_prime(number):\n",
    "    if number <= 1:\n",
    "        print(f\"{number} is not a prime number\")\n",
    "    else:\n",
    "        is_prime = True\n",
    "        for i in range(2, int(number ** 0.5) + 1):\n",
    "            if number % i == 0:\n",
    "                is_prime = False\n",
    "                break\n",
    "        if is_prime:\n",
    "            print(f\"{number} is a prime number\")\n",
    "        else:\n",
    "            print(f\"{number} is not a prime number\")\n",
    "\n",
    "check_prime(17)"
   ]
  },
  {
   "cell_type": "code",
   "execution_count": 3,
   "metadata": {},
   "outputs": [
    {
     "name": "stdout",
     "output_type": "stream",
     "text": [
      "A is a vowel\n"
     ]
    }
   ],
   "source": [
    "#4.check if input alphabet is vowel/consonant\n",
    "def check_vowel_consonant(alphabet):\n",
    "    vowels = ['a', 'e', 'i', 'o', 'u']\n",
    "    if alphabet.lower() in vowels:\n",
    "        print(f\"{alphabet} is a vowel\")\n",
    "    else:\n",
    "        print(f\"{alphabet} is a consonant\")\n",
    "\n",
    "check_vowel_consonant('A')\n"
   ]
  },
  {
   "cell_type": "code",
   "execution_count": 4,
   "metadata": {},
   "outputs": [
    {
     "name": "stdout",
     "output_type": "stream",
     "text": [
      "Enter first number12\n",
      "Enter second number16\n",
      "they are not divisible by 5\n"
     ]
    }
   ],
   "source": [
    "#check if given two inputs are divide by 5 or not.\n",
    "a=int(input(\"Enter first number\"))\n",
    "b=int(input(\"Enter second number\"))\n",
    "\n",
    "if a%5==0 and b%5==0:\n",
    "    print(\"yes both are divide by 5\")\n",
    "else:\n",
    "    print(\"they are not divisible by 5\")\n"
   ]
  },
  {
   "cell_type": "code",
   "execution_count": 5,
   "metadata": {},
   "outputs": [
    {
     "name": "stdout",
     "output_type": "stream",
     "text": [
      "63 is in the list\n"
     ]
    }
   ],
   "source": [
    "#5\n",
    "def check_list_membership(element, lst):\n",
    "    if element in lst:\n",
    "        print(f\"{element} is in the list\")\n",
    "    else:\n",
    "        print(f\"{element} is not in the list\")\n",
    "\n",
    "a = [1, 2, 98, 63, 45, 74]\n",
    "check_list_membership(63, a)\n"
   ]
  },
  {
   "cell_type": "code",
   "execution_count": 6,
   "metadata": {},
   "outputs": [
    {
     "name": "stdout",
     "output_type": "stream",
     "text": [
      "Largest number: 105\n"
     ]
    }
   ],
   "source": [
    "#6.\n",
    "def find_largest_number(lst):\n",
    "    largest_number = max(lst)\n",
    "    print(f\"Largest number: {largest_number}\")\n",
    "\n",
    "b = [96, 36, 85, 75, 35, 105, 25]\n",
    "find_largest_number(b)\n"
   ]
  },
  {
   "cell_type": "code",
   "execution_count": 7,
   "metadata": {},
   "outputs": [
    {
     "name": "stdout",
     "output_type": "stream",
     "text": [
      "Prime numbers between 100 and 200: [101, 103, 107, 109, 113, 127, 131, 137, 139, 149, 151, 157, 163, 167, 173, 179, 181, 191, 193, 197, 199]\n"
     ]
    }
   ],
   "source": [
    "#7.\n",
    "def print_prime_numbers(start, end):\n",
    "    prime_numbers = []\n",
    "    for number in range(start, end + 1):\n",
    "        if number > 1:\n",
    "            is_prime = True\n",
    "            for i in range(2, int(number ** 0.5) + 1):\n",
    "                if number % i == 0:\n",
    "                    is_prime = False\n",
    "                    break\n",
    "            if is_prime:\n",
    "                prime_numbers.append(number)\n",
    "    print(f\"Prime numbers between {start} and {end}: {prime_numbers}\")\n",
    "\n",
    "print_prime_numbers(100, 200)\n"
   ]
  },
  {
   "cell_type": "code",
   "execution_count": 8,
   "metadata": {},
   "outputs": [
    {
     "name": "stdout",
     "output_type": "stream",
     "text": [
      "Multiplication result: 41118840\n"
     ]
    }
   ],
   "source": [
    "#8.\n",
    "def multiply_numbers(lst):\n",
    "    result = 1\n",
    "    for number in lst:\n",
    "        result *= number\n",
    "    return result\n",
    "\n",
    "a = [1, 2, 98, 63, 45, 74]\n",
    "output = multiply_numbers(a)\n",
    "print(\"Multiplication result:\", output)\n",
    "\n"
   ]
  },
  {
   "cell_type": "code",
   "execution_count": 9,
   "metadata": {},
   "outputs": [
    {
     "name": "stdout",
     "output_type": "stream",
     "text": [
      "Duplicates: [20, 20, 30, 60, -20, -20]\n"
     ]
    }
   ],
   "source": [
    "#9.\n",
    "def find_duplicates(lst):\n",
    "    duplicates = []\n",
    "    unique_elements = set()\n",
    "    for element in lst:\n",
    "        if element in unique_elements:\n",
    "            duplicates.append(element)\n",
    "        else:\n",
    "            unique_elements.add(element)\n",
    "    return duplicates\n",
    "\n",
    "lst = [10, 20, 30, 20, 20, 30, 40, 50, -20, 60, 60, -20, -20]\n",
    "duplicates = find_duplicates(lst)\n",
    "print(\"Duplicates:\", duplicates)"
   ]
  },
  {
   "cell_type": "markdown",
   "metadata": {},
   "source": [
    "10.Python program to create a list of tuples from given list having number and its cube in each tuple.\n",
    "Example:\n",
    "\n",
    "Input: list = [1, 2, 3]\n",
    "Output: [(1, 1), (2, 8), (3, 27)]"
   ]
  },
  {
   "cell_type": "code",
   "execution_count": 10,
   "metadata": {},
   "outputs": [
    {
     "name": "stdout",
     "output_type": "stream",
     "text": [
      "[(1, 1), (2, 8), (3, 27)]\n"
     ]
    }
   ],
   "source": [
    "def create_tuple_list(lst):\n",
    "    tuple_list = [(num, num**3) for num in lst]\n",
    "    return tuple_list\n",
    "\n",
    "input_list = [1, 2, 3]\n",
    "output_list = create_tuple_list(input_list)\n",
    "print(output_list)"
   ]
  },
  {
   "cell_type": "code",
   "execution_count": 11,
   "metadata": {},
   "outputs": [
    {
     "name": "stdout",
     "output_type": "stream",
     "text": [
      "Sorted list (using sort method): [1, 2, 45, 63, 74, 98]\n",
      "Sorted list (using sorted function): [1, 2, 45, 63, 74, 98]\n"
     ]
    }
   ],
   "source": [
    "#11.\n",
    "\n",
    "a = [1, 2, 98, 63, 45, 74]\n",
    "\n",
    "# Using the sort method (modifies the original list)\n",
    "a.sort()\n",
    "print(\"Sorted list (using sort method):\", a)\n",
    "\n",
    "# Using the sorted function (returns a new sorted list)\n",
    "sorted_a = sorted(a)\n",
    "print(\"Sorted list (using sorted function):\", sorted_a)\n"
   ]
  },
  {
   "cell_type": "code",
   "execution_count": 12,
   "metadata": {},
   "outputs": [
    {
     "name": "stdout",
     "output_type": "stream",
     "text": [
      "12 x 1 = 12\n",
      "12 x 2 = 24\n",
      "12 x 3 = 36\n",
      "12 x 4 = 48\n",
      "12 x 5 = 60\n",
      "12 x 6 = 72\n",
      "12 x 7 = 84\n",
      "12 x 8 = 96\n",
      "12 x 9 = 108\n",
      "12 x 10 = 120\n"
     ]
    }
   ],
   "source": [
    "#12.\n",
    "number = 12\n",
    "\n",
    "for i in range(1, 11):\n",
    "    print(f\"{number} x {i} = {number * i}\")\n"
   ]
  },
  {
   "cell_type": "code",
   "execution_count": 13,
   "metadata": {},
   "outputs": [
    {
     "name": "stdout",
     "output_type": "stream",
     "text": [
      "Fibonacci series: [0, 1, 1, 2, 3, 5, 8, 13, 21, 34]\n"
     ]
    }
   ],
   "source": [
    "#13.\n",
    "def fibonacci_series(n):\n",
    "    series = [0, 1]\n",
    "    while series[-1] + series[-2] <= n:\n",
    "        series.append(series[-1] + series[-2])\n",
    "    return series\n",
    "\n",
    "fibonacci_numbers = fibonacci_series(50)\n",
    "print(\"Fibonacci series:\", fibonacci_numbers)\n"
   ]
  },
  {
   "cell_type": "code",
   "execution_count": 14,
   "metadata": {},
   "outputs": [
    {
     "name": "stdout",
     "output_type": "stream",
     "text": [
      "Binomial numbers: [1, 80, 3160, 82160, 1581580, 24040016, 300500200, 3176716400, 28987537150, 231900297200, 1646492110120, 10477677064400, 60246643120300, 315136287090800, 1508152231077400, 6635869816740560, 26958221130508525, 101489773667796800, 355214207837288800, 1159120046626942400, 3535316142212174320, 10100903263463355200, 27088786024742634400, 68310851714568382400, 162238272822099908200, 363413731121503794368, 768759815833950334240, 1537519631667900668480, 2910305017085669122480, 5218477961670854978240, 8871412534840453463008, 14308729894903957198400, 21910242651571684460050, 31869443856831541032800, 44054819449149483192400, 57900619847453606481440, 72375774809317008101800, 86068488962431036661600, 97393290141698278327600, 104885081691059684352800, 107507208733336176461620, 104885081691059684352800, 97393290141698278327600, 86068488962431036661600, 72375774809317008101800, 57900619847453606481440, 44054819449149483192400, 31869443856831541032800, 21910242651571684460050, 14308729894903957198400, 8871412534840453463008, 5218477961670854978240, 2910305017085669122480, 1537519631667900668480, 768759815833950334240, 363413731121503794368, 162238272822099908200, 68310851714568382400, 27088786024742634400, 10100903263463355200, 3535316142212174320, 1159120046626942400, 355214207837288800, 101489773667796800, 26958221130508525, 6635869816740560, 1508152231077400, 315136287090800, 60246643120300, 10477677064400, 1646492110120, 231900297200, 28987537150, 3176716400, 300500200, 24040016, 1581580, 82160, 3160, 80, 1]\n"
     ]
    }
   ],
   "source": [
    "#14.\n",
    "import math\n",
    "\n",
    "def binomial_numbers(n):\n",
    "    numbers = []\n",
    "    for k in range(n + 1):\n",
    "        number = math.comb(n, k)\n",
    "        numbers.append(number)\n",
    "    return numbers\n",
    "\n",
    "binomial = binomial_numbers(80)\n",
    "print(\"Binomial numbers:\", binomial)\n"
   ]
  },
  {
   "cell_type": "code",
   "execution_count": null,
   "metadata": {},
   "outputs": [],
   "source": []
  }
 ],
 "metadata": {
  "kernelspec": {
   "display_name": "Python 3 (ipykernel)",
   "language": "python",
   "name": "python3"
  },
  "language_info": {
   "codemirror_mode": {
    "name": "ipython",
    "version": 3
   },
   "file_extension": ".py",
   "mimetype": "text/x-python",
   "name": "python",
   "nbconvert_exporter": "python",
   "pygments_lexer": "ipython3",
   "version": "3.9.7"
  }
 },
 "nbformat": 4,
 "nbformat_minor": 4
}
