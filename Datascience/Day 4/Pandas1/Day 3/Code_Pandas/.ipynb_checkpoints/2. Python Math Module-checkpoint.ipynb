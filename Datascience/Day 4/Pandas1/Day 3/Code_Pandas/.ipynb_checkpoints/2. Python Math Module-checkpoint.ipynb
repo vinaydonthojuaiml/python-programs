{
 "cells": [
  {
   "cell_type": "markdown",
   "id": "ebee2bd9",
   "metadata": {},
   "source": [
    "# The math Module Constants"
   ]
  },
  {
   "cell_type": "markdown",
   "id": "b4de18a3",
   "metadata": {},
   "source": [
    "1.math.pi\n",
    "The number 𝜋 is a mathematical constant, \n",
    "approximately equal to 3.14159. After importing the math module, you just need to write math.pi to access the 𝜋 number:"
   ]
  },
  {
   "cell_type": "code",
   "execution_count": 2,
   "id": "6f79d8fb",
   "metadata": {},
   "outputs": [
    {
     "name": "stdout",
     "output_type": "stream",
     "text": [
      "3.141592653589793\n"
     ]
    }
   ],
   "source": [
    "import math\n",
    "print(math.pi)"
   ]
  },
  {
   "cell_type": "code",
   "execution_count": 2,
   "id": "b6687f9e",
   "metadata": {},
   "outputs": [
    {
     "name": "stdout",
     "output_type": "stream",
     "text": [
      "Area = 28.274333882308138\n"
     ]
    }
   ],
   "source": [
    "#Let’s use the 𝜋 number to calculate the area of a circle. The formula for calculating a circle area is as follows:\n",
    "\n",
    "import math\n",
    "def circle_area(r):\n",
    "    return math.pi*r**2\n",
    "radius = 3\n",
    "print(\"Area =\", circle_area(radius))"
   ]
  },
  {
   "cell_type": "markdown",
   "id": "5fece5a6",
   "metadata": {},
   "source": [
    " 2. math.tau\n",
    " The τ constant returns an almost precise value of 2𝜋\n",
    " Let’s print its value:"
   ]
  },
  {
   "cell_type": "code",
   "execution_count": 3,
   "id": "d6847bfc",
   "metadata": {},
   "outputs": [
    {
     "name": "stdout",
     "output_type": "stream",
     "text": [
      "6.283185307179586\n"
     ]
    }
   ],
   "source": [
    "print(math.tau)"
   ]
  },
  {
   "cell_type": "markdown",
   "id": "8ea459f3",
   "metadata": {},
   "source": [
    "3. math.e\n",
    "We can access the number e (or the Euler’s number) simply by using the math.e constant:"
   ]
  },
  {
   "cell_type": "code",
   "execution_count": 4,
   "id": "91bbcf54",
   "metadata": {},
   "outputs": [
    {
     "name": "stdout",
     "output_type": "stream",
     "text": [
      "2.718281828459045\n"
     ]
    }
   ],
   "source": [
    "print(math.e)"
   ]
  },
  {
   "cell_type": "markdown",
   "id": "720edadd",
   "metadata": {},
   "source": [
    "4. math.inf \n",
    "The math.inf constant represents a floating-point positive infinity. \n",
    "It can represent both positive infinity and negative infinity constants, as follows:"
   ]
  },
  {
   "cell_type": "code",
   "execution_count": null,
   "id": "b1286d3c",
   "metadata": {},
   "outputs": [],
   "source": [
    "print(math.inf)\n",
    "print(-math.inf)"
   ]
  },
  {
   "cell_type": "markdown",
   "id": "a9a8f457",
   "metadata": {},
   "source": [
    "# The math Module Functions"
   ]
  },
  {
   "cell_type": "markdown",
   "id": "1a10bb03",
   "metadata": {},
   "source": [
    "1. Number functions"
   ]
  },
  {
   "cell_type": "markdown",
   "id": "bd78c34e",
   "metadata": {},
   "source": [
    "-- math.ceil() : The math.ceil() method maps a floating-point number to the smallest succeeding integer:\n"
   ]
  },
  {
   "cell_type": "code",
   "execution_count": 4,
   "id": "88e75ce3",
   "metadata": {},
   "outputs": [
    {
     "name": "stdout",
     "output_type": "stream",
     "text": [
      "11\n"
     ]
    }
   ],
   "source": [
    "import math\n",
    "p = 10.1\n",
    "print(math.ceil(p))"
   ]
  },
  {
   "cell_type": "markdown",
   "id": "de81010c",
   "metadata": {},
   "source": [
    "-- math.floor() : The math.floor method maps a floating point number to the greatest preceeding integer."
   ]
  },
  {
   "cell_type": "code",
   "execution_count": 5,
   "id": "b557df32",
   "metadata": {},
   "outputs": [
    {
     "name": "stdout",
     "output_type": "stream",
     "text": [
      "9\n"
     ]
    }
   ],
   "source": [
    "q=9.99\n",
    "print(math.floor(9))"
   ]
  },
  {
   "cell_type": "markdown",
   "id": "e95cda11",
   "metadata": {},
   "source": [
    "--math.factorial() : returns the product of all natural numbers less than or equal to n, if n a positive integer. However, \n",
    "if n = 0, it returns 1.The code below uses the math.factorial() to calculate 5!"
   ]
  },
  {
   "cell_type": "code",
   "execution_count": 5,
   "id": "4ccf3d45",
   "metadata": {},
   "outputs": [
    {
     "name": "stdout",
     "output_type": "stream",
     "text": [
      "5! = 120\n"
     ]
    }
   ],
   "source": [
    "n = 5\n",
    "print(\"{}! = {}\".format(n, math.factorial(n)))"
   ]
  },
  {
   "cell_type": "markdown",
   "id": "ce5c722e",
   "metadata": {},
   "source": [
    "-- math.gcd() : The math.gcd() method returns the greatest common denominator for two numbers; we can use it to reduce fractions."
   ]
  },
  {
   "cell_type": "code",
   "execution_count": 7,
   "id": "ec08b419",
   "metadata": {},
   "outputs": [
    {
     "name": "stdout",
     "output_type": "stream",
     "text": [
      "5\n"
     ]
    }
   ],
   "source": [
    "gcd = math.gcd(25, 120)\n",
    "print(gcd)"
   ]
  },
  {
   "cell_type": "markdown",
   "id": "b2b49282",
   "metadata": {},
   "source": [
    "-- math.fabs() : The math.fabs() method removes the negative sign of a given number, if any, and returns its absolute value as a float:"
   ]
  },
  {
   "cell_type": "code",
   "execution_count": 3,
   "id": "b154db72",
   "metadata": {},
   "outputs": [
    {
     "name": "stdout",
     "output_type": "stream",
     "text": [
      "25.0\n"
     ]
    }
   ],
   "source": [
    "\n",
    "print(math.fabs(-25))"
   ]
  },
  {
   "cell_type": "markdown",
   "id": "9ff1a0ce",
   "metadata": {},
   "source": [
    "2. Power and Logarithmic Functions"
   ]
  },
  {
   "cell_type": "markdown",
   "id": "ac30d614",
   "metadata": {},
   "source": [
    "-- math.pow() : The math.pow() method returns a floating-point value representing the value of x to the power of y \n"
   ]
  },
  {
   "cell_type": "code",
   "execution_count": 8,
   "id": "255f5a58",
   "metadata": {},
   "outputs": [
    {
     "name": "stdout",
     "output_type": "stream",
     "text": [
      "The final amount after five years is 12166.529024000001\n"
     ]
    }
   ],
   "source": [
    "deposit = 10000\n",
    "interest_rate = 0.04\n",
    "number_years = 5\n",
    "final_amount = deposit * math.pow(1 + interest_rate, number_years)\n",
    "print(\"The final amount after five years is\", final_amount)"
   ]
  },
  {
   "cell_type": "markdown",
   "id": "dd20b346",
   "metadata": {},
   "source": [
    "-- math.log() : The math.log() method accepts two arguments, x and base, where the default value of base is \n",
    "e. "
   ]
  },
  {
   "cell_type": "code",
   "execution_count": 6,
   "id": "521998d3",
   "metadata": {},
   "outputs": [
    {
     "name": "stdout",
     "output_type": "stream",
     "text": [
      "2.302585092994046\n",
      "2.095903274289385\n"
     ]
    }
   ],
   "source": [
    "print(math.log(10))\n",
    "print(math.log(10, 3))"
   ]
  },
  {
   "cell_type": "markdown",
   "id": "8dd32e8e",
   "metadata": {},
   "source": [
    "3. Trigonometric Functions"
   ]
  },
  {
   "cell_type": "markdown",
   "id": "8947b7fe",
   "metadata": {},
   "source": [
    "--math.sin() : The math.sin() method returns the sine of a given value, where the value must be in radians. \n",
    "    The returned value is a floating-point number between -1 and 1:"
   ]
  },
  {
   "cell_type": "code",
   "execution_count": 9,
   "id": "1f3ac352",
   "metadata": {},
   "outputs": [
    {
     "name": "stdout",
     "output_type": "stream",
     "text": [
      "0.7071067811865476\n"
     ]
    }
   ],
   "source": [
    "print(math.sin(math.pi/4))"
   ]
  },
  {
   "cell_type": "markdown",
   "id": "dc0ffcc1",
   "metadata": {},
   "source": [
    "math.cos()"
   ]
  },
  {
   "cell_type": "markdown",
   "id": "5a816ab6",
   "metadata": {},
   "source": [
    "math.tan()"
   ]
  },
  {
   "cell_type": "markdown",
   "id": "5c9dfb55",
   "metadata": {},
   "source": [
    "The math‍‍‍ module provides two useful methods for angular conversion. To convert a given angle from radians to degrees, use the math.degrees(),\n",
    "and to convert a given angle from degrees to radians, use math.radians(x)."
   ]
  },
  {
   "cell_type": "code",
   "execution_count": null,
   "id": "a13ecb00",
   "metadata": {},
   "outputs": [],
   "source": []
  },
  {
   "cell_type": "markdown",
   "id": "5915abfd",
   "metadata": {},
   "source": [
    "4.Hyperbolic Functions"
   ]
  },
  {
   "cell_type": "code",
   "execution_count": null,
   "id": "0239469f",
   "metadata": {},
   "outputs": [],
   "source": [
    "math.cosh(x)\tcomputes the hyperbolic cosine of x.\n",
    "math.sinh(x)\tcomputes the hyperbolic sine of x.\n",
    "math.tanh(x)\tcomputes the hyperbolic tangent of x.\n",
    "math.acosh(x)\tcomputes the inverse hyperbolic cosine of x.\n",
    "math.asinh(x)\tcomputes the inverse hyperbolic sine of x.\n",
    "math.atanh(x)\tcomputes the inverse hyperbolic tangent of x."
   ]
  },
  {
   "cell_type": "code",
   "execution_count": 10,
   "id": "4b9258de",
   "metadata": {},
   "outputs": [
    {
     "name": "stdout",
     "output_type": "stream",
     "text": [
      "1.1276259652063807\n",
      "0.5210953054937474\n",
      "0.46211715726000974\n"
     ]
    }
   ],
   "source": [
    "x = 0.5\n",
    "print(math.cosh(x))\n",
    "print(math.sinh(x))\n",
    "print(math.tanh(x))"
   ]
  },
  {
   "cell_type": "code",
   "execution_count": null,
   "id": "17cca075",
   "metadata": {},
   "outputs": [],
   "source": []
  }
 ],
 "metadata": {
  "kernelspec": {
   "display_name": "Python 3 (ipykernel)",
   "language": "python",
   "name": "python3"
  },
  "language_info": {
   "codemirror_mode": {
    "name": "ipython",
    "version": 3
   },
   "file_extension": ".py",
   "mimetype": "text/x-python",
   "name": "python",
   "nbconvert_exporter": "python",
   "pygments_lexer": "ipython3",
   "version": "3.9.7"
  }
 },
 "nbformat": 4,
 "nbformat_minor": 5
}
