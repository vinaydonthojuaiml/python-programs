{
 "cells": [
  {
   "cell_type": "markdown",
   "id": "3ec99347",
   "metadata": {},
   "source": [
    "# Examples:"
   ]
  },
  {
   "cell_type": "code",
   "execution_count": null,
   "id": "6b6bfe01",
   "metadata": {},
   "outputs": [],
   "source": [
    "Tasks:-\n",
    "    \n",
    "1. Read CSV file with mentioned columns only.\n",
    "2. Read CSV with 5th element only.\n",
    "3. Check shape , Mean, mode for each column\n",
    "4. check missing values for each and every column\n",
    "5. fill the missing values using different methods\n",
    "6. replace the student names with others.\n",
    "7. Group the dataset with class, Gender. "
   ]
  },
  {
   "cell_type": "raw",
   "id": "00f2494d",
   "metadata": {},
   "source": [
    "1. Read CSV file with mentioned columns only."
   ]
  },
  {
   "cell_type": "code",
   "execution_count": 1,
   "id": "bb848924",
   "metadata": {},
   "outputs": [],
   "source": [
    "import pandas as pd\n",
    "df= pd.read_csv('student.csv',usecols=[\"name\", \"mark\"])"
   ]
  },
  {
   "cell_type": "code",
   "execution_count": 2,
   "id": "0935f889",
   "metadata": {},
   "outputs": [
    {
     "data": {
      "text/html": [
       "<div><div id=a22522d0-01a8-4262-b498-d8c9688e9c76 style=\"display:none; background-color:#9D6CFF; color:white; width:200px; height:30px; padding-left:5px; border-radius:4px; flex-direction:row; justify-content:space-around; align-items:center;\" onmouseover=\"this.style.backgroundColor='#BA9BF8'\" onmouseout=\"this.style.backgroundColor='#9D6CFF'\" onclick=\"window.commands?.execute('create-mitosheet-from-dataframe-output');\">See Full Dataframe in Mito</div> <script> if (window.commands?.hasCommand('create-mitosheet-from-dataframe-output')) document.getElementById('a22522d0-01a8-4262-b498-d8c9688e9c76').style.display = 'flex' </script> <table border=\"1\" class=\"dataframe\">\n",
       "  <thead>\n",
       "    <tr style=\"text-align: right;\">\n",
       "      <th></th>\n",
       "      <th>name</th>\n",
       "      <th>mark</th>\n",
       "    </tr>\n",
       "  </thead>\n",
       "  <tbody>\n",
       "    <tr>\n",
       "      <th>0</th>\n",
       "      <td>John Deo</td>\n",
       "      <td>75</td>\n",
       "    </tr>\n",
       "    <tr>\n",
       "      <th>1</th>\n",
       "      <td>Max Ruin</td>\n",
       "      <td>85</td>\n",
       "    </tr>\n",
       "    <tr>\n",
       "      <th>2</th>\n",
       "      <td>Arnold</td>\n",
       "      <td>55</td>\n",
       "    </tr>\n",
       "    <tr>\n",
       "      <th>3</th>\n",
       "      <td>Krish Star</td>\n",
       "      <td>60</td>\n",
       "    </tr>\n",
       "    <tr>\n",
       "      <th>4</th>\n",
       "      <td>John Mike</td>\n",
       "      <td>60</td>\n",
       "    </tr>\n",
       "    <tr>\n",
       "      <th>5</th>\n",
       "      <td>Alex John</td>\n",
       "      <td>55</td>\n",
       "    </tr>\n",
       "    <tr>\n",
       "      <th>6</th>\n",
       "      <td>My John Rob</td>\n",
       "      <td>78</td>\n",
       "    </tr>\n",
       "    <tr>\n",
       "      <th>7</th>\n",
       "      <td>Asruid</td>\n",
       "      <td>85</td>\n",
       "    </tr>\n",
       "    <tr>\n",
       "      <th>8</th>\n",
       "      <td>Tes Qry</td>\n",
       "      <td>78</td>\n",
       "    </tr>\n",
       "    <tr>\n",
       "      <th>9</th>\n",
       "      <td>Big John</td>\n",
       "      <td>55</td>\n",
       "    </tr>\n",
       "  </tbody>\n",
       "</table></div>"
      ],
      "text/plain": [
       "          name  mark\n",
       "0     John Deo    75\n",
       "1     Max Ruin    85\n",
       "2       Arnold    55\n",
       "3   Krish Star    60\n",
       "4    John Mike    60\n",
       "5    Alex John    55\n",
       "6  My John Rob    78\n",
       "7       Asruid    85\n",
       "8      Tes Qry    78\n",
       "9     Big John    55"
      ]
     },
     "execution_count": 2,
     "metadata": {},
     "output_type": "execute_result"
    }
   ],
   "source": [
    "df.head(10)"
   ]
  },
  {
   "cell_type": "raw",
   "id": "5a7f097d",
   "metadata": {},
   "source": [
    "2. Read CSV with 5th element only."
   ]
  },
  {
   "cell_type": "code",
   "execution_count": 23,
   "id": "ffb36912",
   "metadata": {},
   "outputs": [],
   "source": [
    "def fifth_ele(x):\n",
    "    if x%5==0:\n",
    "        return True\n",
    "    return False\n",
    "\n",
    "df = pd.read_csv(\"student.csv\",skiprows=lambda x:fifth_ele(x),names=[\"id\",\"name\",\"class\",\"marks\",\"gender\"])"
   ]
  },
  {
   "cell_type": "code",
   "execution_count": 24,
   "id": "9e643454",
   "metadata": {},
   "outputs": [
    {
     "data": {
      "text/html": [
       "<div><div id=f0c37ec6-fae0-44ce-8f4e-fa4d4001af60 style=\"display:none; background-color:#9D6CFF; color:white; width:200px; height:30px; padding-left:5px; border-radius:4px; flex-direction:row; justify-content:space-around; align-items:center;\" onmouseover=\"this.style.backgroundColor='#BA9BF8'\" onmouseout=\"this.style.backgroundColor='#9D6CFF'\" onclick=\"window.commands?.execute('create-mitosheet-from-dataframe-output');\">See Full Dataframe in Mito</div> <script> if (window.commands?.hasCommand('create-mitosheet-from-dataframe-output')) document.getElementById('f0c37ec6-fae0-44ce-8f4e-fa4d4001af60').style.display = 'flex' </script> <table border=\"1\" class=\"dataframe\">\n",
       "  <thead>\n",
       "    <tr style=\"text-align: right;\">\n",
       "      <th></th>\n",
       "      <th>id</th>\n",
       "      <th>name</th>\n",
       "      <th>class</th>\n",
       "      <th>marks</th>\n",
       "      <th>gender</th>\n",
       "    </tr>\n",
       "  </thead>\n",
       "  <tbody>\n",
       "    <tr>\n",
       "      <th>0</th>\n",
       "      <td>1</td>\n",
       "      <td>John Deo</td>\n",
       "      <td>Four</td>\n",
       "      <td>75</td>\n",
       "      <td>female</td>\n",
       "    </tr>\n",
       "    <tr>\n",
       "      <th>1</th>\n",
       "      <td>2</td>\n",
       "      <td>Max Ruin</td>\n",
       "      <td>Three</td>\n",
       "      <td>85</td>\n",
       "      <td>male</td>\n",
       "    </tr>\n",
       "    <tr>\n",
       "      <th>2</th>\n",
       "      <td>3</td>\n",
       "      <td>Arnold</td>\n",
       "      <td>Three</td>\n",
       "      <td>55</td>\n",
       "      <td>male</td>\n",
       "    </tr>\n",
       "    <tr>\n",
       "      <th>3</th>\n",
       "      <td>4</td>\n",
       "      <td>Krish Star</td>\n",
       "      <td>Four</td>\n",
       "      <td>60</td>\n",
       "      <td>female</td>\n",
       "    </tr>\n",
       "    <tr>\n",
       "      <th>4</th>\n",
       "      <td>6</td>\n",
       "      <td>Alex John</td>\n",
       "      <td>Four</td>\n",
       "      <td>55</td>\n",
       "      <td>male</td>\n",
       "    </tr>\n",
       "    <tr>\n",
       "      <th>5</th>\n",
       "      <td>7</td>\n",
       "      <td>My John Rob</td>\n",
       "      <td>Fifth</td>\n",
       "      <td>78</td>\n",
       "      <td>male</td>\n",
       "    </tr>\n",
       "    <tr>\n",
       "      <th>6</th>\n",
       "      <td>8</td>\n",
       "      <td>Asruid</td>\n",
       "      <td>Five</td>\n",
       "      <td>85</td>\n",
       "      <td>male</td>\n",
       "    </tr>\n",
       "    <tr>\n",
       "      <th>7</th>\n",
       "      <td>9</td>\n",
       "      <td>Tes Qry</td>\n",
       "      <td>Six</td>\n",
       "      <td>78</td>\n",
       "      <td>male</td>\n",
       "    </tr>\n",
       "    <tr>\n",
       "      <th>8</th>\n",
       "      <td>11</td>\n",
       "      <td>Ronald</td>\n",
       "      <td>Six</td>\n",
       "      <td>89</td>\n",
       "      <td>female</td>\n",
       "    </tr>\n",
       "    <tr>\n",
       "      <th>9</th>\n",
       "      <td>12</td>\n",
       "      <td>Recky</td>\n",
       "      <td>Six</td>\n",
       "      <td>94</td>\n",
       "      <td>female</td>\n",
       "    </tr>\n",
       "  </tbody>\n",
       "</table></div>"
      ],
      "text/plain": [
       "   id         name  class  marks  gender\n",
       "0   1     John Deo   Four     75  female\n",
       "1   2     Max Ruin  Three     85    male\n",
       "2   3       Arnold  Three     55    male\n",
       "3   4   Krish Star   Four     60  female\n",
       "4   6    Alex John   Four     55    male\n",
       "5   7  My John Rob  Fifth     78    male\n",
       "6   8       Asruid   Five     85    male\n",
       "7   9      Tes Qry    Six     78    male\n",
       "8  11       Ronald    Six     89  female\n",
       "9  12        Recky    Six     94  female"
      ]
     },
     "execution_count": 24,
     "metadata": {},
     "output_type": "execute_result"
    }
   ],
   "source": [
    "df.head(10)"
   ]
  },
  {
   "cell_type": "raw",
   "id": "c82ace38",
   "metadata": {},
   "source": [
    "3. Check shape , Mean, mode for each column"
   ]
  },
  {
   "cell_type": "code",
   "execution_count": 41,
   "id": "26248f20",
   "metadata": {},
   "outputs": [],
   "source": [
    "df= pd.read_csv('student.csv')"
   ]
  },
  {
   "cell_type": "code",
   "execution_count": 26,
   "id": "9581073f",
   "metadata": {},
   "outputs": [
    {
     "data": {
      "text/plain": [
       "(28, 5)"
      ]
     },
     "execution_count": 26,
     "metadata": {},
     "output_type": "execute_result"
    }
   ],
   "source": [
    "df.shape"
   ]
  },
  {
   "cell_type": "code",
   "execution_count": 28,
   "id": "dd7d5e2e",
   "metadata": {},
   "outputs": [
    {
     "data": {
      "text/html": [
       "<div><div id=878cfa37-96d7-4a8f-b0ed-16a9147747d9 style=\"display:none; background-color:#9D6CFF; color:white; width:200px; height:30px; padding-left:5px; border-radius:4px; flex-direction:row; justify-content:space-around; align-items:center;\" onmouseover=\"this.style.backgroundColor='#BA9BF8'\" onmouseout=\"this.style.backgroundColor='#9D6CFF'\" onclick=\"window.commands?.execute('create-mitosheet-from-dataframe-output');\">See Full Dataframe in Mito</div> <script> if (window.commands?.hasCommand('create-mitosheet-from-dataframe-output')) document.getElementById('878cfa37-96d7-4a8f-b0ed-16a9147747d9').style.display = 'flex' </script> <table border=\"1\" class=\"dataframe\">\n",
       "  <thead>\n",
       "    <tr style=\"text-align: right;\">\n",
       "      <th></th>\n",
       "      <th>id</th>\n",
       "      <th>marks</th>\n",
       "    </tr>\n",
       "  </thead>\n",
       "  <tbody>\n",
       "    <tr>\n",
       "      <th>count</th>\n",
       "      <td>28.000000</td>\n",
       "      <td>28.000000</td>\n",
       "    </tr>\n",
       "    <tr>\n",
       "      <th>mean</th>\n",
       "      <td>17.500000</td>\n",
       "      <td>74.642857</td>\n",
       "    </tr>\n",
       "    <tr>\n",
       "      <th>std</th>\n",
       "      <td>10.246951</td>\n",
       "      <td>17.103637</td>\n",
       "    </tr>\n",
       "    <tr>\n",
       "      <th>min</th>\n",
       "      <td>1.000000</td>\n",
       "      <td>18.000000</td>\n",
       "    </tr>\n",
       "    <tr>\n",
       "      <th>25%</th>\n",
       "      <td>8.750000</td>\n",
       "      <td>66.750000</td>\n",
       "    </tr>\n",
       "    <tr>\n",
       "      <th>50%</th>\n",
       "      <td>17.500000</td>\n",
       "      <td>78.500000</td>\n",
       "    </tr>\n",
       "    <tr>\n",
       "      <th>75%</th>\n",
       "      <td>26.250000</td>\n",
       "      <td>88.000000</td>\n",
       "    </tr>\n",
       "    <tr>\n",
       "      <th>max</th>\n",
       "      <td>34.000000</td>\n",
       "      <td>96.000000</td>\n",
       "    </tr>\n",
       "  </tbody>\n",
       "</table></div>"
      ],
      "text/plain": [
       "              id      marks\n",
       "count  28.000000  28.000000\n",
       "mean   17.500000  74.642857\n",
       "std    10.246951  17.103637\n",
       "min     1.000000  18.000000\n",
       "25%     8.750000  66.750000\n",
       "50%    17.500000  78.500000\n",
       "75%    26.250000  88.000000\n",
       "max    34.000000  96.000000"
      ]
     },
     "execution_count": 28,
     "metadata": {},
     "output_type": "execute_result"
    }
   ],
   "source": [
    "df.describe()"
   ]
  },
  {
   "cell_type": "raw",
   "id": "badc838f",
   "metadata": {},
   "source": [
    "4. check missing values for each and every column"
   ]
  },
  {
   "cell_type": "code",
   "execution_count": 33,
   "id": "ae8ae056",
   "metadata": {},
   "outputs": [
    {
     "data": {
      "text/plain": [
       "id        0\n",
       "name      0\n",
       "class     0\n",
       "marks     0\n",
       "gender    0\n",
       "dtype: int64"
      ]
     },
     "execution_count": 33,
     "metadata": {},
     "output_type": "execute_result"
    }
   ],
   "source": [
    "df.isnull().sum()"
   ]
  },
  {
   "cell_type": "raw",
   "id": "0999ec7a",
   "metadata": {},
   "source": [
    "5. fill the missing values using different methods"
   ]
  },
  {
   "cell_type": "code",
   "execution_count": null,
   "id": "3d3994f3",
   "metadata": {},
   "outputs": [],
   "source": []
  },
  {
   "cell_type": "raw",
   "id": "97631d69",
   "metadata": {},
   "source": [
    "6. replace the student names with others."
   ]
  },
  {
   "cell_type": "code",
   "execution_count": 38,
   "id": "1b9c65bd",
   "metadata": {},
   "outputs": [
    {
     "data": {
      "text/html": [
       "<div><div id=f9a1a70d-65f4-4b4e-91c2-49e5fdc0188c style=\"display:none; background-color:#9D6CFF; color:white; width:200px; height:30px; padding-left:5px; border-radius:4px; flex-direction:row; justify-content:space-around; align-items:center;\" onmouseover=\"this.style.backgroundColor='#BA9BF8'\" onmouseout=\"this.style.backgroundColor='#9D6CFF'\" onclick=\"window.commands?.execute('create-mitosheet-from-dataframe-output');\">See Full Dataframe in Mito</div> <script> if (window.commands?.hasCommand('create-mitosheet-from-dataframe-output')) document.getElementById('f9a1a70d-65f4-4b4e-91c2-49e5fdc0188c').style.display = 'flex' </script> <table border=\"1\" class=\"dataframe\">\n",
       "  <thead>\n",
       "    <tr style=\"text-align: right;\">\n",
       "      <th></th>\n",
       "      <th>id</th>\n",
       "      <th>name</th>\n",
       "      <th>class</th>\n",
       "      <th>marks</th>\n",
       "      <th>gender</th>\n",
       "    </tr>\n",
       "  </thead>\n",
       "  <tbody>\n",
       "    <tr>\n",
       "      <th>0</th>\n",
       "      <td>1</td>\n",
       "      <td>John Deo</td>\n",
       "      <td>Four</td>\n",
       "      <td>75</td>\n",
       "      <td>female</td>\n",
       "    </tr>\n",
       "    <tr>\n",
       "      <th>1</th>\n",
       "      <td>2</td>\n",
       "      <td>Max Ruin</td>\n",
       "      <td>Three</td>\n",
       "      <td>85</td>\n",
       "      <td>male</td>\n",
       "    </tr>\n",
       "    <tr>\n",
       "      <th>2</th>\n",
       "      <td>3</td>\n",
       "      <td>Arnold</td>\n",
       "      <td>Three</td>\n",
       "      <td>55</td>\n",
       "      <td>male</td>\n",
       "    </tr>\n",
       "    <tr>\n",
       "      <th>3</th>\n",
       "      <td>4</td>\n",
       "      <td>Krish Star</td>\n",
       "      <td>Four</td>\n",
       "      <td>60</td>\n",
       "      <td>female</td>\n",
       "    </tr>\n",
       "    <tr>\n",
       "      <th>4</th>\n",
       "      <td>6</td>\n",
       "      <td>Alex John</td>\n",
       "      <td>Four</td>\n",
       "      <td>55</td>\n",
       "      <td>male</td>\n",
       "    </tr>\n",
       "  </tbody>\n",
       "</table></div>"
      ],
      "text/plain": [
       "   id        name  class  marks  gender\n",
       "0   1    John Deo   Four     75  female\n",
       "1   2    Max Ruin  Three     85    male\n",
       "2   3      Arnold  Three     55    male\n",
       "3   4  Krish Star   Four     60  female\n",
       "4   6   Alex John   Four     55    male"
      ]
     },
     "execution_count": 38,
     "metadata": {},
     "output_type": "execute_result"
    }
   ],
   "source": [
    "df.head()"
   ]
  },
  {
   "cell_type": "code",
   "execution_count": 37,
   "id": "919a4b0c",
   "metadata": {},
   "outputs": [
    {
     "data": {
      "text/html": [
       "<div><div id=0b6d9983-f110-4f70-91ee-9e0b7025071b style=\"display:none; background-color:#9D6CFF; color:white; width:200px; height:30px; padding-left:5px; border-radius:4px; flex-direction:row; justify-content:space-around; align-items:center;\" onmouseover=\"this.style.backgroundColor='#BA9BF8'\" onmouseout=\"this.style.backgroundColor='#9D6CFF'\" onclick=\"window.commands?.execute('create-mitosheet-from-dataframe-output');\">See Full Dataframe in Mito</div> <script> if (window.commands?.hasCommand('create-mitosheet-from-dataframe-output')) document.getElementById('0b6d9983-f110-4f70-91ee-9e0b7025071b').style.display = 'flex' </script> <table border=\"1\" class=\"dataframe\">\n",
       "  <thead>\n",
       "    <tr style=\"text-align: right;\">\n",
       "      <th></th>\n",
       "      <th>id</th>\n",
       "      <th>name</th>\n",
       "      <th>class</th>\n",
       "      <th>marks</th>\n",
       "      <th>gender</th>\n",
       "    </tr>\n",
       "  </thead>\n",
       "  <tbody>\n",
       "    <tr>\n",
       "      <th>0</th>\n",
       "      <td>1</td>\n",
       "      <td>John Deo</td>\n",
       "      <td>Two</td>\n",
       "      <td>75</td>\n",
       "      <td>female</td>\n",
       "    </tr>\n",
       "    <tr>\n",
       "      <th>1</th>\n",
       "      <td>2</td>\n",
       "      <td>Max Ruin</td>\n",
       "      <td>Three</td>\n",
       "      <td>85</td>\n",
       "      <td>male</td>\n",
       "    </tr>\n",
       "    <tr>\n",
       "      <th>2</th>\n",
       "      <td>3</td>\n",
       "      <td>Himanshu</td>\n",
       "      <td>Three</td>\n",
       "      <td>55</td>\n",
       "      <td>male</td>\n",
       "    </tr>\n",
       "    <tr>\n",
       "      <th>3</th>\n",
       "      <td>4</td>\n",
       "      <td>Krish Star</td>\n",
       "      <td>Two</td>\n",
       "      <td>60</td>\n",
       "      <td>female</td>\n",
       "    </tr>\n",
       "    <tr>\n",
       "      <th>4</th>\n",
       "      <td>6</td>\n",
       "      <td>Alex John</td>\n",
       "      <td>Two</td>\n",
       "      <td>55</td>\n",
       "      <td>male</td>\n",
       "    </tr>\n",
       "    <tr>\n",
       "      <th>...</th>\n",
       "      <td>...</td>\n",
       "      <td>...</td>\n",
       "      <td>...</td>\n",
       "      <td>...</td>\n",
       "      <td>...</td>\n",
       "    </tr>\n",
       "    <tr>\n",
       "      <th>23</th>\n",
       "      <td>29</td>\n",
       "      <td>Tess Played</td>\n",
       "      <td>Seven</td>\n",
       "      <td>55</td>\n",
       "      <td>male</td>\n",
       "    </tr>\n",
       "    <tr>\n",
       "      <th>24</th>\n",
       "      <td>31</td>\n",
       "      <td>Marry Toeey</td>\n",
       "      <td>Two</td>\n",
       "      <td>88</td>\n",
       "      <td>male</td>\n",
       "    </tr>\n",
       "    <tr>\n",
       "      <th>25</th>\n",
       "      <td>32</td>\n",
       "      <td>Binn Rott</td>\n",
       "      <td>Seven</td>\n",
       "      <td>90</td>\n",
       "      <td>female</td>\n",
       "    </tr>\n",
       "    <tr>\n",
       "      <th>26</th>\n",
       "      <td>33</td>\n",
       "      <td>Kenn Rein</td>\n",
       "      <td>Six</td>\n",
       "      <td>96</td>\n",
       "      <td>female</td>\n",
       "    </tr>\n",
       "    <tr>\n",
       "      <th>27</th>\n",
       "      <td>34</td>\n",
       "      <td>Gain Toe</td>\n",
       "      <td>Seven</td>\n",
       "      <td>69</td>\n",
       "      <td>male</td>\n",
       "    </tr>\n",
       "  </tbody>\n",
       "</table></div>"
      ],
      "text/plain": [
       "    id         name  class  marks  gender\n",
       "0    1     John Deo    Two     75  female\n",
       "1    2     Max Ruin  Three     85    male\n",
       "2    3     Himanshu  Three     55    male\n",
       "3    4   Krish Star    Two     60  female\n",
       "4    6    Alex John    Two     55    male\n",
       "5    7  My John Rob  Fifth     78    male\n",
       "6    8       Asruid   Five     85    male\n",
       "7    9      Tes Qry    Six     78    male\n",
       "8   11       Ronald    Six     89  female\n",
       "9   12        Recky    Six     94  female\n",
       "10  13          Kty  Seven     88  female\n",
       "11  14         Bigy  Seven     88  female\n",
       "12  16        Gimmy    Two     88    male\n",
       "13  17        Tumyu    Six     54    male\n",
       "14  18        Honny   Five     75    male\n",
       "15  19        Tinny   Nine     18    male\n",
       "16  21   Babby John    Two     69  female\n",
       "17  22       Reggid  Seven     55  female\n",
       "18  23        Herod  Eight     79    male\n",
       "19  24    Tiddy Now  Seven     78    male\n",
       "20  26       Crelea  Seven     79    male\n",
       "21  27     Big Nose  Three     81  female\n",
       "22  28    Rojj Base  Seven     86  female\n",
       "23  29  Tess Played  Seven     55    male\n",
       "24  31  Marry Toeey    Two     88    male\n",
       "25  32    Binn Rott  Seven     90  female\n",
       "26  33    Kenn Rein    Six     96  female\n",
       "27  34     Gain Toe  Seven     69    male"
      ]
     },
     "execution_count": 37,
     "metadata": {},
     "output_type": "execute_result"
    }
   ],
   "source": [
    "df.replace([\"Arnold\",\"Four\"],[\"Himanshu\",\"Two\"])"
   ]
  },
  {
   "cell_type": "raw",
   "id": "7e755c92",
   "metadata": {},
   "source": [
    "7. Group the dataset with class, Gender. "
   ]
  },
  {
   "cell_type": "code",
   "execution_count": 42,
   "id": "5ca38cbb",
   "metadata": {},
   "outputs": [
    {
     "data": {
      "text/html": [
       "<div><div id=251b0612-1855-4866-93c4-a35d58e87504 style=\"display:none; background-color:#9D6CFF; color:white; width:200px; height:30px; padding-left:5px; border-radius:4px; flex-direction:row; justify-content:space-around; align-items:center;\" onmouseover=\"this.style.backgroundColor='#BA9BF8'\" onmouseout=\"this.style.backgroundColor='#9D6CFF'\" onclick=\"window.commands?.execute('create-mitosheet-from-dataframe-output');\">See Full Dataframe in Mito</div> <script> if (window.commands?.hasCommand('create-mitosheet-from-dataframe-output')) document.getElementById('251b0612-1855-4866-93c4-a35d58e87504').style.display = 'flex' </script> <table border=\"1\" class=\"dataframe\">\n",
       "  <thead>\n",
       "    <tr style=\"text-align: right;\">\n",
       "      <th></th>\n",
       "      <th>id</th>\n",
       "      <th>name</th>\n",
       "      <th>class</th>\n",
       "      <th>mark</th>\n",
       "      <th>gender</th>\n",
       "    </tr>\n",
       "  </thead>\n",
       "  <tbody>\n",
       "    <tr>\n",
       "      <th>0</th>\n",
       "      <td>1</td>\n",
       "      <td>John Deo</td>\n",
       "      <td>Four</td>\n",
       "      <td>75</td>\n",
       "      <td>female</td>\n",
       "    </tr>\n",
       "    <tr>\n",
       "      <th>1</th>\n",
       "      <td>2</td>\n",
       "      <td>Max Ruin</td>\n",
       "      <td>Three</td>\n",
       "      <td>85</td>\n",
       "      <td>male</td>\n",
       "    </tr>\n",
       "    <tr>\n",
       "      <th>2</th>\n",
       "      <td>3</td>\n",
       "      <td>Arnold</td>\n",
       "      <td>Three</td>\n",
       "      <td>55</td>\n",
       "      <td>male</td>\n",
       "    </tr>\n",
       "    <tr>\n",
       "      <th>3</th>\n",
       "      <td>4</td>\n",
       "      <td>Krish Star</td>\n",
       "      <td>Four</td>\n",
       "      <td>60</td>\n",
       "      <td>female</td>\n",
       "    </tr>\n",
       "    <tr>\n",
       "      <th>4</th>\n",
       "      <td>5</td>\n",
       "      <td>John Mike</td>\n",
       "      <td>Four</td>\n",
       "      <td>60</td>\n",
       "      <td>female</td>\n",
       "    </tr>\n",
       "  </tbody>\n",
       "</table></div>"
      ],
      "text/plain": [
       "   id        name  class  mark  gender\n",
       "0   1    John Deo   Four    75  female\n",
       "1   2    Max Ruin  Three    85    male\n",
       "2   3      Arnold  Three    55    male\n",
       "3   4  Krish Star   Four    60  female\n",
       "4   5   John Mike   Four    60  female"
      ]
     },
     "execution_count": 42,
     "metadata": {},
     "output_type": "execute_result"
    }
   ],
   "source": [
    "df.head()"
   ]
  },
  {
   "cell_type": "code",
   "execution_count": 48,
   "id": "b0074a15",
   "metadata": {},
   "outputs": [],
   "source": [
    "grp=df.groupby(['class','gender'])"
   ]
  },
  {
   "cell_type": "code",
   "execution_count": 49,
   "id": "a4c8b7ac",
   "metadata": {},
   "outputs": [
    {
     "name": "stdout",
     "output_type": "stream",
     "text": [
      "('Eight', 'male')\n",
      "    id   name  class  mark gender\n",
      "22  23  Herod  Eight    79   male\n",
      "('Fifth', 'male')\n",
      "   id         name  class  mark gender\n",
      "6   7  My John Rob  Fifth    78   male\n",
      "('Five', 'male')\n",
      "    id    name class  mark gender\n",
      "7    8  Asruid  Five    85   male\n",
      "17  18   Honny  Five    75   male\n",
      "('Four', 'female')\n",
      "    id        name class  mark  gender\n",
      "0    1    John Deo  Four    75  female\n",
      "3    4  Krish Star  Four    60  female\n",
      "4    5   John Mike  Four    60  female\n",
      "9   10    Big John  Four    55  female\n",
      "20  21  Babby John  Four    69  female\n",
      "('Four', 'male')\n",
      "    id         name class  mark gender\n",
      "5    6    Alex John  Four    55   male\n",
      "14  15     Tade Row  Four    88   male\n",
      "15  16        Gimmy  Four    88   male\n",
      "30  31  Marry Toeey  Four    88   male\n",
      "('Nine', 'female')\n",
      "    id    name class  mark  gender\n",
      "19  20  Jackly  Nine    65  female\n",
      "('Nine', 'male')\n",
      "    id   name class  mark gender\n",
      "18  19  Tinny  Nine    18   male\n",
      "('Seven', 'female')\n",
      "    id       name  class  mark  gender\n",
      "12  13        Kty  Seven    88  female\n",
      "13  14       Bigy  Seven    88  female\n",
      "21  22     Reggid  Seven    55  female\n",
      "27  28  Rojj Base  Seven    86  female\n",
      "31  32  Binn Rott  Seven    90  female\n",
      "('Seven', 'male')\n",
      "    id         name  class  mark gender\n",
      "23  24    Tiddy Now  Seven    78   male\n",
      "24  25     Giff Tow  Seven    88   male\n",
      "25  26       Crelea  Seven    79   male\n",
      "28  29  Tess Played  Seven    55   male\n",
      "33  34     Gain Toe  Seven    69   male\n",
      "('Six', 'female')\n",
      "    id        name class  mark  gender\n",
      "10  11      Ronald   Six    89  female\n",
      "11  12       Recky   Six    94  female\n",
      "29  30   Reppy Red   Six    79  female\n",
      "32  33   Kenn Rein   Six    96  female\n",
      "34  35  Rows Noump   Six    88  female\n",
      "('Six', 'male')\n",
      "    id     name class  mark gender\n",
      "8    9  Tes Qry   Six    78   male\n",
      "16  17    Tumyu   Six    54   male\n",
      "('Three', 'female')\n",
      "    id      name  class  mark  gender\n",
      "26  27  Big Nose  Three    81  female\n",
      "('Three', 'male')\n",
      "   id      name  class  mark gender\n",
      "1   2  Max Ruin  Three    85   male\n",
      "2   3    Arnold  Three    55   male\n"
     ]
    }
   ],
   "source": [
    "for name,name_id in grp:\n",
    "    print(name)\n",
    "    print(name_id)"
   ]
  },
  {
   "cell_type": "code",
   "execution_count": null,
   "id": "d05a69ee",
   "metadata": {},
   "outputs": [],
   "source": []
  },
  {
   "cell_type": "code",
   "execution_count": 7,
   "id": "96dbf005",
   "metadata": {},
   "outputs": [
    {
     "name": "stdout",
     "output_type": "stream",
     "text": [
      "0     True\n",
      "1     True\n",
      "2    False\n",
      "3    False\n",
      "dtype: bool\n"
     ]
    }
   ],
   "source": [
    "s1= pd.Series([11,12,3,4])\n",
    "print(s1>7)"
   ]
  },
  {
   "cell_type": "code",
   "execution_count": 6,
   "id": "1121f3b9",
   "metadata": {},
   "outputs": [
    {
     "name": "stdout",
     "output_type": "stream",
     "text": [
      "0    11\n",
      "1    12\n",
      "dtype: int64\n"
     ]
    }
   ],
   "source": [
    "print(s1[s1>7])\n",
    "if s1>7:\n",
    "    True\n",
    "else:\n",
    "    False"
   ]
  },
  {
   "cell_type": "markdown",
   "id": "f84635c7",
   "metadata": {},
   "source": [
    "# Questions:"
   ]
  },
  {
   "cell_type": "code",
   "execution_count": null,
   "id": "4cff502d",
   "metadata": {},
   "outputs": [],
   "source": [
    "1. # How to convert the first character of each element in a series to uppercase?\n",
    "ser = pd.Series(['how', 'to', 'kick', 'football?'])\n",
    "\n",
    "2. #. How to calculate the number of characters in each word in a series?c\n",
    "ser = pd.Series(['how', 'to', 'kick', 'football?'])\n",
    "\n",
    "3.#. How to compute difference of differences between consequtive numbers of a series?\n",
    "ser = pd.Series([1, 3, 6, 10, 15, 21, 27, 35])"
   ]
  },
  {
   "cell_type": "code",
   "execution_count": 3,
   "id": "44eb6088",
   "metadata": {},
   "outputs": [
    {
     "name": "stdout",
     "output_type": "stream",
     "text": [
      "0          How\n",
      "1           To\n",
      "2         Kick\n",
      "3    Football?\n",
      "dtype: object\n"
     ]
    }
   ],
   "source": [
    "ser = pd.Series(['how', 'to', 'kick', 'football?'])\n",
    "print(ser.str.title())"
   ]
  },
  {
   "cell_type": "code",
   "execution_count": null,
   "id": "1cf0fedc",
   "metadata": {},
   "outputs": [],
   "source": []
  },
  {
   "cell_type": "code",
   "execution_count": null,
   "id": "bc7d5e3b",
   "metadata": {},
   "outputs": [],
   "source": []
  },
  {
   "cell_type": "code",
   "execution_count": null,
   "id": "21236367",
   "metadata": {},
   "outputs": [],
   "source": []
  },
  {
   "cell_type": "code",
   "execution_count": null,
   "id": "09597eef",
   "metadata": {},
   "outputs": [],
   "source": []
  },
  {
   "cell_type": "code",
   "execution_count": null,
   "id": "e78e8f85",
   "metadata": {},
   "outputs": [],
   "source": []
  },
  {
   "cell_type": "code",
   "execution_count": null,
   "id": "1829f086",
   "metadata": {},
   "outputs": [],
   "source": []
  },
  {
   "cell_type": "code",
   "execution_count": null,
   "id": "85f5888d",
   "metadata": {},
   "outputs": [],
   "source": []
  },
  {
   "cell_type": "code",
   "execution_count": 1,
   "id": "88a6bfaa",
   "metadata": {},
   "outputs": [
    {
     "data": {
      "text/plain": [
       "0     How\n",
       "1      To\n",
       "2    Kick\n",
       "3    Ass?\n",
       "dtype: object"
      ]
     },
     "execution_count": 1,
     "metadata": {},
     "output_type": "execute_result"
    }
   ],
   "source": [
    "# How to convert the first character of each element in a series to uppercase?\n",
    "ser = pd.Series(['how', 'to', 'kick', 'ass?'])\n",
    "str(ser.values).title()\n",
    "for i in range (4):\n",
    "    ser[i]=str(ser[i]).title()\n",
    "ser\n",
    "#ser.map(lambda x: x.title())"
   ]
  },
  {
   "cell_type": "code",
   "execution_count": 2,
   "id": "77ae797b",
   "metadata": {},
   "outputs": [
    {
     "data": {
      "text/plain": [
       "0     How\n",
       "1      To\n",
       "2    Kick\n",
       "3    Ass?\n",
       "dtype: object"
      ]
     },
     "execution_count": 2,
     "metadata": {},
     "output_type": "execute_result"
    }
   ],
   "source": [
    "ser.map(lambda x: x.title())"
   ]
  },
  {
   "cell_type": "code",
   "execution_count": null,
   "id": "0e34d327",
   "metadata": {},
   "outputs": [],
   "source": [
    "#. How to calculate the number of characters in each word in a series?c\n",
    "ser = pd.Series(['how', 'to', 'kick', 'ass?'])\n",
    "ser.map(lambda x: len(str(x)))"
   ]
  },
  {
   "cell_type": "code",
   "execution_count": null,
   "id": "e9c7b03a",
   "metadata": {},
   "outputs": [],
   "source": [
    "#. How to compute difference of differences between consequtive numbers of a series?\n",
    "ser = pd.Series([1, 3, 6, 10, 15, 21, 27, 35])\n",
    "(ser.diff().diff()).tolist()"
   ]
  },
  {
   "cell_type": "code",
   "execution_count": null,
   "id": "5f8c9fba",
   "metadata": {},
   "outputs": [],
   "source": []
  },
  {
   "cell_type": "code",
   "execution_count": null,
   "id": "efba2bc2",
   "metadata": {},
   "outputs": [],
   "source": []
  },
  {
   "cell_type": "code",
   "execution_count": null,
   "id": "a84d3abe",
   "metadata": {},
   "outputs": [],
   "source": []
  },
  {
   "cell_type": "code",
   "execution_count": null,
   "id": "d61b0fc6",
   "metadata": {},
   "outputs": [],
   "source": []
  },
  {
   "cell_type": "code",
   "execution_count": null,
   "id": "36f3c374",
   "metadata": {},
   "outputs": [],
   "source": []
  }
 ],
 "metadata": {
  "kernelspec": {
   "display_name": "Python 3 (ipykernel)",
   "language": "python",
   "name": "python3"
  },
  "language_info": {
   "codemirror_mode": {
    "name": "ipython",
    "version": 3
   },
   "file_extension": ".py",
   "mimetype": "text/x-python",
   "name": "python",
   "nbconvert_exporter": "python",
   "pygments_lexer": "ipython3",
   "version": "3.9.7"
  }
 },
 "nbformat": 4,
 "nbformat_minor": 5
}
