{
 "cells": [
  {
   "cell_type": "markdown",
   "id": "7d09f4ba",
   "metadata": {},
   "source": [
    "# 1.Create a new empty text file named ‘sales.txt’"
   ]
  },
  {
   "cell_type": "code",
   "execution_count": 2,
   "id": "0b4d6d35",
   "metadata": {},
   "outputs": [],
   "source": [
    "# create a empty text file\n",
    "# in current directory\n",
    "fp = open('sales.txt', 'x')\n",
    "fp.close()"
   ]
  },
  {
   "cell_type": "markdown",
   "id": "6405f45d",
   "metadata": {},
   "source": [
    "Use access mode w if you want to create and write content into a file."
   ]
  },
  {
   "cell_type": "code",
   "execution_count": 4,
   "id": "ef4b1a48",
   "metadata": {},
   "outputs": [
    {
     "data": {
      "text/plain": [
       "12"
      ]
     },
     "execution_count": 4,
     "metadata": {},
     "output_type": "execute_result"
    }
   ],
   "source": [
    "# create a empty text file\n",
    "fp = open('Himanshu.txt', 'w')\n",
    "fp.write(\"Hi Himanshu\")\n",
    "#fp.write('first line')\n",
    "fp.close()"
   ]
  },
  {
   "cell_type": "markdown",
   "id": "1265733d",
   "metadata": {},
   "source": [
    "Let’s verify our operation result."
   ]
  },
  {
   "cell_type": "code",
   "execution_count": 7,
   "id": "2623ddac",
   "metadata": {},
   "outputs": [
    {
     "name": "stdout",
     "output_type": "stream",
     "text": [
      "True\n"
     ]
    }
   ],
   "source": [
    "import os\n",
    "\n",
    "# list files from a working directory\n",
    "#print(os.listdir())\n",
    "# verify file exist\n",
    "print(os.path.isfile('sales.txt'))"
   ]
  },
  {
   "cell_type": "markdown",
   "id": "ef0d726a",
   "metadata": {},
   "source": [
    "Create File In A Specific Directory"
   ]
  },
  {
   "cell_type": "code",
   "execution_count": 8,
   "id": "b4e00c23",
   "metadata": {},
   "outputs": [],
   "source": [
    "# create a text file for writing\n",
    "with open(r'C:\\Users\\Mroads\\Desktop\\learn\\DS_08_05\\Day 3\\profit.txt', 'w') as fp:\n",
    "    fp.write('This is first line')\n",
    "    pass"
   ]
  },
  {
   "cell_type": "markdown",
   "id": "0e2531f3",
   "metadata": {},
   "source": [
    "join directory path and file name"
   ]
  },
  {
   "cell_type": "code",
   "execution_count": 9,
   "id": "a8cb3772",
   "metadata": {},
   "outputs": [],
   "source": [
    "import os\n",
    "\n",
    "# Specify the directory path\n",
    "path = r'C:\\Users\\Mroads\\Desktop\\learn\\DS_08_05\\Day 3\\Day 2 Remaining'\n",
    "file_name = ['revenue.txt',\"Day.txt\",\"File.txt\"]\n",
    "\n",
    "# Creating a file at specified folder\n",
    "# join directory and file path\n",
    "for i in file_name:\n",
    "    with open(os.path.join(path, i), 'w') as fp:\n",
    "    # uncomment below line if you want to create an empty file\n",
    "        fp.write('This is a new line')"
   ]
  },
  {
   "cell_type": "code",
   "execution_count": null,
   "id": "f5654abf",
   "metadata": {},
   "outputs": [],
   "source": [
    "absolute_path+File_name"
   ]
  },
  {
   "cell_type": "code",
   "execution_count": null,
   "id": "c196041a",
   "metadata": {},
   "outputs": [],
   "source": []
  },
  {
   "cell_type": "markdown",
   "id": "87b93c2a",
   "metadata": {},
   "source": [
    "# 2.Opening a File in read mode "
   ]
  },
  {
   "cell_type": "code",
   "execution_count": 10,
   "id": "0694237e",
   "metadata": {},
   "outputs": [
    {
     "name": "stdout",
     "output_type": "stream",
     "text": [
      "Hii Himanshu\n"
     ]
    }
   ],
   "source": [
    "# Opening the file with absolute path\n",
    "fp = open(r'C:\\Users\\Mroads\\Desktop\\learn\\DS_08_05\\Day 3\\Day 2 Remaining\\Himanshu.txt', 'r')\n",
    "# read file\n",
    "print(fp.read())\n",
    "# Closing the file after reading\n",
    "fp.close()\n",
    "\n",
    "# path if you using MacOs\n",
    "# fp = open(r\"/Users/myfiles/sample.txt\", \"r\")"
   ]
  },
  {
   "cell_type": "code",
   "execution_count": 18,
   "id": "7c8ec827",
   "metadata": {},
   "outputs": [],
   "source": [
    "fd=open(\"Himanshu.txt\",'r')"
   ]
  },
  {
   "cell_type": "markdown",
   "id": "c054f357",
   "metadata": {},
   "source": [
    "Excepetion Handling "
   ]
  },
  {
   "cell_type": "code",
   "execution_count": 15,
   "id": "23f3c462",
   "metadata": {},
   "outputs": [
    {
     "name": "stdout",
     "output_type": "stream",
     "text": [
      "Please check the path.\n",
      "Completed\n"
     ]
    }
   ],
   "source": [
    "# Opening the file with relative path\n",
    "try:\n",
    "    fp = open(\"Himanshuu.txt\", \"r\")\n",
    "    print(fp.read())\n",
    "    fp.close()\n",
    "except FileNotFoundError:\n",
    "    print(\"Please check the path.\")\n",
    "print(\"Completed\")"
   ]
  },
  {
   "cell_type": "markdown",
   "id": "6fb5e404",
   "metadata": {},
   "source": [
    "Reading a File Using the with Statement\n",
    "with open(__file__, accessmode) as f:\n",
    "\n",
    "The following are the main advantages of opening a file using ‘with’ statement\n",
    "\n",
    "The with statement simplifies exception handling by encapsulating common preparation and cleanup tasks.\n",
    "This also ensures that a file is automatically closed after leaving the block.\n",
    "As the file is closed automatically it ensures that all the resources that are tied up with the file are released."
   ]
  },
  {
   "cell_type": "code",
   "execution_count": 16,
   "id": "5e3cc8b0",
   "metadata": {},
   "outputs": [
    {
     "name": "stdout",
     "output_type": "stream",
     "text": [
      "Hii Himanshu\n"
     ]
    }
   ],
   "source": [
    "# Reading files using 'with'\n",
    "with open('Himanshu.txt', 'r') as file:\n",
    "    print(file.read())"
   ]
  },
  {
   "cell_type": "code",
   "execution_count": 17,
   "id": "aa854d2b",
   "metadata": {},
   "outputs": [
    {
     "name": "stdout",
     "output_type": "stream",
     "text": [
      "Hii Himanshu\n",
      "\n"
     ]
    }
   ],
   "source": [
    "#readline(n)\n",
    "with open('Himanshu.txt', 'r') as fp:\n",
    "    # read first line\n",
    "    # assign it to string variable\n",
    "    line = fp.readline()\n",
    "    print(line)"
   ]
  },
  {
   "cell_type": "code",
   "execution_count": 19,
   "id": "29409c19",
   "metadata": {},
   "outputs": [
    {
     "name": "stdout",
     "output_type": "stream",
     "text": [
      "['Hii Himanshu\\n', 'This is AI Session\\n', 'New line']\n"
     ]
    }
   ],
   "source": [
    "#readlines()\n",
    "with open('Himanshu.txt', 'r') as fp:\n",
    "    # Read file into list\n",
    "    lines = fp.readlines()\n",
    "    print(lines)"
   ]
  },
  {
   "cell_type": "markdown",
   "id": "d8e867e5",
   "metadata": {},
   "source": [
    "# 3. Write to a Text file in Python"
   ]
  },
  {
   "cell_type": "code",
   "execution_count": 20,
   "id": "bc15db20",
   "metadata": {},
   "outputs": [
    {
     "name": "stdout",
     "output_type": "stream",
     "text": [
      "Done Writing\n"
     ]
    }
   ],
   "source": [
    "text = \"This is new content\"\n",
    "# writing new content to the file\n",
    "fp = open(\"write_demo.txt\", 'w')\n",
    "fp.write(text)\n",
    "print('Done Writing')\n",
    "fp.close()"
   ]
  },
  {
   "cell_type": "code",
   "execution_count": 21,
   "id": "977fc398",
   "metadata": {},
   "outputs": [
    {
     "name": "stdout",
     "output_type": "stream",
     "text": [
      "This is new content\n"
     ]
    }
   ],
   "source": [
    "# Open the file for reading the new contents\n",
    "with open('write_demo.txt', 'r') as file:\n",
    "    print(file.read())"
   ]
  },
  {
   "cell_type": "markdown",
   "id": "ee60dbc0",
   "metadata": {},
   "source": [
    "**Writing To An Existing File In an already existing file, while opening the file in the write mode, the existing content will be overwritten. The filehandle will be placed at the beginning of the file.**"
   ]
  },
  {
   "cell_type": "code",
   "execution_count": 22,
   "id": "f000922b",
   "metadata": {},
   "outputs": [
    {
     "name": "stdout",
     "output_type": "stream",
     "text": [
      "This is new content\n",
      "Opening file again..\n",
      "This is new version\n"
     ]
    }
   ],
   "source": [
    "with open('write_demo.txt', 'r') as file:\n",
    "    print(file.read())\n",
    "\n",
    "# overwriting existing content of a file\n",
    "with open(\"write_demo.txt\", 'w') as fp:\n",
    "    fp.write(\"This is new version\")\n",
    "\n",
    "# Read file\n",
    "print(\"Opening file again..\")\n",
    "with open('write_demo.txt', 'r') as file:\n",
    "    print(file.read())"
   ]
  },
  {
   "cell_type": "markdown",
   "id": "73ac5a94",
   "metadata": {},
   "source": [
    "#writelines(): Write a list of lines to a file\n",
    "lines = [str1, str2, str3]\n",
    "file_obj.writelines(lines)"
   ]
  },
  {
   "cell_type": "code",
   "execution_count": 23,
   "id": "157539d2",
   "metadata": {},
   "outputs": [
    {
     "name": "stdout",
     "output_type": "stream",
     "text": [
      "Opening file again..\n",
      "Name: Emma\n",
      "Address: 221 Baker Street\n",
      "City: London\n"
     ]
    }
   ],
   "source": [
    "person_data = ['Name: Emma', '\\nAddress: 221 Baker Street', '\\nCity: London']\n",
    "# writing string and list of lines to a file\n",
    "with open(\"write_demo.txt\", 'w') as fp:\n",
    "    fp.writelines(person_data)\n",
    "\n",
    "# Read file\n",
    "print(\"Opening file again..\")\n",
    "with open('write_demo.txt', 'r') as file:\n",
    "    print(file.read())"
   ]
  },
  {
   "cell_type": "markdown",
   "id": "55609dbf",
   "metadata": {},
   "source": [
    "#Appending New Content to an Existing File"
   ]
  },
  {
   "cell_type": "code",
   "execution_count": 24,
   "id": "8beb6555",
   "metadata": {},
   "outputs": [
    {
     "name": "stdout",
     "output_type": "stream",
     "text": [
      "Name: Emma\n",
      "Address: 221 Baker Street\n",
      "City: London\n",
      "Alia\n",
      "Address: H10 ring Street\n",
      "City: toronto\n",
      "Country:Canada\n"
     ]
    }
   ],
   "source": [
    "name = '\\nAlia'\n",
    "address = ['\\nAddress: H10 ring Street', '\\nCity: toronto', '\\nCountry:Canada']\n",
    "# append to file\n",
    "with open(\"Write_demo.txt\", \"a\") as f:\n",
    "    f.write(name)\n",
    "    f.writelines(address)\n",
    "\n",
    "# opening the file in read mode to access the file\n",
    "with open(\"Write_demo.txt\", \"r\") as f:\n",
    "    print(f.read())"
   ]
  },
  {
   "cell_type": "code",
   "execution_count": null,
   "id": "2c9276fa",
   "metadata": {},
   "outputs": [],
   "source": [
    "#Append and Read on the Same File"
   ]
  },
  {
   "cell_type": "code",
   "execution_count": 25,
   "id": "0d9c9aba",
   "metadata": {},
   "outputs": [
    {
     "ename": "UnsupportedOperation",
     "evalue": "not readable",
     "output_type": "error",
     "traceback": [
      "\u001b[1;31m---------------------------------------------------------------------------\u001b[0m",
      "\u001b[1;31mUnsupportedOperation\u001b[0m                      Traceback (most recent call last)",
      "\u001b[1;32m~\\AppData\\Local\\Temp/ipykernel_4584/2025716444.py\u001b[0m in \u001b[0;36m<module>\u001b[1;34m\u001b[0m\n\u001b[0;32m      4\u001b[0m     \u001b[0mf\u001b[0m\u001b[1;33m.\u001b[0m\u001b[0mwrite\u001b[0m\u001b[1;33m(\u001b[0m\u001b[0mname2\u001b[0m\u001b[1;33m)\u001b[0m\u001b[1;33m\u001b[0m\u001b[1;33m\u001b[0m\u001b[0m\n\u001b[0;32m      5\u001b[0m     \u001b[0mf\u001b[0m\u001b[1;33m.\u001b[0m\u001b[0mwritelines\u001b[0m\u001b[1;33m(\u001b[0m\u001b[0maddress2\u001b[0m\u001b[1;33m)\u001b[0m\u001b[1;33m\u001b[0m\u001b[1;33m\u001b[0m\u001b[0m\n\u001b[1;32m----> 6\u001b[1;33m     \u001b[0mprint\u001b[0m\u001b[1;33m(\u001b[0m\u001b[0mf\u001b[0m\u001b[1;33m.\u001b[0m\u001b[0mread\u001b[0m\u001b[1;33m(\u001b[0m\u001b[1;33m)\u001b[0m\u001b[1;33m)\u001b[0m\u001b[1;33m\u001b[0m\u001b[1;33m\u001b[0m\u001b[0m\n\u001b[0m",
      "\u001b[1;31mUnsupportedOperation\u001b[0m: not readable"
     ]
    }
   ],
   "source": [
    "name2 = \"\\nAntony\"\n",
    "address2 = [\"224 Baker Street\\n\", \"London\\n\"]\n",
    "with open(\"Write_demo.txt\", \"a\") as f:\n",
    "    f.write(name2)\n",
    "    f.writelines(address2)\n",
    "    print(f.read())"
   ]
  },
  {
   "cell_type": "markdown",
   "id": "579399d6",
   "metadata": {},
   "source": [
    "As mentioned above, the write() method moves the filehandle in the append mode at the end.\n",
    "If we try to read the file using the read() method, you’ll get an empty string. \n",
    "Use the seek() method on the file object and move the FileHandle to the beginning."
   ]
  },
  {
   "cell_type": "code",
   "execution_count": 27,
   "id": "f6b166aa",
   "metadata": {},
   "outputs": [
    {
     "name": "stdout",
     "output_type": "stream",
     "text": [
      "\n"
     ]
    }
   ],
   "source": [
    "name = '\\nAntony'\n",
    "address = ['\\nAddress: 221 Baker Street', '\\nCity: London', '\\nCountry:United Kingdom']\n",
    "# append to file\n",
    "with open(\"Write_demo.txt\", \"a+\") as f:\n",
    "    f.write(name)\n",
    "    f.writelines(address)\n",
    "    # move file handle to the start\n",
    "    #f.seek(0)\n",
    "    print(f.read())"
   ]
  },
  {
   "cell_type": "markdown",
   "id": "1bca36fb",
   "metadata": {},
   "source": [
    "# 5. File Seek()"
   ]
  },
  {
   "cell_type": "code",
   "execution_count": null,
   "id": "28fd5bad",
   "metadata": {},
   "outputs": [],
   "source": [
    "#reading the file directly from the 6th character."
   ]
  },
  {
   "cell_type": "code",
   "execution_count": 30,
   "id": "7221cfbd",
   "metadata": {},
   "outputs": [
    {
     "name": "stdout",
     "output_type": "stream",
     "text": [
      "\n",
      "This is AI Session\n",
      "New line\n"
     ]
    }
   ],
   "source": [
    "with open('Himanshu.txt', \"r\") as fp:\n",
    "    # Moving the file handle to 6th character \n",
    "    fp.seek(12)\n",
    "    # read file\n",
    "    print(fp.read())"
   ]
  },
  {
   "cell_type": "code",
   "execution_count": null,
   "id": "fed41f3f",
   "metadata": {},
   "outputs": [],
   "source": [
    "#Seeking The End of File and writing at particular place or point"
   ]
  },
  {
   "cell_type": "code",
   "execution_count": 31,
   "id": "36789a7c",
   "metadata": {},
   "outputs": [
    {
     "name": "stdout",
     "output_type": "stream",
     "text": [
      "Name: Emma\n",
      "Address: 221 Baker Street\n",
      "City: London\n",
      "Alia\n",
      "Address: H10 ring Street\n",
      "City: toronto\n",
      "Country:Canada\n",
      "Antony224 Baker Street\n",
      "London\n",
      "\n",
      "Antony\n",
      "Address: 221 Baker Street\n",
      "City: London\n",
      "Country:United Kingdom\n",
      "Antony\n",
      "Address: 221 Baker Street\n",
      "City: London\n",
      "Country:United Kingdom\n",
      "This content is added to the end of the file\n"
     ]
    }
   ],
   "source": [
    "# open file for reading and writing  a+\n",
    "with open('Write_demo.txt', \"r+\") as fp:\n",
    "    # Moving the file handle to the end of the file\n",
    "    fp.seek(0, 2)\n",
    "    # Inserting new content to the end of the file\n",
    "    fp.write(\"\\nThis content is added to the end of the file\")\n",
    "\n",
    "    # moving to the beginning \n",
    "    # again read the whole file\n",
    "    fp.seek(0)\n",
    "    print(fp.read())"
   ]
  },
  {
   "cell_type": "markdown",
   "id": "ede756ac",
   "metadata": {},
   "source": [
    "# 6. Renaming a file in Python"
   ]
  },
  {
   "cell_type": "code",
   "execution_count": 25,
   "id": "0ceb52b0",
   "metadata": {},
   "outputs": [],
   "source": [
    "import os\n",
    "\n",
    "# Absolute path of a file\n",
    "old_name = r\"C:\\Users\\Mroads\\Desktop\\learn\\IITK DS - Applied Data Science with Python_25feb_25mar\\Day 1\\Code_Imp_Function\\sample.txt\"\n",
    "new_name = r\"C:\\Users\\Mroads\\Desktop\\learn\\IITK DS - Applied Data Science with Python_25feb_25mar\\Day 1\\Code_Imp_Function\\sample_new.txt\"\n",
    "\n",
    "# Renaming the file\n",
    "os.rename(old_name, new_name)"
   ]
  },
  {
   "cell_type": "markdown",
   "id": "869ac044",
   "metadata": {},
   "source": [
    "# 7. Delete Files and Directories in Python"
   ]
  },
  {
   "cell_type": "code",
   "execution_count": 27,
   "id": "9d342bab",
   "metadata": {},
   "outputs": [],
   "source": [
    "import os\n",
    "\n",
    "# removing a file with relative path\n",
    "os.remove(\"sample_new.txt\")"
   ]
  },
  {
   "cell_type": "markdown",
   "id": "0c49fb7d",
   "metadata": {},
   "source": [
    "**Tasks 1:**\n",
    "    \n",
    "**write code for Open a file named \"grades.txt\" in append mode. Prompt the user to enter a student's name and their grade. Write the student's name and grade to the file on same lines. Repeat this process for multiple students untill user mention \"q\" in the student name prompt**"
   ]
  },
  {
   "cell_type": "markdown",
   "id": "9849340e",
   "metadata": {},
   "source": [
    "**Task 2:**\n",
    "\n",
    "**write code for Open a file named \"employee_data.txt\" in append mode. Prompt the user to enter the employee name , salary, experience, distance of there home from office untill we press q in the employee name. and then read the file and print out employee's distance from office to home who is having the highest salary.**"
   ]
  },
  {
   "cell_type": "code",
   "execution_count": null,
   "id": "fa62d7af",
   "metadata": {},
   "outputs": [],
   "source": []
  },
  {
   "cell_type": "code",
   "execution_count": null,
   "id": "e4b5fedb",
   "metadata": {},
   "outputs": [],
   "source": []
  },
  {
   "cell_type": "code",
   "execution_count": null,
   "id": "2412bb1a",
   "metadata": {},
   "outputs": [],
   "source": []
  },
  {
   "cell_type": "code",
   "execution_count": null,
   "id": "aae8b8cc",
   "metadata": {},
   "outputs": [],
   "source": []
  },
  {
   "cell_type": "code",
   "execution_count": null,
   "id": "0462c1b2",
   "metadata": {},
   "outputs": [],
   "source": []
  },
  {
   "cell_type": "code",
   "execution_count": null,
   "id": "fe5a51ca",
   "metadata": {},
   "outputs": [],
   "source": []
  },
  {
   "cell_type": "code",
   "execution_count": null,
   "id": "98a72753",
   "metadata": {},
   "outputs": [],
   "source": []
  },
  {
   "cell_type": "code",
   "execution_count": null,
   "id": "76b629c1",
   "metadata": {},
   "outputs": [],
   "source": []
  },
  {
   "cell_type": "code",
   "execution_count": null,
   "id": "361a97ad",
   "metadata": {},
   "outputs": [],
   "source": []
  },
  {
   "cell_type": "code",
   "execution_count": null,
   "id": "4329727a",
   "metadata": {},
   "outputs": [],
   "source": []
  },
  {
   "cell_type": "code",
   "execution_count": null,
   "id": "a1beec3c",
   "metadata": {},
   "outputs": [],
   "source": []
  },
  {
   "cell_type": "code",
   "execution_count": null,
   "id": "7fe250d0",
   "metadata": {},
   "outputs": [],
   "source": []
  },
  {
   "cell_type": "code",
   "execution_count": null,
   "id": "e1ac678d",
   "metadata": {},
   "outputs": [],
   "source": []
  },
  {
   "cell_type": "code",
   "execution_count": null,
   "id": "0010e3a5",
   "metadata": {},
   "outputs": [],
   "source": []
  },
  {
   "cell_type": "code",
   "execution_count": null,
   "id": "61173a8e",
   "metadata": {},
   "outputs": [],
   "source": []
  },
  {
   "cell_type": "code",
   "execution_count": null,
   "id": "800b813e",
   "metadata": {},
   "outputs": [],
   "source": []
  },
  {
   "cell_type": "code",
   "execution_count": null,
   "id": "345c30b9",
   "metadata": {},
   "outputs": [],
   "source": []
  },
  {
   "cell_type": "code",
   "execution_count": null,
   "id": "be721a0b",
   "metadata": {},
   "outputs": [],
   "source": [
    "filename = \"grades.txt\"\n",
    "\n",
    "# Open the file in append mode\n",
    "with open(filename, 'a') as f:\n",
    "    while True:\n",
    "        # Prompt the user for student's name and grade\n",
    "        student_name = input(\"Enter student's name (or 'q' to quit): \")\n",
    "        if student_name == 'q':\n",
    "            break\n",
    "        student_grade = input(\"Enter student's grade: \")\n",
    "\n",
    "        # Write the student's name and grade on the same line\n",
    "        f.write(student_name + ' ' + student_grade + '\\n')\n",
    "\n",
    "print(\"Data written to\", filename)"
   ]
  },
  {
   "cell_type": "code",
   "execution_count": 42,
   "id": "ce3c4ae7",
   "metadata": {},
   "outputs": [
    {
     "name": "stdout",
     "output_type": "stream",
     "text": [
      "Himanshu 87\n",
      "Salim 98\n",
      "\n"
     ]
    }
   ],
   "source": [
    "with open(\"grades.txt\", \"r+\") as fp:\n",
    "    print(fp.read())"
   ]
  },
  {
   "cell_type": "code",
   "execution_count": null,
   "id": "11dd536b",
   "metadata": {},
   "outputs": [],
   "source": []
  },
  {
   "cell_type": "code",
   "execution_count": null,
   "id": "70e9347b",
   "metadata": {},
   "outputs": [],
   "source": []
  },
  {
   "cell_type": "code",
   "execution_count": null,
   "id": "9029e417",
   "metadata": {},
   "outputs": [],
   "source": []
  },
  {
   "cell_type": "code",
   "execution_count": null,
   "id": "eeb0d741",
   "metadata": {},
   "outputs": [],
   "source": []
  },
  {
   "cell_type": "code",
   "execution_count": null,
   "id": "fd781240",
   "metadata": {},
   "outputs": [],
   "source": [
    "filename = \"employee_data.txt\"\n",
    "\n",
    "# Open the file in append mode\n",
    "with open(filename, 'a') as f:\n",
    "    while True:\n",
    "        # Prompt the user for employee details\n",
    "        employee_name = input(\"Enter employee name (or 'q' to quit): \")\n",
    "        if employee_name == 'q':\n",
    "            break\n",
    "        salary = float(input(\"Enter employee salary: \"))\n",
    "        experience = float(input(\"Enter employee experience (in years): \"))\n",
    "        distance_home_office = float(input(\"Enter distance from home to office (in miles): \"))\n",
    "\n",
    "        # Write the employee details to the file on a single line\n",
    "        f.write(f\"{employee_name}, {salary}, {experience}, {distance_home_office}\\n\")\n",
    "\n",
    "print(\"Data written to\", filename)\n",
    "\n",
    "# Read the file and find the employee with the highest salary and less distance from home to office\n",
    "highest_salary = 0\n",
    "closest_distance = float('inf')\n",
    "best_employee = None\n",
    "\n",
    "with open(filename, 'r') as f:\n",
    "    for line in f:\n",
    "        employee_data = line.strip().split(', ')\n",
    "        employee_name = employee_data[0]\n",
    "        salary = float(employee_data[1])\n",
    "        distance_home_office = float(employee_data[3])\n",
    "\n",
    "        if salary > highest_salary and distance_home_office < closest_distance:\n",
    "            highest_salary = salary\n",
    "            closest_distance = distance_home_office\n",
    "            best_employee = employee_name\n",
    "\n",
    "if best_employee:\n",
    "    print(f\"The employee with the highest salary and closest distance is: {best_employee}\")\n",
    "    print(f\"Salary: {highest_salary}\")\n",
    "    print(f\"Distance from home to office: {closest_distance} miles\")\n",
    "else:\n",
    "    print(\"No employee data found.\")\n"
   ]
  },
  {
   "cell_type": "code",
   "execution_count": null,
   "id": "f1336cc2",
   "metadata": {},
   "outputs": [],
   "source": []
  }
 ],
 "metadata": {
  "kernelspec": {
   "display_name": "Python 3 (ipykernel)",
   "language": "python",
   "name": "python3"
  },
  "language_info": {
   "codemirror_mode": {
    "name": "ipython",
    "version": 3
   },
   "file_extension": ".py",
   "mimetype": "text/x-python",
   "name": "python",
   "nbconvert_exporter": "python",
   "pygments_lexer": "ipython3",
   "version": "3.9.7"
  }
 },
 "nbformat": 4,
 "nbformat_minor": 5
}
