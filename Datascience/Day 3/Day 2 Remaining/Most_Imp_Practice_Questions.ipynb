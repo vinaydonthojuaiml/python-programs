{
 "cells": [
  {
   "cell_type": "code",
   "execution_count": null,
   "id": "c3e3a158",
   "metadata": {},
   "outputs": [],
   "source": [
    "1.Write a Python program to calculate the area of a trapezoid\n",
    "Note : A trapezoid is a quadrilateral with two sides parallel. The trapezoid is equivalent to the British definition of the trapezium. An isosceles trapezoid is a trapezoid in which the base angles are equal so.\n",
    "Test Data:\n",
    "Height : 5\n",
    "Base, first value : 5\n",
    "Base, second value : 6\n",
    "Expected Output: Area is : 27.5"
   ]
  },
  {
   "cell_type": "code",
   "execution_count": null,
   "id": "e660835e",
   "metadata": {},
   "outputs": [],
   "source": [
    "2.Write a Python program to calculate the surface volume and area of a cylinder.\n",
    "Note: A cylinder is one of the most basic curvilinear geometric shapes, the surface formed by the points at a fixed distance from a given straight line, the axis of the cylinder.\n",
    "Test Data:\n",
    "volume : Height (4), Radius(6)\n",
    "Expected Output:\n",
    "Volume is : 452.57142857142856\n",
    "Surface Area is : 377.1428571428571"
   ]
  },
  {
   "cell_type": "code",
   "execution_count": null,
   "id": "2eaf3918",
   "metadata": {},
   "outputs": [],
   "source": [
    "3. Write a Python program to find the smallest multiple of the first n numbers. Also, display the factors.\n",
    "Test Data:\n",
    "If n = (13)\n",
    "Expected Output :\n",
    "[13, 12, 11, 10, 9, 8, 7]\n",
    "360360"
   ]
  },
  {
   "cell_type": "code",
   "execution_count": null,
   "id": "812316c4",
   "metadata": {},
   "outputs": [],
   "source": [
    "4.Write a Python program to calculate the difference between the squared sum of the first n natural numbers and the sum of squared first n natural numbers.(default value of number=2).\n",
    "Test Data:\n",
    "If sum_difference(12)\n",
    "Expected Output :\n",
    "5434"
   ]
  },
  {
   "cell_type": "code",
   "execution_count": null,
   "id": "2002f4f3",
   "metadata": {},
   "outputs": [],
   "source": []
  },
  {
   "cell_type": "code",
   "execution_count": null,
   "id": "8809a0a9",
   "metadata": {},
   "outputs": [],
   "source": []
  },
  {
   "cell_type": "code",
   "execution_count": null,
   "id": "e075f4c3",
   "metadata": {},
   "outputs": [],
   "source": []
  },
  {
   "cell_type": "code",
   "execution_count": null,
   "id": "1a8aeed0",
   "metadata": {},
   "outputs": [],
   "source": []
  },
  {
   "cell_type": "code",
   "execution_count": null,
   "id": "42033ef0",
   "metadata": {},
   "outputs": [],
   "source": []
  },
  {
   "cell_type": "code",
   "execution_count": null,
   "id": "1bc14c82",
   "metadata": {},
   "outputs": [],
   "source": []
  },
  {
   "cell_type": "code",
   "execution_count": null,
   "id": "eb6a32e0",
   "metadata": {},
   "outputs": [],
   "source": [
    "#1.Solution\n",
    "base_1 = 5\n",
    "base_2 = 6\n",
    "height = float(input(\"Height of trapezoid: \"))\n",
    "base_1 = float(input('Base one value: '))\n",
    "base_2 = float(input('Base two value: '))\n",
    "area = ((base_1 + base_2) / 2) * height\n",
    "print(\"Area is:\", area)"
   ]
  },
  {
   "cell_type": "code",
   "execution_count": null,
   "id": "8eb6d3e4",
   "metadata": {},
   "outputs": [],
   "source": [
    "#2. solution\n",
    "pi=22/7\n",
    "height = float(input('Height of cylinder: '))\n",
    "radian = float(input('Radius of cylinder: '))\n",
    "volume = pi * radian * radian * height\n",
    "sur_area = ((2*pi*radian) * height) + ((pi*radian**2)*2)\n",
    "print(\"Volume is: \", volume)\n",
    "print(\"Surface Area is: \", sur_area)"
   ]
  },
  {
   "cell_type": "code",
   "execution_count": null,
   "id": "0d2725b7",
   "metadata": {},
   "outputs": [],
   "source": [
    "#3.Solution\n",
    "def smallest_multiple(n):\n",
    "    if (n<=2):\n",
    "        return n\n",
    "    i = n * 2\n",
    "    factors = [number  for number in range(n, 1, -1) if number * 2 > n]\n",
    "    print(factors)\n",
    "\n",
    "    while True:\n",
    "        for a in factors:\n",
    "            if i % a != 0:\n",
    "                i += n\n",
    "                break\n",
    "            if (a == factors[-1] and i % a == 0):\n",
    "                return i\n",
    "                \n",
    "print(smallest_multiple(13))\n",
    "print(smallest_multiple(11))\n",
    "print(smallest_multiple(2))\n",
    "print(smallest_multiple(1))"
   ]
  },
  {
   "cell_type": "code",
   "execution_count": null,
   "id": "8468b354",
   "metadata": {},
   "outputs": [],
   "source": [
    "#4. Solution\n",
    "def sum_difference(n=2):\n",
    "    sum_of_squares = 0\n",
    "    square_of_sum = 0\n",
    "    for num in range(1, n+1):\n",
    "        sum_of_squares += num * num\n",
    "        square_of_sum += num\n",
    "\n",
    "    square_of_sum = square_of_sum ** 2\n",
    "\n",
    "    return square_of_sum - sum_of_squares\n",
    "\n",
    "\n",
    "print(sum_difference(12))"
   ]
  }
 ],
 "metadata": {
  "kernelspec": {
   "display_name": "Python 3 (ipykernel)",
   "language": "python",
   "name": "python3"
  },
  "language_info": {
   "codemirror_mode": {
    "name": "ipython",
    "version": 3
   },
   "file_extension": ".py",
   "mimetype": "text/x-python",
   "name": "python",
   "nbconvert_exporter": "python",
   "pygments_lexer": "ipython3",
   "version": "3.9.7"
  }
 },
 "nbformat": 4,
 "nbformat_minor": 5
}
