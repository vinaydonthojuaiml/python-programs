{
 "cells": [
  {
   "cell_type": "code",
   "execution_count": 4,
   "id": "c8b00caa",
   "metadata": {},
   "outputs": [
    {
     "data": {
      "text/plain": [
       "2"
      ]
     },
     "execution_count": 4,
     "metadata": {},
     "output_type": "execute_result"
    }
   ],
   "source": [
    "a = np.array([[1,2,3],[4,5,6]])\n",
    "np.transpose(a)\n",
    "a[0,1]"
   ]
  },
  {
   "cell_type": "code",
   "execution_count": 6,
   "id": "61d31839",
   "metadata": {},
   "outputs": [
    {
     "data": {
      "text/plain": [
       "array([[1, 4],\n",
       "       [2, 5],\n",
       "       [3, 6]])"
      ]
     },
     "execution_count": 6,
     "metadata": {},
     "output_type": "execute_result"
    }
   ],
   "source": [
    "np.transpose(a)"
   ]
  },
  {
   "cell_type": "markdown",
   "id": "1f768237",
   "metadata": {},
   "source": [
    "**1. Import numpy as np and see the version**"
   ]
  },
  {
   "cell_type": "code",
   "execution_count": 5,
   "id": "d168ed48",
   "metadata": {},
   "outputs": [
    {
     "name": "stdout",
     "output_type": "stream",
     "text": [
      "1.20.3\n"
     ]
    }
   ],
   "source": [
    "import numpy as np\n",
    "print(np.__version__)"
   ]
  },
  {
   "cell_type": "raw",
   "id": "ad84bfb5",
   "metadata": {},
   "source": [
    "# **2.How to replace items that satisfy a condition with another value in numpy array?\n",
    "Input: -arr = np.array([0, 1, 2, 3, 4, 5, 6, 7, 8, 9])\n",
    "output:- array([ 0, -1,  2, -1,  4, -1,  6, -1,  8, -1])**"
   ]
  },
  {
   "cell_type": "code",
   "execution_count": 3,
   "id": "a1cc0654",
   "metadata": {},
   "outputs": [],
   "source": [
    "arr = np.array([0, 1, 2, 3, 4, 5, 6, 7, 8, 9])"
   ]
  },
  {
   "cell_type": "code",
   "execution_count": 4,
   "id": "fdbe047b",
   "metadata": {},
   "outputs": [
    {
     "data": {
      "text/plain": [
       "array([ 0, -1,  2, -1,  4, -1,  6, -1,  8, -1])"
      ]
     },
     "execution_count": 4,
     "metadata": {},
     "output_type": "execute_result"
    }
   ],
   "source": [
    "arr[arr % 2 == 1] = -1\n",
    "arr"
   ]
  },
  {
   "cell_type": "raw",
   "id": "971999af",
   "metadata": {},
   "source": [
    "**3. Replace all odd numbers in arr with -1 without changing arr\n",
    "input - arr = np.array([0, 1, 2, 3, 4, 5, 6, 7, 8, 9])\n",
    "output - array([ 0, -1,  2, -1,  4, -1,  6, -1,  8, -1])**"
   ]
  },
  {
   "cell_type": "code",
   "execution_count": 5,
   "id": "30378722",
   "metadata": {},
   "outputs": [
    {
     "data": {
      "text/plain": [
       "array([ 0, -1,  2, -1,  4, -1,  6, -1,  8, -1])"
      ]
     },
     "execution_count": 5,
     "metadata": {},
     "output_type": "execute_result"
    }
   ],
   "source": [
    "rr = np.array([0, 1, 2, 3, 4, 5, 6, 7, 8, 9])\n",
    "o= np.where(rr%2==1,-1,rr)\n",
    "o"
   ]
  },
  {
   "cell_type": "code",
   "execution_count": null,
   "id": "2d76a6d3",
   "metadata": {},
   "outputs": [],
   "source": [
    "arr = np.arange(10)\n",
    "out = np.where(arr % 2 == 1, -1, arr)\n",
    "print(arr)"
   ]
  },
  {
   "cell_type": "raw",
   "id": "20b2f9f7",
   "metadata": {},
   "source": [
    "**4. Stack arrays a and b vertically\n",
    "a = np.arange(10).reshape(2,-1)\n",
    "b = np.repeat(1, 10).reshape(2,-1)**\n",
    "\n",
    "o/p-\n",
    "array([[0, 1, 2, 3, 4],\n",
    "#>        [5, 6, 7, 8, 9],\n",
    "#>        [1, 1, 1, 1, 1],\n",
    "#>        [1, 1, 1, 1, 1]])**"
   ]
  },
  {
   "cell_type": "code",
   "execution_count": 6,
   "id": "e0085b51",
   "metadata": {},
   "outputs": [],
   "source": [
    "a = np.arange(10).reshape(2,-1)\n",
    "b = np.repeat(1, 10).reshape(2,-1)"
   ]
  },
  {
   "cell_type": "code",
   "execution_count": 7,
   "id": "be400fe7",
   "metadata": {},
   "outputs": [
    {
     "data": {
      "text/plain": [
       "array([[0, 1, 2, 3, 4],\n",
       "       [5, 6, 7, 8, 9]])"
      ]
     },
     "execution_count": 7,
     "metadata": {},
     "output_type": "execute_result"
    }
   ],
   "source": [
    "a"
   ]
  },
  {
   "cell_type": "code",
   "execution_count": 8,
   "id": "73136cff",
   "metadata": {},
   "outputs": [
    {
     "data": {
      "text/plain": [
       "array([[1, 1, 1, 1, 1],\n",
       "       [1, 1, 1, 1, 1]])"
      ]
     },
     "execution_count": 8,
     "metadata": {},
     "output_type": "execute_result"
    }
   ],
   "source": [
    "b"
   ]
  },
  {
   "cell_type": "code",
   "execution_count": 9,
   "id": "29a8b8f9",
   "metadata": {},
   "outputs": [
    {
     "data": {
      "text/plain": [
       "array([[0, 1, 2, 3, 4],\n",
       "       [5, 6, 7, 8, 9],\n",
       "       [1, 1, 1, 1, 1],\n",
       "       [1, 1, 1, 1, 1]])"
      ]
     },
     "execution_count": 9,
     "metadata": {},
     "output_type": "execute_result"
    }
   ],
   "source": [
    "# Method 1:\n",
    "np.concatenate([a, b], axis=0)\n",
    "\n",
    "# Method 2:\n",
    "np.vstack([a, b])\n",
    "\n",
    "# Method 3:\n",
    "np.r_[a, b]"
   ]
  },
  {
   "cell_type": "code",
   "execution_count": 10,
   "id": "2c5809b1",
   "metadata": {},
   "outputs": [
    {
     "data": {
      "text/plain": [
       "array([[0, 1, 2, 3, 4],\n",
       "       [5, 6, 7, 8, 9],\n",
       "       [1, 1, 1, 1, 1],\n",
       "       [1, 1, 1, 1, 1]])"
      ]
     },
     "execution_count": 10,
     "metadata": {},
     "output_type": "execute_result"
    }
   ],
   "source": [
    "np.vstack([a, b])"
   ]
  },
  {
   "cell_type": "code",
   "execution_count": 11,
   "id": "615a15b0",
   "metadata": {},
   "outputs": [
    {
     "data": {
      "text/plain": [
       "array([[0, 1, 2, 3, 4],\n",
       "       [5, 6, 7, 8, 9],\n",
       "       [1, 1, 1, 1, 1],\n",
       "       [1, 1, 1, 1, 1]])"
      ]
     },
     "execution_count": 11,
     "metadata": {},
     "output_type": "execute_result"
    }
   ],
   "source": [
    "np.r_[a, b]"
   ]
  },
  {
   "cell_type": "raw",
   "id": "6c11ab39",
   "metadata": {},
   "source": [
    "**5.Get the common items between a and b\n",
    "a = np.array([1,2,3,2,3,4,3,4,5,6])\n",
    "b = np.array([7,2,10,2,7,4,9,4,9,8])\n",
    "\n",
    "o/p\n",
    "array([2, 4])**"
   ]
  },
  {
   "cell_type": "code",
   "execution_count": null,
   "id": "a7e925b0",
   "metadata": {},
   "outputs": [],
   "source": [
    "np.intersect1d(a,b)"
   ]
  },
  {
   "cell_type": "raw",
   "id": "d6664c84",
   "metadata": {},
   "source": [
    "**6. From array a remove all items present in array b\n",
    "a = np.array([1,2,3,4,5])\n",
    "b = np.array([5,6,7,8,9])**\n",
    "\n",
    "**o/p\n",
    "array([1,2,3,4])**"
   ]
  },
  {
   "cell_type": "code",
   "execution_count": null,
   "id": "1c656f55",
   "metadata": {},
   "outputs": [],
   "source": [
    "# From 'a' remove all of 'b'\n",
    "np.setdiff1d(a,b)"
   ]
  },
  {
   "cell_type": "raw",
   "id": "bd39d911",
   "metadata": {},
   "source": [
    "**7. Get the positions where elements of a and b match\n",
    "a = np.array([1,2,3,2,3,4,3,4,5,6])\n",
    "b = np.array([7,2,10,2,7,4,9,4,9,8])**\n",
    "\n",
    "**o/p\n",
    "(array([1, 3, 5, 7]),)**"
   ]
  },
  {
   "cell_type": "code",
   "execution_count": 7,
   "id": "5e212dc0",
   "metadata": {},
   "outputs": [
    {
     "data": {
      "text/plain": [
       "(array([1, 3, 5, 7], dtype=int64),)"
      ]
     },
     "execution_count": 7,
     "metadata": {},
     "output_type": "execute_result"
    }
   ],
   "source": [
    "np.where(a == b)"
   ]
  },
  {
   "cell_type": "raw",
   "id": "3b6304bf",
   "metadata": {},
   "source": [
    "**8.Swap columns 1 and 2 in the array arr.\n",
    "arr = np.arange(9).reshape(3,3)\n",
    "arr**"
   ]
  },
  {
   "cell_type": "code",
   "execution_count": 12,
   "id": "3ef7142f",
   "metadata": {},
   "outputs": [
    {
     "data": {
      "text/plain": [
       "array([[1, 0, 2],\n",
       "       [4, 3, 5],\n",
       "       [7, 6, 8]])"
      ]
     },
     "execution_count": 12,
     "metadata": {},
     "output_type": "execute_result"
    }
   ],
   "source": [
    "arr[:, [1,0,2]]#reordering the colums using index numbers"
   ]
  },
  {
   "cell_type": "raw",
   "id": "82f0c9f5",
   "metadata": {},
   "source": [
    "**9.Create the ranks for the given numeric array a.\n",
    "np.random.seed(10)\n",
    "a = np.random.randint(20, size=10)\n",
    "print(a)**\n",
    "\n",
    "**o/p\n",
    "[4 2 6 0 8 7 9 3 5 1]**"
   ]
  },
  {
   "cell_type": "code",
   "execution_count": 14,
   "id": "9a3f5738",
   "metadata": {},
   "outputs": [
    {
     "name": "stdout",
     "output_type": "stream",
     "text": [
      "[4 2 6 0 8 7 9 3 5 1]\n",
      "Array:  [ 9  4 15  0 17 16 17  8  9  0]\n"
     ]
    }
   ],
   "source": [
    "print(a.argsort().argsort())\n",
    "print('Array: ', a)"
   ]
  },
  {
   "cell_type": "raw",
   "id": "14496ddf",
   "metadata": {},
   "source": [
    "**10. Compute the maximum for each row in the given array.\n",
    "np.random.seed(100)\n",
    "a = np.random.randint(1,10, [5,3])**\n",
    "a\n",
    "\n",
    "**o/p\n",
    "array([9, 8, 6, 3, 9])**"
   ]
  },
  {
   "cell_type": "code",
   "execution_count": 15,
   "id": "b29d0d04",
   "metadata": {},
   "outputs": [
    {
     "data": {
      "text/plain": [
       "array([[9, 7, 5],\n",
       "       [4, 1, 5],\n",
       "       [7, 9, 2],\n",
       "       [9, 5, 2],\n",
       "       [4, 7, 6]])"
      ]
     },
     "execution_count": 15,
     "metadata": {},
     "output_type": "execute_result"
    }
   ],
   "source": [
    "a = np.random.randint(1,10, [5,3])"
   ]
  },
  {
   "cell_type": "code",
   "execution_count": 16,
   "id": "caf189ff",
   "metadata": {},
   "outputs": [
    {
     "data": {
      "text/plain": [
       "array([9, 5, 9, 9, 7])"
      ]
     },
     "execution_count": 16,
     "metadata": {},
     "output_type": "execute_result"
    }
   ],
   "source": [
    "# Solution 1\n",
    "np.amax(a, axis=1)\n",
    "\n",
    "# Solution 2\n",
    "np.apply_along_axis(np.max, arr=a, axis=1)"
   ]
  },
  {
   "cell_type": "code",
   "execution_count": null,
   "id": "f1792bc5",
   "metadata": {},
   "outputs": [],
   "source": []
  },
  {
   "cell_type": "code",
   "execution_count": null,
   "id": "f6254420",
   "metadata": {},
   "outputs": [],
   "source": []
  },
  {
   "cell_type": "code",
   "execution_count": null,
   "id": "850d3b0c",
   "metadata": {},
   "outputs": [],
   "source": []
  },
  {
   "cell_type": "code",
   "execution_count": null,
   "id": "1477f411",
   "metadata": {},
   "outputs": [],
   "source": []
  }
 ],
 "metadata": {
  "kernelspec": {
   "display_name": "Python 3 (ipykernel)",
   "language": "python",
   "name": "python3"
  },
  "language_info": {
   "codemirror_mode": {
    "name": "ipython",
    "version": 3
   },
   "file_extension": ".py",
   "mimetype": "text/x-python",
   "name": "python",
   "nbconvert_exporter": "python",
   "pygments_lexer": "ipython3",
   "version": "3.9.7"
  }
 },
 "nbformat": 4,
 "nbformat_minor": 5
}
