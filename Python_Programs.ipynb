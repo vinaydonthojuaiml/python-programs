{
  "nbformat": 4,
  "nbformat_minor": 0,
  "metadata": {
    "colab": {
      "provenance": [],
      "authorship_tag": "ABX9TyPCV3f94gALZyswFZm0nUCC",
      "include_colab_link": true
    },
    "kernelspec": {
      "name": "python3",
      "display_name": "Python 3"
    },
    "language_info": {
      "name": "python"
    }
  },
  "cells": [
    {
      "cell_type": "markdown",
      "metadata": {
        "id": "view-in-github",
        "colab_type": "text"
      },
      "source": [
        "<a href=\"https://colab.research.google.com/github/vinaydonthojuaiml/python-programs/blob/main/Python_Programs.ipynb\" target=\"_parent\"><img src=\"https://colab.research.google.com/assets/colab-badge.svg\" alt=\"Open In Colab\"/></a>"
      ]
    },
    {
      "cell_type": "code",
      "execution_count": 1,
      "metadata": {
        "colab": {
          "base_uri": "https://localhost:8080/"
        },
        "id": "mxbC9COIZvT7",
        "outputId": "881ed5be-1ca8-42ae-9201-0102f71ff004"
      },
      "outputs": [
        {
          "output_type": "stream",
          "name": "stdout",
          "text": [
            "Enter a Digit:2\n",
            "2 is TWO\n"
          ]
        }
      ],
      "source": [
        "#digitsex4.py\n",
        "d={1:\"ONE\",2:\"TWO\",3:\"THREE\",4:\"FOUR\",5:\"FIVE\",6:\"SIX\",7:\"SEVEN\",8:\"EIGHT\",9:\"NINE\",0:\"ZERO\"}\n",
        "dig=int(input(\"Enter a Digit:\"))\n",
        "if(d.get(dig)!=None):\n",
        "\tprint(\"{} is {}\".format(dig, d.get(dig)))\n",
        "else:\n",
        "\tprint(\"{} is not a Digit\".format(dig))"
      ]
    },
    {
      "cell_type": "code",
      "source": [],
      "metadata": {
        "id": "Vc5D6MBEZzKO"
      },
      "execution_count": null,
      "outputs": []
    }
  ]
}