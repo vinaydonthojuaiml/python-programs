{
  "nbformat": 4,
  "nbformat_minor": 0,
  "metadata": {
    "colab": {
      "provenance": [],
      "authorship_tag": "ABX9TyPJpBedDypvG/xpzmAOsqZ2",
      "include_colab_link": true
    },
    "kernelspec": {
      "name": "python3",
      "display_name": "Python 3"
    },
    "language_info": {
      "name": "python"
    }
  },
  "cells": [
    {
      "cell_type": "markdown",
      "metadata": {
        "id": "view-in-github",
        "colab_type": "text"
      },
      "source": [
        "<a href=\"https://colab.research.google.com/github/vinaydonthojuaiml/python-programs/blob/main/Python_Programs.ipynb\" target=\"_parent\"><img src=\"https://colab.research.google.com/assets/colab-badge.svg\" alt=\"Open In Colab\"/></a>"
      ]
    },
    {
      "cell_type": "code",
      "execution_count": 3,
      "metadata": {
        "colab": {
          "base_uri": "https://localhost:8080/"
        },
        "id": "bKa-clj-aVDL",
        "outputId": "a86677e8-43a5-4c40-8b02-1d2ec71a46f2"
      },
      "outputs": [
        {
          "output_type": "stream",
          "name": "stdout",
          "text": [
            "Sum of all elements in list1: 27\n"
          ]
        }
      ],
      "source": [
        "# Write a Python program to sum all the items in a list.\n",
        "\n",
        "total = 0\n",
        "#creating a list\n",
        "list1 = [2,3,4,5,6,7]\n",
        "\n",
        "#Iterate each element in list and add them in variables total\n",
        "\n",
        "for i in range(0,len(list1)):\n",
        "  total = total + list1[i]\n",
        "\n",
        "print(\"Sum of all elements in list1:\",total)\n"
      ]
    },
    {
      "cell_type": "code",
      "source": [],
      "metadata": {
        "id": "NQbMnzCHbPm3"
      },
      "execution_count": null,
      "outputs": []
    }
  ]
}