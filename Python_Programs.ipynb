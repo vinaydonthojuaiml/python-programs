{
  "nbformat": 4,
  "nbformat_minor": 0,
  "metadata": {
    "colab": {
      "provenance": [],
      "authorship_tag": "ABX9TyN4m9jAcnrHg8sfEQMVtehc",
      "include_colab_link": true
    },
    "kernelspec": {
      "name": "python3",
      "display_name": "Python 3"
    },
    "language_info": {
      "name": "python"
    }
  },
  "cells": [
    {
      "cell_type": "markdown",
      "metadata": {
        "id": "view-in-github",
        "colab_type": "text"
      },
      "source": [
        "<a href=\"https://colab.research.google.com/github/vinaydonthojuaiml/python-programs/blob/main/Python_Programs.ipynb\" target=\"_parent\"><img src=\"https://colab.research.google.com/assets/colab-badge.svg\" alt=\"Open In Colab\"/></a>"
      ]
    },
    {
      "cell_type": "code",
      "execution_count": null,
      "metadata": {
        "colab": {
          "base_uri": "https://localhost:8080/"
        },
        "id": "bKa-clj-aVDL",
        "outputId": "a86677e8-43a5-4c40-8b02-1d2ec71a46f2"
      },
      "outputs": [
        {
          "output_type": "stream",
          "name": "stdout",
          "text": [
            "Sum of all elements in list1: 27\n"
          ]
        }
      ],
      "source": [
        "# Write a Python program to sum all the items in a list.\n",
        "\n",
        "total = 0\n",
        "#creating a list\n",
        "list1 = [2,3,4,5,6,7]\n",
        "\n",
        "#Iterate each element in list and add them in variables total\n",
        "\n",
        "for i in range(0,len(list1)):\n",
        "  total = total + list1[i]\n",
        "\n",
        "print(\"Sum of all elements in list1:\",total)\n"
      ]
    },
    {
      "cell_type": "code",
      "source": [
        "# write a python program to sum two lists using for loop\n",
        "\n",
        "list1 = [1,2,3,4,5]\n",
        "list2= [2,3,4,5,6]\n",
        "\n",
        "result = [list1[i]+list2[i] for i in range(len(list1))]\n",
        "print(result)"
      ],
      "metadata": {
        "colab": {
          "base_uri": "https://localhost:8080/"
        },
        "id": "NQbMnzCHbPm3",
        "outputId": "b50e027b-29c1-427d-89ba-fd8012315b85"
      },
      "execution_count": null,
      "outputs": [
        {
          "output_type": "stream",
          "name": "stdout",
          "text": [
            "[3, 5, 7, 9, 11]\n"
          ]
        }
      ]
    },
    {
      "cell_type": "code",
      "source": [
        "zipped_lists = zip(list1,list2)\n",
        "result = [x+y for (x,y) in zipped_lists]\n",
        "print(result)"
      ],
      "metadata": {
        "colab": {
          "base_uri": "https://localhost:8080/"
        },
        "id": "u5mvdJf1ctWB",
        "outputId": "465ddba3-24ff-487c-a990-aceef6087951"
      },
      "execution_count": null,
      "outputs": [
        {
          "output_type": "stream",
          "name": "stdout",
          "text": [
            "[3, 5, 7, 9, 11]\n"
          ]
        }
      ]
    },
    {
      "cell_type": "code",
      "source": [
        "#Write a Python program to multiply all the items in a list.\n",
        "\n",
        "def multiply_list(myList):\n",
        "  result = 1\n",
        "  for i in myList:\n",
        "    result = result * i\n",
        "  return result\n",
        "\n",
        "list1 = [1,2,3,4]\n",
        "list2= [2,3,4,5]\n",
        "\n",
        "print(\"Multiply List1:\",multiply_list(list1))\n",
        "print(\"Multiply List2:\",multiply_list(list2))\n"
      ],
      "metadata": {
        "id": "j0c_97K2dv9r",
        "colab": {
          "base_uri": "https://localhost:8080/"
        },
        "outputId": "41280164-aa77-467b-b781-f754225de5f0"
      },
      "execution_count": 12,
      "outputs": [
        {
          "output_type": "stream",
          "name": "stdout",
          "text": [
            "Multiply List1: 24\n",
            "Multiply List2: 120\n"
          ]
        }
      ]
    },
    {
      "cell_type": "code",
      "source": [
        "# Write a Python program to get the largest number from a list.\n",
        "\n",
        "def myMax(list1):\n",
        "  max = list1[0]\n",
        "\n",
        "  for i in list1:\n",
        "    if i > max:\n",
        "      max = i\n",
        "  return max\n",
        "\n",
        "list1 = [23,45,21,43,28]\n",
        "print(\"Largest Number from a list:\",myMax(list1))\n"
      ],
      "metadata": {
        "colab": {
          "base_uri": "https://localhost:8080/"
        },
        "id": "CYKhc266rOJO",
        "outputId": "9688b224-034b-4f0b-a059-392b22736809"
      },
      "execution_count": 13,
      "outputs": [
        {
          "output_type": "stream",
          "name": "stdout",
          "text": [
            "Largest Number from a list: 45\n"
          ]
        }
      ]
    },
    {
      "cell_type": "code",
      "source": [
        "# Write a Python program to get the largest number from a list.\n",
        "\n",
        "def minList(list1):\n",
        "  min = list1[0]\n",
        "\n",
        "  for i in list1:\n",
        "    if i < min:\n",
        "      min = i\n",
        "  return min\n",
        "\n",
        "list1 = [23,45,21,43,28]\n",
        "print(\"Smallest Number:\",minList(list1))"
      ],
      "metadata": {
        "colab": {
          "base_uri": "https://localhost:8080/"
        },
        "id": "Xy0vMDoswwZ7",
        "outputId": "0b8b9aeb-37b0-43c5-b1c2-07cd88c061cd"
      },
      "execution_count": 14,
      "outputs": [
        {
          "output_type": "stream",
          "name": "stdout",
          "text": [
            "Smallest Number: 21\n"
          ]
        }
      ]
    },
    {
      "cell_type": "code",
      "source": [],
      "metadata": {
        "id": "fte_xVCGydGz"
      },
      "execution_count": null,
      "outputs": []
    }
  ]
}