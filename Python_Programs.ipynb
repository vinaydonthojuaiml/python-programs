{
  "nbformat": 4,
  "nbformat_minor": 0,
  "metadata": {
    "colab": {
      "provenance": [],
      "authorship_tag": "ABX9TyP5UDU+JT3SHGEq6b2/mgY9",
      "include_colab_link": true
    },
    "kernelspec": {
      "name": "python3",
      "display_name": "Python 3"
    },
    "language_info": {
      "name": "python"
    }
  },
  "cells": [
    {
      "cell_type": "markdown",
      "metadata": {
        "id": "view-in-github",
        "colab_type": "text"
      },
      "source": [
        "<a href=\"https://colab.research.google.com/github/vinaydonthojuaiml/python-programs/blob/main/Python_Programs.ipynb\" target=\"_parent\"><img src=\"https://colab.research.google.com/assets/colab-badge.svg\" alt=\"Open In Colab\"/></a>"
      ]
    },
    {
      "cell_type": "code",
      "execution_count": 5,
      "metadata": {
        "colab": {
          "base_uri": "https://localhost:8080/"
        },
        "id": "AB1ws5luGSNF",
        "outputId": "ba7d30d7-6e91-46ec-b376-ef4a28b1f812"
      },
      "outputs": [
        {
          "output_type": "stream",
          "name": "stdout",
          "text": [
            "Python\n",
            "Program\n",
            "Find\n",
            "Sequences\n",
            "Upper\n",
            "Followed\n",
            "Lower\n"
          ]
        }
      ],
      "source": [
        "#write a Python Program to Find the Sequences of one Upper letter case Followed by Lower case letters\n",
        "\n",
        "import re\n",
        "\n",
        "def find_sequences(text):\n",
        "  pattern = r'[A-Z][a-z]+'\n",
        "  matches = re.findall(pattern,text)\n",
        "  return matches\n",
        "\n",
        "text = \"write a Python Program to Find the Sequences of one Upper letter case Followed by Lower case letters\"\n",
        "sequences = find_sequences(text)\n",
        "for seq in sequences:\n",
        "  print(seq)"
      ]
    },
    {
      "cell_type": "code",
      "source": [],
      "metadata": {
        "id": "9rWF4ipnGvlA"
      },
      "execution_count": null,
      "outputs": []
    }
  ]
}