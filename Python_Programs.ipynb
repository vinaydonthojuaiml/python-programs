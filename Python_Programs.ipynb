{
  "nbformat": 4,
  "nbformat_minor": 0,
  "metadata": {
    "colab": {
      "provenance": [],
      "authorship_tag": "ABX9TyOm9vLNNu7XFn5XPS5Lzurz",
      "include_colab_link": true
    },
    "kernelspec": {
      "name": "python3",
      "display_name": "Python 3"
    },
    "language_info": {
      "name": "python"
    }
  },
  "cells": [
    {
      "cell_type": "markdown",
      "metadata": {
        "id": "view-in-github",
        "colab_type": "text"
      },
      "source": [
        "<a href=\"https://colab.research.google.com/github/vinaydonthojuaiml/python-programs/blob/main/Python_Programs.ipynb\" target=\"_parent\"><img src=\"https://colab.research.google.com/assets/colab-badge.svg\" alt=\"Open In Colab\"/></a>"
      ]
    },
    {
      "cell_type": "code",
      "execution_count": 5,
      "metadata": {
        "colab": {
          "base_uri": "https://localhost:8080/"
        },
        "id": "AB1ws5luGSNF",
        "outputId": "ba7d30d7-6e91-46ec-b376-ef4a28b1f812"
      },
      "outputs": [
        {
          "output_type": "stream",
          "name": "stdout",
          "text": [
            "Python\n",
            "Program\n",
            "Find\n",
            "Sequences\n",
            "Upper\n",
            "Followed\n",
            "Lower\n"
          ]
        }
      ],
      "source": [
        "#write a Python Program to Find the Sequences of one Upper letter case Followed by Lower case letters\n",
        "\n",
        "import re\n",
        "\n",
        "def find_sequences(text):\n",
        "  pattern = r'[A-Z][a-z]+'\n",
        "  matches = re.findall(pattern,text)\n",
        "  return matches\n",
        "\n",
        "text = \"write a Python Program to Find the Sequences of one Upper letter case Followed by Lower case letters\"\n",
        "sequences = find_sequences(text)\n",
        "for seq in sequences:\n",
        "  print(seq)"
      ]
    },
    {
      "cell_type": "code",
      "source": [
        "#write a python program that matches a word containing 'z', not at the start or end of the word\n",
        "\n",
        "import re\n",
        "\n",
        "def match_z_word(text_word):\n",
        "  pattern = r'\\b\\w*z\\w*\\b'\n",
        "  matches_z = re.search(pattern,text_word,re.IGNORECASE)\n",
        "  return bool(matches_z)\n",
        "\n",
        "text_word = \"amazing\"\n",
        "print(f\"Does the '{text_word}' contains 'z' not at the start or end? {match_z_word(text_word)}\")"
      ],
      "metadata": {
        "colab": {
          "base_uri": "https://localhost:8080/"
        },
        "id": "9rWF4ipnGvlA",
        "outputId": "c1b359fd-f983-43e6-fe7a-61dca99e3ad5"
      },
      "execution_count": 16,
      "outputs": [
        {
          "output_type": "stream",
          "name": "stdout",
          "text": [
            "Does the 'amazing' contains 'z' not at the start or end? True\n"
          ]
        }
      ]
    },
    {
      "cell_type": "code",
      "source": [],
      "metadata": {
        "id": "use3x8beNv8b"
      },
      "execution_count": null,
      "outputs": []
    }
  ]
}