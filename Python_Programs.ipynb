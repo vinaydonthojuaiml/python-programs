{
  "nbformat": 4,
  "nbformat_minor": 0,
  "metadata": {
    "colab": {
      "provenance": [],
      "authorship_tag": "ABX9TyNE58oc2S896z/Hxf8Yz0Vo",
      "include_colab_link": true
    },
    "kernelspec": {
      "name": "python3",
      "display_name": "Python 3"
    },
    "language_info": {
      "name": "python"
    }
  },
  "cells": [
    {
      "cell_type": "markdown",
      "metadata": {
        "id": "view-in-github",
        "colab_type": "text"
      },
      "source": [
        "<a href=\"https://colab.research.google.com/github/vinaydonthojuaiml/python-programs/blob/main/Python_Programs.ipynb\" target=\"_parent\"><img src=\"https://colab.research.google.com/assets/colab-badge.svg\" alt=\"Open In Colab\"/></a>"
      ]
    },
    {
      "cell_type": "code",
      "execution_count": 1,
      "metadata": {
        "colab": {
          "base_uri": "https://localhost:8080/"
        },
        "id": "mxbC9COIZvT7",
        "outputId": "881ed5be-1ca8-42ae-9201-0102f71ff004"
      },
      "outputs": [
        {
          "output_type": "stream",
          "name": "stdout",
          "text": [
            "Enter a Digit:2\n",
            "2 is TWO\n"
          ]
        }
      ],
      "source": [
        "#digitsex4.py\n",
        "d={1:\"ONE\",2:\"TWO\",3:\"THREE\",4:\"FOUR\",5:\"FIVE\",6:\"SIX\",7:\"SEVEN\",8:\"EIGHT\",9:\"NINE\",0:\"ZERO\"}\n",
        "dig=int(input(\"Enter a Digit:\"))\n",
        "if(d.get(dig)!=None):\n",
        "\tprint(\"{} is {}\".format(dig, d.get(dig)))\n",
        "else:\n",
        "\tprint(\"{} is not a Digit\".format(dig))"
      ]
    },
    {
      "cell_type": "code",
      "source": [
        "#Write a Python program to sum all the items in a list.\n",
        "\n",
        "list1 = [2,3,4,5]\n",
        "\n",
        "total = 0\n",
        "\n",
        "for ele in range(len(list1)):\n",
        "\n",
        "  total += list1[ele]\n",
        "\n",
        "  print(\"Sum of all the items in a list\",total)"
      ],
      "metadata": {
        "colab": {
          "base_uri": "https://localhost:8080/"
        },
        "id": "Vc5D6MBEZzKO",
        "outputId": "a3914f78-b278-4bcb-8bd2-cc57965c8c8d"
      },
      "execution_count": 4,
      "outputs": [
        {
          "output_type": "stream",
          "name": "stdout",
          "text": [
            "Sum of all the items in a list 2\n",
            "Sum of all the items in a list 5\n",
            "Sum of all the items in a list 9\n",
            "Sum of all the items in a list 14\n"
          ]
        }
      ]
    },
    {
      "cell_type": "code",
      "source": [
        "#Write a Python program to multiply all the items in a list.\n",
        "\n",
        "list1 = [2,3,4,5]\n",
        "\n",
        "total = 1\n",
        "\n",
        "for ele in range(len(list1)):\n",
        "  total *= list1[ele]\n",
        "\n",
        "  print(\"Multiply all the items in a list\",total)"
      ],
      "metadata": {
        "colab": {
          "base_uri": "https://localhost:8080/"
        },
        "id": "qEDf26iZ2-EV",
        "outputId": "03081c87-4640-490e-d39e-aa572209724e"
      },
      "execution_count": 7,
      "outputs": [
        {
          "output_type": "stream",
          "name": "stdout",
          "text": [
            "Multiply all the items in a list 2\n",
            "Multiply all the items in a list 6\n",
            "Multiply all the items in a list 24\n",
            "Multiply all the items in a list 120\n"
          ]
        }
      ]
    },
    {
      "cell_type": "code",
      "source": [
        "#Write a Python program to multiply all the items in a list.\n",
        "\n",
        "def multiply_list(myList):\n",
        "  result = 1\n",
        "\n",
        "  for i in myList:\n",
        "    result *= i\n",
        "  return result\n",
        "\n",
        "list1 = [1,2,3,4]\n",
        "print(\"Mutiply all the items in a list :{}\".format(multiply_list(list1)))\n",
        "\n",
        "\n"
      ],
      "metadata": {
        "colab": {
          "base_uri": "https://localhost:8080/"
        },
        "id": "taoF6l-81a1r",
        "outputId": "d518c001-e636-4b75-e978-780c47935adf"
      },
      "execution_count": 14,
      "outputs": [
        {
          "output_type": "stream",
          "name": "stdout",
          "text": [
            "Mutiply all the items in a list :24\n"
          ]
        }
      ]
    },
    {
      "cell_type": "code",
      "source": [
        "# Write a Python program to get the largest number from a list.\n",
        "\n",
        "def largest_number(list1):\n",
        "\n",
        "  max_value = list1[0]\n",
        "\n",
        "  for ele in list1:\n",
        "    if ele > max_value:\n",
        "      max_value = ele\n",
        "  return max_value\n",
        "\n",
        "list1 = [10,-3,56,78]\n",
        "\n",
        "print(\"Largest Number from the list:{}\".format(largest_number(list1)))"
      ],
      "metadata": {
        "colab": {
          "base_uri": "https://localhost:8080/"
        },
        "id": "S4mJcuhj4GcU",
        "outputId": "5fb00dfa-2d46-4c8e-9b44-19b0ba35b996"
      },
      "execution_count": 15,
      "outputs": [
        {
          "output_type": "stream",
          "name": "stdout",
          "text": [
            "Largest Number from the list:78\n"
          ]
        }
      ]
    },
    {
      "cell_type": "code",
      "source": [
        "# Write a Python program to get the smallest number from a list.\n",
        "\n",
        "def smallest_number(list1):\n",
        "  min_value = list1[0]\n",
        "\n",
        "  for ele in list1:\n",
        "    if ele < min_value:\n",
        "      min_value = ele\n",
        "  return min_value\n",
        "\n",
        "list1 = [2,3,-1,0]\n",
        "\n",
        "print(\"Smallest Number from the list:{}\".format(smallest_number(list1)))"
      ],
      "metadata": {
        "colab": {
          "base_uri": "https://localhost:8080/"
        },
        "id": "yEvNHpzM6Dfg",
        "outputId": "3ce858d6-c322-4d35-83db-0d5ed8e78903"
      },
      "execution_count": 16,
      "outputs": [
        {
          "output_type": "stream",
          "name": "stdout",
          "text": [
            "Smallest Number from the list:-1\n"
          ]
        }
      ]
    },
    {
      "cell_type": "code",
      "source": [],
      "metadata": {
        "id": "tewjwnuX6s9z"
      },
      "execution_count": null,
      "outputs": []
    }
  ]
}