{
  "nbformat": 4,
  "nbformat_minor": 0,
  "metadata": {
    "colab": {
      "provenance": [],
      "authorship_tag": "ABX9TyNXrTDiRQkszXL377nfbo+H",
      "include_colab_link": true
    },
    "kernelspec": {
      "name": "python3",
      "display_name": "Python 3"
    },
    "language_info": {
      "name": "python"
    }
  },
  "cells": [
    {
      "cell_type": "markdown",
      "metadata": {
        "id": "view-in-github",
        "colab_type": "text"
      },
      "source": [
        "<a href=\"https://colab.research.google.com/github/vinaydonthojuaiml/python-programs/blob/main/Python_Programs.ipynb\" target=\"_parent\"><img src=\"https://colab.research.google.com/assets/colab-badge.svg\" alt=\"Open In Colab\"/></a>"
      ]
    },
    {
      "cell_type": "code",
      "execution_count": 1,
      "metadata": {
        "colab": {
          "base_uri": "https://localhost:8080/"
        },
        "id": "mxbC9COIZvT7",
        "outputId": "881ed5be-1ca8-42ae-9201-0102f71ff004"
      },
      "outputs": [
        {
          "output_type": "stream",
          "name": "stdout",
          "text": [
            "Enter a Digit:2\n",
            "2 is TWO\n"
          ]
        }
      ],
      "source": [
        "#digitsex4.py\n",
        "d={1:\"ONE\",2:\"TWO\",3:\"THREE\",4:\"FOUR\",5:\"FIVE\",6:\"SIX\",7:\"SEVEN\",8:\"EIGHT\",9:\"NINE\",0:\"ZERO\"}\n",
        "dig=int(input(\"Enter a Digit:\"))\n",
        "if(d.get(dig)!=None):\n",
        "\tprint(\"{} is {}\".format(dig, d.get(dig)))\n",
        "else:\n",
        "\tprint(\"{} is not a Digit\".format(dig))"
      ]
    },
    {
      "cell_type": "code",
      "source": [
        "#Write a Python program to sum all the items in a list.\n",
        "\n",
        "list1 = [2,3,4,5]\n",
        "\n",
        "total = 0\n",
        "\n",
        "for ele in range(len(list1)):\n",
        "\n",
        "  total += list1[ele]\n",
        "\n",
        "  print(\"Sum of all the items in a list\",total)"
      ],
      "metadata": {
        "colab": {
          "base_uri": "https://localhost:8080/"
        },
        "id": "Vc5D6MBEZzKO",
        "outputId": "a3914f78-b278-4bcb-8bd2-cc57965c8c8d"
      },
      "execution_count": 4,
      "outputs": [
        {
          "output_type": "stream",
          "name": "stdout",
          "text": [
            "Sum of all the items in a list 2\n",
            "Sum of all the items in a list 5\n",
            "Sum of all the items in a list 9\n",
            "Sum of all the items in a list 14\n"
          ]
        }
      ]
    },
    {
      "cell_type": "code",
      "source": [],
      "metadata": {
        "id": "taoF6l-81a1r"
      },
      "execution_count": null,
      "outputs": []
    }
  ]
}